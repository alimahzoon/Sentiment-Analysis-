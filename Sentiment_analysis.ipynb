{
 "cells": [
  {
   "cell_type": "markdown",
   "metadata": {},
   "source": [
    "### Libraries"
   ]
  },
  {
   "cell_type": "code",
   "execution_count": 140,
   "metadata": {},
   "outputs": [],
   "source": [
    "import pandas as pd\n",
    "import numpy as np\n",
    "from collections import Counter\n",
    "import time\n",
    "import sys\n",
    "import re\n",
    "\n",
    "\n",
    "\n",
    "\n",
    "\n",
    "\n",
    "import warnings\n",
    "warnings.filterwarnings('ignore')"
   ]
  },
  {
   "cell_type": "code",
   "execution_count": 7,
   "metadata": {},
   "outputs": [
    {
     "name": "stderr",
     "output_type": "stream",
     "text": [
      "b'Skipping line 9076: expected 15 fields, saw 22\\nSkipping line 19256: expected 15 fields, saw 22\\nSkipping line 24313: expected 15 fields, saw 22\\nSkipping line 47211: expected 15 fields, saw 22\\nSkipping line 54295: expected 15 fields, saw 22\\nSkipping line 56641: expected 15 fields, saw 22\\nSkipping line 63067: expected 15 fields, saw 22\\n'\n",
      "b'Skipping line 93796: expected 15 fields, saw 22\\n'\n",
      "b'Skipping line 132806: expected 15 fields, saw 22\\nSkipping line 164631: expected 15 fields, saw 22\\nSkipping line 167019: expected 15 fields, saw 22\\nSkipping line 167212: expected 15 fields, saw 22\\n'\n",
      "b'Skipping line 198103: expected 15 fields, saw 22\\nSkipping line 199191: expected 15 fields, saw 22\\nSkipping line 202841: expected 15 fields, saw 22\\nSkipping line 218228: expected 15 fields, saw 22\\nSkipping line 235900: expected 15 fields, saw 22\\n'\n",
      "b'Skipping line 277761: expected 15 fields, saw 22\\nSkipping line 304582: expected 15 fields, saw 22\\nSkipping line 312029: expected 15 fields, saw 22\\n'\n",
      "b'Skipping line 343692: expected 15 fields, saw 22\\nSkipping line 352291: expected 15 fields, saw 22\\nSkipping line 363414: expected 15 fields, saw 22\\nSkipping line 378087: expected 15 fields, saw 22\\nSkipping line 378720: expected 15 fields, saw 22\\nSkipping line 378760: expected 15 fields, saw 22\\nSkipping line 379336: expected 15 fields, saw 22\\n'\n",
      "b'Skipping line 402682: expected 15 fields, saw 22\\n'\n",
      "b'Skipping line 466560: expected 15 fields, saw 22\\nSkipping line 486823: expected 15 fields, saw 22\\nSkipping line 489036: expected 15 fields, saw 22\\nSkipping line 496148: expected 15 fields, saw 22\\nSkipping line 522330: expected 15 fields, saw 22\\n'\n",
      "b'Skipping line 552961: expected 15 fields, saw 22\\nSkipping line 577388: expected 15 fields, saw 22\\nSkipping line 582182: expected 15 fields, saw 22\\n'\n",
      "b'Skipping line 590653: expected 15 fields, saw 22\\nSkipping line 608846: expected 15 fields, saw 22\\nSkipping line 615442: expected 15 fields, saw 22\\nSkipping line 645607: expected 15 fields, saw 22\\nSkipping line 654323: expected 15 fields, saw 22\\n'\n",
      "b'Skipping line 714935: expected 15 fields, saw 22\\n'\n",
      "b'Skipping line 749608: expected 15 fields, saw 22\\nSkipping line 753868: expected 15 fields, saw 22\\nSkipping line 762504: expected 15 fields, saw 22\\nSkipping line 771706: expected 15 fields, saw 22\\nSkipping line 773376: expected 15 fields, saw 22\\n'\n",
      "b'Skipping line 792407: expected 15 fields, saw 22\\nSkipping line 793933: expected 15 fields, saw 22\\nSkipping line 813269: expected 15 fields, saw 22\\nSkipping line 835491: expected 15 fields, saw 22\\nSkipping line 841176: expected 15 fields, saw 22\\nSkipping line 844604: expected 15 fields, saw 22\\n'\n",
      "b'Skipping line 857952: expected 15 fields, saw 22\\nSkipping line 859568: expected 15 fields, saw 22\\nSkipping line 860789: expected 15 fields, saw 22\\nSkipping line 863093: expected 15 fields, saw 22\\nSkipping line 881608: expected 15 fields, saw 22\\nSkipping line 891157: expected 15 fields, saw 22\\nSkipping line 893799: expected 15 fields, saw 22\\nSkipping line 906438: expected 15 fields, saw 22\\nSkipping line 914856: expected 15 fields, saw 22\\n'\n",
      "b'Skipping line 940736: expected 15 fields, saw 22\\nSkipping line 965818: expected 15 fields, saw 22\\n'\n",
      "b'Skipping line 993840: expected 15 fields, saw 22\\nSkipping line 1019036: expected 15 fields, saw 22\\nSkipping line 1019205: expected 15 fields, saw 22\\n'\n",
      "b'Skipping line 1058122: expected 15 fields, saw 22\\n'\n",
      "b'Skipping line 1144887: expected 15 fields, saw 22\\nSkipping line 1147255: expected 15 fields, saw 22\\nSkipping line 1164497: expected 15 fields, saw 22\\nSkipping line 1166930: expected 15 fields, saw 22\\n'\n",
      "b'Skipping line 1218319: expected 15 fields, saw 22\\nSkipping line 1232868: expected 15 fields, saw 22\\n'\n",
      "b'Skipping line 1307335: expected 15 fields, saw 22\\n'\n",
      "b'Skipping line 1621422: expected 15 fields, saw 22\\n'\n",
      "b'Skipping line 1857720: expected 15 fields, saw 22\\n'\n",
      "b'Skipping line 1935753: expected 15 fields, saw 22\\n'\n",
      "b'Skipping line 1988449: expected 15 fields, saw 22\\n'\n"
     ]
    }
   ],
   "source": [
    "df = pd.read_csv('Data/amazon_reviews_us_Electronics_v1_00.tsv.gz', sep='\\t', error_bad_lines=False)"
   ]
  },
  {
   "cell_type": "code",
   "execution_count": 8,
   "metadata": {},
   "outputs": [
    {
     "data": {
      "text/html": [
       "<div>\n",
       "<style scoped>\n",
       "    .dataframe tbody tr th:only-of-type {\n",
       "        vertical-align: middle;\n",
       "    }\n",
       "\n",
       "    .dataframe tbody tr th {\n",
       "        vertical-align: top;\n",
       "    }\n",
       "\n",
       "    .dataframe thead th {\n",
       "        text-align: right;\n",
       "    }\n",
       "</style>\n",
       "<table border=\"1\" class=\"dataframe\">\n",
       "  <thead>\n",
       "    <tr style=\"text-align: right;\">\n",
       "      <th></th>\n",
       "      <th>marketplace</th>\n",
       "      <th>customer_id</th>\n",
       "      <th>review_id</th>\n",
       "      <th>product_id</th>\n",
       "      <th>product_parent</th>\n",
       "      <th>product_title</th>\n",
       "      <th>product_category</th>\n",
       "      <th>star_rating</th>\n",
       "      <th>helpful_votes</th>\n",
       "      <th>total_votes</th>\n",
       "      <th>vine</th>\n",
       "      <th>verified_purchase</th>\n",
       "      <th>review_headline</th>\n",
       "      <th>review_body</th>\n",
       "      <th>review_date</th>\n",
       "    </tr>\n",
       "  </thead>\n",
       "  <tbody>\n",
       "    <tr>\n",
       "      <th>0</th>\n",
       "      <td>US</td>\n",
       "      <td>41409413</td>\n",
       "      <td>R2MTG1GCZLR2DK</td>\n",
       "      <td>B00428R89M</td>\n",
       "      <td>112201306</td>\n",
       "      <td>yoomall 5M Antenna WIFI RP-SMA Female to Male ...</td>\n",
       "      <td>Electronics</td>\n",
       "      <td>5</td>\n",
       "      <td>0</td>\n",
       "      <td>0</td>\n",
       "      <td>N</td>\n",
       "      <td>Y</td>\n",
       "      <td>Five Stars</td>\n",
       "      <td>As described.</td>\n",
       "      <td>2015-08-31</td>\n",
       "    </tr>\n",
       "    <tr>\n",
       "      <th>1</th>\n",
       "      <td>US</td>\n",
       "      <td>49668221</td>\n",
       "      <td>R2HBOEM8LE9928</td>\n",
       "      <td>B000068O48</td>\n",
       "      <td>734576678</td>\n",
       "      <td>Hosa GPM-103 3.5mm TRS to 1/4\" TRS Adaptor</td>\n",
       "      <td>Electronics</td>\n",
       "      <td>5</td>\n",
       "      <td>0</td>\n",
       "      <td>0</td>\n",
       "      <td>N</td>\n",
       "      <td>Y</td>\n",
       "      <td>It works as advertising.</td>\n",
       "      <td>It works as advertising.</td>\n",
       "      <td>2015-08-31</td>\n",
       "    </tr>\n",
       "    <tr>\n",
       "      <th>2</th>\n",
       "      <td>US</td>\n",
       "      <td>12338275</td>\n",
       "      <td>R1P4RW1R9FDPEE</td>\n",
       "      <td>B000GGKOG8</td>\n",
       "      <td>614448099</td>\n",
       "      <td>Channel Master Titan 2 Antenna Preamplifier</td>\n",
       "      <td>Electronics</td>\n",
       "      <td>5</td>\n",
       "      <td>1</td>\n",
       "      <td>1</td>\n",
       "      <td>N</td>\n",
       "      <td>Y</td>\n",
       "      <td>Five Stars</td>\n",
       "      <td>Works pissa</td>\n",
       "      <td>2015-08-31</td>\n",
       "    </tr>\n",
       "    <tr>\n",
       "      <th>3</th>\n",
       "      <td>US</td>\n",
       "      <td>38487968</td>\n",
       "      <td>R1EBPM82ENI67M</td>\n",
       "      <td>B000NU4OTA</td>\n",
       "      <td>72265257</td>\n",
       "      <td>LIMTECH Wall charger + USB Hotsync &amp; Charging ...</td>\n",
       "      <td>Electronics</td>\n",
       "      <td>1</td>\n",
       "      <td>0</td>\n",
       "      <td>0</td>\n",
       "      <td>N</td>\n",
       "      <td>Y</td>\n",
       "      <td>One Star</td>\n",
       "      <td>Did not work at all.</td>\n",
       "      <td>2015-08-31</td>\n",
       "    </tr>\n",
       "    <tr>\n",
       "      <th>4</th>\n",
       "      <td>US</td>\n",
       "      <td>23732619</td>\n",
       "      <td>R372S58V6D11AT</td>\n",
       "      <td>B00JOQIO6S</td>\n",
       "      <td>308169188</td>\n",
       "      <td>Skullcandy Air Raid Portable Bluetooth Speaker</td>\n",
       "      <td>Electronics</td>\n",
       "      <td>5</td>\n",
       "      <td>1</td>\n",
       "      <td>1</td>\n",
       "      <td>N</td>\n",
       "      <td>Y</td>\n",
       "      <td>Overall pleased with the item</td>\n",
       "      <td>Works well. Bass is somewhat lacking but is pr...</td>\n",
       "      <td>2015-08-31</td>\n",
       "    </tr>\n",
       "  </tbody>\n",
       "</table>\n",
       "</div>"
      ],
      "text/plain": [
       "  marketplace  customer_id       review_id  product_id  product_parent  \\\n",
       "0          US     41409413  R2MTG1GCZLR2DK  B00428R89M       112201306   \n",
       "1          US     49668221  R2HBOEM8LE9928  B000068O48       734576678   \n",
       "2          US     12338275  R1P4RW1R9FDPEE  B000GGKOG8       614448099   \n",
       "3          US     38487968  R1EBPM82ENI67M  B000NU4OTA        72265257   \n",
       "4          US     23732619  R372S58V6D11AT  B00JOQIO6S       308169188   \n",
       "\n",
       "                                       product_title product_category  \\\n",
       "0  yoomall 5M Antenna WIFI RP-SMA Female to Male ...      Electronics   \n",
       "1         Hosa GPM-103 3.5mm TRS to 1/4\" TRS Adaptor      Electronics   \n",
       "2        Channel Master Titan 2 Antenna Preamplifier      Electronics   \n",
       "3  LIMTECH Wall charger + USB Hotsync & Charging ...      Electronics   \n",
       "4     Skullcandy Air Raid Portable Bluetooth Speaker      Electronics   \n",
       "\n",
       "   star_rating  helpful_votes  total_votes vine verified_purchase  \\\n",
       "0            5              0            0    N                 Y   \n",
       "1            5              0            0    N                 Y   \n",
       "2            5              1            1    N                 Y   \n",
       "3            1              0            0    N                 Y   \n",
       "4            5              1            1    N                 Y   \n",
       "\n",
       "                 review_headline  \\\n",
       "0                     Five Stars   \n",
       "1       It works as advertising.   \n",
       "2                     Five Stars   \n",
       "3                       One Star   \n",
       "4  Overall pleased with the item   \n",
       "\n",
       "                                         review_body review_date  \n",
       "0                                      As described.  2015-08-31  \n",
       "1                           It works as advertising.  2015-08-31  \n",
       "2                                        Works pissa  2015-08-31  \n",
       "3                               Did not work at all.  2015-08-31  \n",
       "4  Works well. Bass is somewhat lacking but is pr...  2015-08-31  "
      ]
     },
     "execution_count": 8,
     "metadata": {},
     "output_type": "execute_result"
    }
   ],
   "source": [
    "df.head()"
   ]
  },
  {
   "cell_type": "markdown",
   "metadata": {},
   "source": [
    "DATA COLUMNS:\n",
    "\n",
    "marketplace       - 2 letter country code of the marketplace where the review was written.\n",
    "\n",
    "customer_id       - Random identifier that can be used to aggregate reviews written by a single author.\n",
    "\n",
    "review_id         - The unique ID of the review.\n",
    "\n",
    "product_id        - The unique Product ID the review pertains to. In the multilingual dataset the reviews\n",
    "                    for the same product in different countries can be grouped by the same product_id.\n",
    "                    \n",
    "product_parent    - Random identifier that can be used to aggregate reviews for the same product.\n",
    "\n",
    "product_title     - Title of the product.\n",
    "\n",
    "product_category  - Broad product category that can be used to group reviews \n",
    "                    (also used to group the dataset into coherent parts).\n",
    "                    \n",
    "star_rating       - The 1-5 star rating of the review.\n",
    "\n",
    "helpful_votes     - Number of helpful votes.\n",
    "\n",
    "total_votes       - Number of total votes the review received.\n",
    "\n",
    "vine              - Review was written as part of the Vine program.\n",
    "\n",
    "verified_purchase - The review is on a verified purchase.\n",
    "\n",
    "review_headline   - The title of the review.\n",
    "\n",
    "review_body       - The review text.\n",
    "\n",
    "review_date       - The date the review was written.\n"
   ]
  },
  {
   "cell_type": "markdown",
   "metadata": {},
   "source": [
    "### Data Cleaning"
   ]
  },
  {
   "cell_type": "code",
   "execution_count": 23,
   "metadata": {},
   "outputs": [
    {
     "data": {
      "text/plain": [
       "(3090877, 15)"
      ]
     },
     "execution_count": 23,
     "metadata": {},
     "output_type": "execute_result"
    }
   ],
   "source": [
    "#shape of the dataframe (3 million rows and 15 columns)\n",
    "df.shape"
   ]
  },
  {
   "cell_type": "code",
   "execution_count": 12,
   "metadata": {},
   "outputs": [
    {
     "name": "stdout",
     "output_type": "stream",
     "text": [
      "<class 'pandas.core.frame.DataFrame'>\n",
      "RangeIndex: 3091024 entries, 0 to 3091023\n",
      "Data columns (total 15 columns):\n",
      "marketplace          object\n",
      "customer_id          int64\n",
      "review_id            object\n",
      "product_id           object\n",
      "product_parent       int64\n",
      "product_title        object\n",
      "product_category     object\n",
      "star_rating          int64\n",
      "helpful_votes        int64\n",
      "total_votes          int64\n",
      "vine                 object\n",
      "verified_purchase    object\n",
      "review_headline      object\n",
      "review_body          object\n",
      "review_date          object\n",
      "dtypes: int64(5), object(10)\n",
      "memory usage: 353.7+ MB\n"
     ]
    }
   ],
   "source": [
    "df.info()"
   ]
  },
  {
   "cell_type": "code",
   "execution_count": 16,
   "metadata": {},
   "outputs": [
    {
     "data": {
      "text/plain": [
       "marketplace           0\n",
       "customer_id           0\n",
       "review_id             0\n",
       "product_id            0\n",
       "product_parent        0\n",
       "product_title         4\n",
       "product_category      0\n",
       "star_rating           0\n",
       "helpful_votes         0\n",
       "total_votes           0\n",
       "vine                  0\n",
       "verified_purchase     0\n",
       "review_headline      31\n",
       "review_body          88\n",
       "review_date          24\n",
       "dtype: int64"
      ]
     },
     "execution_count": 16,
     "metadata": {},
     "output_type": "execute_result"
    }
   ],
   "source": [
    "#to check if there is any null value in our dataframe\n",
    "df.isna().sum()"
   ]
  },
  {
   "cell_type": "code",
   "execution_count": 17,
   "metadata": {},
   "outputs": [],
   "source": [
    "#drop null values \n",
    "df.dropna(inplace=True)"
   ]
  },
  {
   "cell_type": "code",
   "execution_count": 19,
   "metadata": {},
   "outputs": [
    {
     "data": {
      "text/plain": [
       "Y    2597511\n",
       "N     493366\n",
       "Name: verified_purchase, dtype: int64"
      ]
     },
     "execution_count": 19,
     "metadata": {},
     "output_type": "execute_result"
    }
   ],
   "source": [
    "#reviews of people who bought the product and have an opinion about it matters the most\n",
    "df.verified_purchase.value_counts()"
   ]
  },
  {
   "cell_type": "code",
   "execution_count": 20,
   "metadata": {},
   "outputs": [],
   "source": [
    "#drop those reviews who didn't buy the product\n",
    "df1 = df[df.verified_purchase != 'N']"
   ]
  },
  {
   "cell_type": "code",
   "execution_count": 21,
   "metadata": {},
   "outputs": [
    {
     "data": {
      "text/plain": [
       "Y    2597511\n",
       "Name: verified_purchase, dtype: int64"
      ]
     },
     "execution_count": 21,
     "metadata": {},
     "output_type": "execute_result"
    }
   ],
   "source": [
    "#now our datafarmae only has contains reviews of people that bought the product\n",
    "df1.verified_purchase.value_counts()"
   ]
  },
  {
   "cell_type": "code",
   "execution_count": 22,
   "metadata": {},
   "outputs": [
    {
     "data": {
      "text/plain": [
       "5    1540908\n",
       "4     443627\n",
       "1     276682\n",
       "3     195640\n",
       "2     140654\n",
       "Name: star_rating, dtype: int64"
      ]
     },
     "execution_count": 22,
     "metadata": {},
     "output_type": "execute_result"
    }
   ],
   "source": [
    "#check the class imbalance\n",
    "df1.star_rating.value_counts()"
   ]
  },
  {
   "cell_type": "code",
   "execution_count": 24,
   "metadata": {},
   "outputs": [
    {
     "data": {
      "text/plain": [
       "Index(['marketplace', 'customer_id', 'review_id', 'product_id',\n",
       "       'product_parent', 'product_title', 'product_category', 'star_rating',\n",
       "       'helpful_votes', 'total_votes', 'vine', 'verified_purchase',\n",
       "       'review_headline', 'review_body', 'review_date'],\n",
       "      dtype='object')"
      ]
     },
     "execution_count": 24,
     "metadata": {},
     "output_type": "execute_result"
    }
   ],
   "source": [
    "#show the name of the columns\n",
    "df1.columns"
   ]
  },
  {
   "cell_type": "code",
   "execution_count": 27,
   "metadata": {},
   "outputs": [],
   "source": [
    "# Create a new dataframe and drop all the columns that we are not going to use them\n",
    "df2 = df1.drop(columns=['marketplace','customer_id','review_id','product_id','product_parent','product_category',\n",
    "                       'helpful_votes','total_votes','vine','review_date','verified_purchase'])"
   ]
  },
  {
   "cell_type": "code",
   "execution_count": 28,
   "metadata": {},
   "outputs": [
    {
     "data": {
      "text/html": [
       "<div>\n",
       "<style scoped>\n",
       "    .dataframe tbody tr th:only-of-type {\n",
       "        vertical-align: middle;\n",
       "    }\n",
       "\n",
       "    .dataframe tbody tr th {\n",
       "        vertical-align: top;\n",
       "    }\n",
       "\n",
       "    .dataframe thead th {\n",
       "        text-align: right;\n",
       "    }\n",
       "</style>\n",
       "<table border=\"1\" class=\"dataframe\">\n",
       "  <thead>\n",
       "    <tr style=\"text-align: right;\">\n",
       "      <th></th>\n",
       "      <th>product_title</th>\n",
       "      <th>star_rating</th>\n",
       "      <th>review_headline</th>\n",
       "      <th>review_body</th>\n",
       "    </tr>\n",
       "  </thead>\n",
       "  <tbody>\n",
       "    <tr>\n",
       "      <th>0</th>\n",
       "      <td>yoomall 5M Antenna WIFI RP-SMA Female to Male ...</td>\n",
       "      <td>5</td>\n",
       "      <td>Five Stars</td>\n",
       "      <td>As described.</td>\n",
       "    </tr>\n",
       "    <tr>\n",
       "      <th>1</th>\n",
       "      <td>Hosa GPM-103 3.5mm TRS to 1/4\" TRS Adaptor</td>\n",
       "      <td>5</td>\n",
       "      <td>It works as advertising.</td>\n",
       "      <td>It works as advertising.</td>\n",
       "    </tr>\n",
       "    <tr>\n",
       "      <th>2</th>\n",
       "      <td>Channel Master Titan 2 Antenna Preamplifier</td>\n",
       "      <td>5</td>\n",
       "      <td>Five Stars</td>\n",
       "      <td>Works pissa</td>\n",
       "    </tr>\n",
       "    <tr>\n",
       "      <th>3</th>\n",
       "      <td>LIMTECH Wall charger + USB Hotsync &amp; Charging ...</td>\n",
       "      <td>1</td>\n",
       "      <td>One Star</td>\n",
       "      <td>Did not work at all.</td>\n",
       "    </tr>\n",
       "    <tr>\n",
       "      <th>4</th>\n",
       "      <td>Skullcandy Air Raid Portable Bluetooth Speaker</td>\n",
       "      <td>5</td>\n",
       "      <td>Overall pleased with the item</td>\n",
       "      <td>Works well. Bass is somewhat lacking but is pr...</td>\n",
       "    </tr>\n",
       "  </tbody>\n",
       "</table>\n",
       "</div>"
      ],
      "text/plain": [
       "                                       product_title  star_rating  \\\n",
       "0  yoomall 5M Antenna WIFI RP-SMA Female to Male ...            5   \n",
       "1         Hosa GPM-103 3.5mm TRS to 1/4\" TRS Adaptor            5   \n",
       "2        Channel Master Titan 2 Antenna Preamplifier            5   \n",
       "3  LIMTECH Wall charger + USB Hotsync & Charging ...            1   \n",
       "4     Skullcandy Air Raid Portable Bluetooth Speaker            5   \n",
       "\n",
       "                 review_headline  \\\n",
       "0                     Five Stars   \n",
       "1       It works as advertising.   \n",
       "2                     Five Stars   \n",
       "3                       One Star   \n",
       "4  Overall pleased with the item   \n",
       "\n",
       "                                         review_body  \n",
       "0                                      As described.  \n",
       "1                           It works as advertising.  \n",
       "2                                        Works pissa  \n",
       "3                               Did not work at all.  \n",
       "4  Works well. Bass is somewhat lacking but is pr...  "
      ]
     },
     "execution_count": 28,
     "metadata": {},
     "output_type": "execute_result"
    }
   ],
   "source": [
    "df2.head()"
   ]
  },
  {
   "cell_type": "code",
   "execution_count": 38,
   "metadata": {},
   "outputs": [],
   "source": [
    "#create DFs of each class\n",
    "df_class1 = df2[df2.star_rating == 1]\n",
    "df_class2 = df2[df2.star_rating == 2]\n",
    "df_class3 = df2[df2.star_rating == 3]\n",
    "df_class4 = df2[df2.star_rating == 4]\n",
    "df_class5 = df2[df2.star_rating == 5]"
   ]
  },
  {
   "cell_type": "code",
   "execution_count": 39,
   "metadata": {},
   "outputs": [],
   "source": [
    "#sample the data of star rating of 5 and 4, because more than 70% of the reviews belong to label 5\n",
    "df_class5 = df_class5.sample(n=200000, random_state=52)\n",
    "df_class4 = df_class4.sample(n=200000, random_state=52)"
   ]
  },
  {
   "cell_type": "code",
   "execution_count": 41,
   "metadata": {},
   "outputs": [
    {
     "name": "stdout",
     "output_type": "stream",
     "text": [
      "<class 'pandas.core.frame.DataFrame'>\n",
      "RangeIndex: 1012976 entries, 0 to 1012975\n",
      "Data columns (total 4 columns):\n",
      "product_title      1012976 non-null object\n",
      "star_rating        1012976 non-null int64\n",
      "review_headline    1012976 non-null object\n",
      "review_body        1012976 non-null object\n",
      "dtypes: int64(1), object(3)\n",
      "memory usage: 30.9+ MB\n"
     ]
    }
   ],
   "source": [
    "#concatinate the dataframes\n",
    "df3 = pd.concat([df_class1, df_class2,df_class3,df_class4,df_class5], ignore_index=True)\n",
    "df3.info()"
   ]
  },
  {
   "cell_type": "code",
   "execution_count": 42,
   "metadata": {},
   "outputs": [
    {
     "data": {
      "text/plain": [
       "1    276682\n",
       "5    200000\n",
       "4    200000\n",
       "3    195640\n",
       "2    140654\n",
       "Name: star_rating, dtype: int64"
      ]
     },
     "execution_count": 42,
     "metadata": {},
     "output_type": "execute_result"
    }
   ],
   "source": [
    "#check the class imbalance\n",
    "df3.star_rating.value_counts()"
   ]
  },
  {
   "cell_type": "code",
   "execution_count": 79,
   "metadata": {},
   "outputs": [
    {
     "data": {
      "text/html": [
       "<div>\n",
       "<style scoped>\n",
       "    .dataframe tbody tr th:only-of-type {\n",
       "        vertical-align: middle;\n",
       "    }\n",
       "\n",
       "    .dataframe tbody tr th {\n",
       "        vertical-align: top;\n",
       "    }\n",
       "\n",
       "    .dataframe thead th {\n",
       "        text-align: right;\n",
       "    }\n",
       "</style>\n",
       "<table border=\"1\" class=\"dataframe\">\n",
       "  <thead>\n",
       "    <tr style=\"text-align: right;\">\n",
       "      <th></th>\n",
       "      <th>product_title</th>\n",
       "      <th>star_rating</th>\n",
       "      <th>review_headline</th>\n",
       "      <th>review_body</th>\n",
       "    </tr>\n",
       "  </thead>\n",
       "  <tbody>\n",
       "    <tr>\n",
       "      <th>0</th>\n",
       "      <td>Logitech 915-000162 Harmony 700 Rechargeable R...</td>\n",
       "      <td>1</td>\n",
       "      <td>doesnt select the correct input on tv</td>\n",
       "      <td>When changing &amp;#34;activities,&amp;#34; it does no...</td>\n",
       "    </tr>\n",
       "    <tr>\n",
       "      <th>1</th>\n",
       "      <td>JLab JBuds Hi-Fi Noise-Reducing Ear Buds (Purple)</td>\n",
       "      <td>1</td>\n",
       "      <td>A real sack of crap</td>\n",
       "      <td>These are the worst earphones I've ever owned....</td>\n",
       "    </tr>\n",
       "    <tr>\n",
       "      <th>2</th>\n",
       "      <td>Panasonic ErgoFit In-Ear Earbud Headphone</td>\n",
       "      <td>4</td>\n",
       "      <td>High quality sound</td>\n",
       "      <td>Nice sound quality, stays in ears while in the...</td>\n",
       "    </tr>\n",
       "    <tr>\n",
       "      <th>3</th>\n",
       "      <td>Soundsoul(TM) Noise-isolating Sport In-ear Hea...</td>\n",
       "      <td>1</td>\n",
       "      <td>One Star Is Too Generous</td>\n",
       "      <td>I threw this pair of headphones into the trash...</td>\n",
       "    </tr>\n",
       "    <tr>\n",
       "      <th>4</th>\n",
       "      <td>Mpow Edge Wireless Bluetooth 4.0 Headset Headp...</td>\n",
       "      <td>1</td>\n",
       "      <td>It's a nice looking headset and comfortable to...</td>\n",
       "      <td>Unfortunately, this headset didn't work well a...</td>\n",
       "    </tr>\n",
       "  </tbody>\n",
       "</table>\n",
       "</div>"
      ],
      "text/plain": [
       "                                       product_title  star_rating  \\\n",
       "0  Logitech 915-000162 Harmony 700 Rechargeable R...            1   \n",
       "1  JLab JBuds Hi-Fi Noise-Reducing Ear Buds (Purple)            1   \n",
       "2          Panasonic ErgoFit In-Ear Earbud Headphone            4   \n",
       "3  Soundsoul(TM) Noise-isolating Sport In-ear Hea...            1   \n",
       "4  Mpow Edge Wireless Bluetooth 4.0 Headset Headp...            1   \n",
       "\n",
       "                                     review_headline  \\\n",
       "0              doesnt select the correct input on tv   \n",
       "1                                A real sack of crap   \n",
       "2                                 High quality sound   \n",
       "3                           One Star Is Too Generous   \n",
       "4  It's a nice looking headset and comfortable to...   \n",
       "\n",
       "                                         review_body  \n",
       "0  When changing &#34;activities,&#34; it does no...  \n",
       "1  These are the worst earphones I've ever owned....  \n",
       "2  Nice sound quality, stays in ears while in the...  \n",
       "3  I threw this pair of headphones into the trash...  \n",
       "4  Unfortunately, this headset didn't work well a...  "
      ]
     },
     "execution_count": 79,
     "metadata": {},
     "output_type": "execute_result"
    }
   ],
   "source": [
    "#shuffle the dataframe,  so all labels wouldn't be in order.\n",
    "df4 = df3.sample(frac=1).reset_index(drop=True)\n",
    "df4.head()"
   ]
  },
  {
   "cell_type": "code",
   "execution_count": 80,
   "metadata": {},
   "outputs": [],
   "source": [
    "#feature engineering a column that shows the feeling of the review (emotion)\n",
    "def emotion(row):\n",
    "    if row.star_rating == 1 or row.star_rating == 2:\n",
    "        y = 'Negative'\n",
    "    elif row.star_rating == 4 or row.star_rating == 5:\n",
    "        y = 'Positive'\n",
    "    else:\n",
    "        y = \"Neutral\"\n",
    "    return y       "
   ]
  },
  {
   "cell_type": "code",
   "execution_count": 81,
   "metadata": {},
   "outputs": [],
   "source": [
    "#create the new column on the fly\n",
    "df4['emotion'] = df4.apply(lambda row: emotion(row), axis=1)"
   ]
  },
  {
   "cell_type": "code",
   "execution_count": 83,
   "metadata": {},
   "outputs": [
    {
     "data": {
      "text/html": [
       "<div>\n",
       "<style scoped>\n",
       "    .dataframe tbody tr th:only-of-type {\n",
       "        vertical-align: middle;\n",
       "    }\n",
       "\n",
       "    .dataframe tbody tr th {\n",
       "        vertical-align: top;\n",
       "    }\n",
       "\n",
       "    .dataframe thead th {\n",
       "        text-align: right;\n",
       "    }\n",
       "</style>\n",
       "<table border=\"1\" class=\"dataframe\">\n",
       "  <thead>\n",
       "    <tr style=\"text-align: right;\">\n",
       "      <th></th>\n",
       "      <th>product_title</th>\n",
       "      <th>star_rating</th>\n",
       "      <th>review_headline</th>\n",
       "      <th>review_body</th>\n",
       "      <th>emotion</th>\n",
       "    </tr>\n",
       "  </thead>\n",
       "  <tbody>\n",
       "    <tr>\n",
       "      <th>0</th>\n",
       "      <td>Logitech 915-000162 Harmony 700 Rechargeable R...</td>\n",
       "      <td>1</td>\n",
       "      <td>doesnt select the correct input on tv</td>\n",
       "      <td>When changing &amp;#34;activities,&amp;#34; it does no...</td>\n",
       "      <td>Negative</td>\n",
       "    </tr>\n",
       "    <tr>\n",
       "      <th>1</th>\n",
       "      <td>JLab JBuds Hi-Fi Noise-Reducing Ear Buds (Purple)</td>\n",
       "      <td>1</td>\n",
       "      <td>A real sack of crap</td>\n",
       "      <td>These are the worst earphones I've ever owned....</td>\n",
       "      <td>Negative</td>\n",
       "    </tr>\n",
       "    <tr>\n",
       "      <th>2</th>\n",
       "      <td>Panasonic ErgoFit In-Ear Earbud Headphone</td>\n",
       "      <td>4</td>\n",
       "      <td>High quality sound</td>\n",
       "      <td>Nice sound quality, stays in ears while in the...</td>\n",
       "      <td>Positive</td>\n",
       "    </tr>\n",
       "    <tr>\n",
       "      <th>3</th>\n",
       "      <td>Soundsoul(TM) Noise-isolating Sport In-ear Hea...</td>\n",
       "      <td>1</td>\n",
       "      <td>One Star Is Too Generous</td>\n",
       "      <td>I threw this pair of headphones into the trash...</td>\n",
       "      <td>Negative</td>\n",
       "    </tr>\n",
       "    <tr>\n",
       "      <th>4</th>\n",
       "      <td>Mpow Edge Wireless Bluetooth 4.0 Headset Headp...</td>\n",
       "      <td>1</td>\n",
       "      <td>It's a nice looking headset and comfortable to...</td>\n",
       "      <td>Unfortunately, this headset didn't work well a...</td>\n",
       "      <td>Negative</td>\n",
       "    </tr>\n",
       "  </tbody>\n",
       "</table>\n",
       "</div>"
      ],
      "text/plain": [
       "                                       product_title  star_rating  \\\n",
       "0  Logitech 915-000162 Harmony 700 Rechargeable R...            1   \n",
       "1  JLab JBuds Hi-Fi Noise-Reducing Ear Buds (Purple)            1   \n",
       "2          Panasonic ErgoFit In-Ear Earbud Headphone            4   \n",
       "3  Soundsoul(TM) Noise-isolating Sport In-ear Hea...            1   \n",
       "4  Mpow Edge Wireless Bluetooth 4.0 Headset Headp...            1   \n",
       "\n",
       "                                     review_headline  \\\n",
       "0              doesnt select the correct input on tv   \n",
       "1                                A real sack of crap   \n",
       "2                                 High quality sound   \n",
       "3                           One Star Is Too Generous   \n",
       "4  It's a nice looking headset and comfortable to...   \n",
       "\n",
       "                                         review_body   emotion  \n",
       "0  When changing &#34;activities,&#34; it does no...  Negative  \n",
       "1  These are the worst earphones I've ever owned....  Negative  \n",
       "2  Nice sound quality, stays in ears while in the...  Positive  \n",
       "3  I threw this pair of headphones into the trash...  Negative  \n",
       "4  Unfortunately, this headset didn't work well a...  Negative  "
      ]
     },
     "execution_count": 83,
     "metadata": {},
     "output_type": "execute_result"
    }
   ],
   "source": [
    "df4.head()"
   ]
  },
  {
   "cell_type": "markdown",
   "metadata": {},
   "source": [
    "#### Text Cleaning"
   ]
  },
  {
   "cell_type": "code",
   "execution_count": 167,
   "metadata": {},
   "outputs": [],
   "source": [
    "#define a function to remove special characters, make all letters lower, and remove additional spaces\n",
    "def text_cleaner(sentence):\n",
    "    sentence = sentence.lower()\n",
    "    cleaner = re.compile('[^a-z]')\n",
    "    cleantext = re.sub(cleaner, ' ', sentence)\n",
    "    cleaner1 = re.compile('\\s+')\n",
    "    cleantext2 = re.sub(cleaner1, ' ', cleantext)\n",
    "    return cleantext2"
   ]
  },
  {
   "cell_type": "code",
   "execution_count": 168,
   "metadata": {},
   "outputs": [],
   "source": [
    "df4['clean_review'] = df4['review_body'].map(lambda s:text_cleaner(s))"
   ]
  },
  {
   "cell_type": "code",
   "execution_count": 282,
   "metadata": {},
   "outputs": [
    {
     "data": {
      "text/html": [
       "<div>\n",
       "<style scoped>\n",
       "    .dataframe tbody tr th:only-of-type {\n",
       "        vertical-align: middle;\n",
       "    }\n",
       "\n",
       "    .dataframe tbody tr th {\n",
       "        vertical-align: top;\n",
       "    }\n",
       "\n",
       "    .dataframe thead th {\n",
       "        text-align: right;\n",
       "    }\n",
       "</style>\n",
       "<table border=\"1\" class=\"dataframe\">\n",
       "  <thead>\n",
       "    <tr style=\"text-align: right;\">\n",
       "      <th></th>\n",
       "      <th>product_title</th>\n",
       "      <th>star_rating</th>\n",
       "      <th>review_headline</th>\n",
       "      <th>review_body</th>\n",
       "      <th>emotion</th>\n",
       "      <th>clean_review</th>\n",
       "    </tr>\n",
       "  </thead>\n",
       "  <tbody>\n",
       "    <tr>\n",
       "      <th>1012971</th>\n",
       "      <td>AECO Bluetooth4.0 Headphones Supports NFC Blue...</td>\n",
       "      <td>3</td>\n",
       "      <td>Sound good, the rest is bad</td>\n",
       "      <td>Sound is good enough. I can kick the volume al...</td>\n",
       "      <td>Neutral</td>\n",
       "      <td>sound is good enough i can kick the volume all...</td>\n",
       "    </tr>\n",
       "    <tr>\n",
       "      <th>1012972</th>\n",
       "      <td>Cables To Go 3.5 mm Male/Female Stereo Audio E...</td>\n",
       "      <td>2</td>\n",
       "      <td>The shortage wasn't even at the connection poi...</td>\n",
       "      <td>They are made very cheap and only one side wou...</td>\n",
       "      <td>Negative</td>\n",
       "      <td>they are made very cheap and only one side wou...</td>\n",
       "    </tr>\n",
       "    <tr>\n",
       "      <th>1012973</th>\n",
       "      <td>Generic Replacement for Sony XL-5100 Replaceme...</td>\n",
       "      <td>3</td>\n",
       "      <td>Not as bright</td>\n",
       "      <td>I purchased this lamp and thought it would be ...</td>\n",
       "      <td>Neutral</td>\n",
       "      <td>i purchased this lamp and thought it would be ...</td>\n",
       "    </tr>\n",
       "    <tr>\n",
       "      <th>1012974</th>\n",
       "      <td>Electroline EDA2100 Bi-Directional Signal Boos...</td>\n",
       "      <td>1</td>\n",
       "      <td>Does not do what is listed on this product. ...</td>\n",
       "      <td>Does not do what is listed on this product. It...</td>\n",
       "      <td>Negative</td>\n",
       "      <td>does not do what is listed on this product it ...</td>\n",
       "    </tr>\n",
       "    <tr>\n",
       "      <th>1012975</th>\n",
       "      <td>Yamaha RX-V473 Receiver</td>\n",
       "      <td>3</td>\n",
       "      <td>Been working well for sometime but lately I've...</td>\n",
       "      <td>Been working well for sometime but lately I've...</td>\n",
       "      <td>Neutral</td>\n",
       "      <td>been working well for sometime but lately i ve...</td>\n",
       "    </tr>\n",
       "  </tbody>\n",
       "</table>\n",
       "</div>"
      ],
      "text/plain": [
       "                                             product_title  star_rating  \\\n",
       "1012971  AECO Bluetooth4.0 Headphones Supports NFC Blue...            3   \n",
       "1012972  Cables To Go 3.5 mm Male/Female Stereo Audio E...            2   \n",
       "1012973  Generic Replacement for Sony XL-5100 Replaceme...            3   \n",
       "1012974  Electroline EDA2100 Bi-Directional Signal Boos...            1   \n",
       "1012975                            Yamaha RX-V473 Receiver            3   \n",
       "\n",
       "                                           review_headline  \\\n",
       "1012971                        Sound good, the rest is bad   \n",
       "1012972  The shortage wasn't even at the connection poi...   \n",
       "1012973                                      Not as bright   \n",
       "1012974    Does not do what is listed on this product. ...   \n",
       "1012975  Been working well for sometime but lately I've...   \n",
       "\n",
       "                                               review_body   emotion  \\\n",
       "1012971  Sound is good enough. I can kick the volume al...   Neutral   \n",
       "1012972  They are made very cheap and only one side wou...  Negative   \n",
       "1012973  I purchased this lamp and thought it would be ...   Neutral   \n",
       "1012974  Does not do what is listed on this product. It...  Negative   \n",
       "1012975  Been working well for sometime but lately I've...   Neutral   \n",
       "\n",
       "                                              clean_review  \n",
       "1012971  sound is good enough i can kick the volume all...  \n",
       "1012972  they are made very cheap and only one side wou...  \n",
       "1012973  i purchased this lamp and thought it would be ...  \n",
       "1012974  does not do what is listed on this product it ...  \n",
       "1012975  been working well for sometime but lately i ve...  "
      ]
     },
     "execution_count": 282,
     "metadata": {},
     "output_type": "execute_result"
    }
   ],
   "source": [
    "df4.tail(5)"
   ]
  },
  {
   "cell_type": "markdown",
   "metadata": {},
   "source": [
    "### EDA"
   ]
  },
  {
   "cell_type": "code",
   "execution_count": 172,
   "metadata": {},
   "outputs": [
    {
     "data": {
      "text/plain": [
       "'these are the worst earphones i ve ever owned i was leaving town and ordered them via prime shipping so i d have them before i left i wish i had time to listen to earbuds before i had gotten onto the airplane the one thing these little crappies don t do is block noise unless you can consider the distorted sound these emit as noise reducing these are horrible buds '"
      ]
     },
     "execution_count": 172,
     "metadata": {},
     "output_type": "execute_result"
    }
   ],
   "source": [
    "#an example of a review\n",
    "df4.clean_review[1]"
   ]
  },
  {
   "cell_type": "code",
   "execution_count": 86,
   "metadata": {},
   "outputs": [
    {
     "data": {
      "text/plain": [
       "'Negative'"
      ]
     },
     "execution_count": 86,
     "metadata": {},
     "output_type": "execute_result"
    }
   ],
   "source": [
    "df4.emotion[1]"
   ]
  },
  {
   "cell_type": "code",
   "execution_count": 217,
   "metadata": {},
   "outputs": [],
   "source": [
    "def pretty_print_review_label(i):\n",
    "    print(df4.emotion[i] + \" \\t : \\t \" + df4.review_body[i][:80] + \"...\")"
   ]
  },
  {
   "cell_type": "code",
   "execution_count": 218,
   "metadata": {},
   "outputs": [
    {
     "name": "stdout",
     "output_type": "stream",
     "text": [
      "Labels \t\t : \t Review\n",
      "\n",
      "Neutral \t : \t This had pry tools and screwdrivers but it didn't have the second screwdriver ne...\n",
      "Neutral \t : \t Works as intended, but even with the angles other plugs pretty much always get i...\n",
      "Negative \t : \t this thing keeps coming undone end slots too soft for keeping the cord in place ...\n",
      "Positive \t : \t Great speakers, sound is amazing and speakers are elegant and stylish; I would h...\n",
      "Positive \t : \t Works more slowly, but charges well. All my things are powered and the charge se...\n"
     ]
    }
   ],
   "source": [
    "# How could I take this dataset and validate my theory that words are predictive of labels.\n",
    "print(\"Labels \\t\\t : \\t Review\\n\")\n",
    "pretty_print_review_label(100)\n",
    "pretty_print_review_label(1000)\n",
    "pretty_print_review_label(10000)\n",
    "pretty_print_review_label(100000)\n",
    "pretty_print_review_label(1000000)"
   ]
  },
  {
   "cell_type": "code",
   "execution_count": 220,
   "metadata": {},
   "outputs": [],
   "source": [
    "#Count acts a lot like a dictionary, but they actually don't create the key, so they are much faster\n",
    "positive_counts = Counter()\n",
    "negative_counts = Counter()\n",
    "neutral_counts = Counter()\n",
    "total_counts = Counter()"
   ]
  },
  {
   "cell_type": "code",
   "execution_count": 221,
   "metadata": {},
   "outputs": [],
   "source": [
    "for i in range(len(df4)):\n",
    "    if (df4.emotion[i] == 'Positive'):\n",
    "        for word in df4.clean_review[i].split(\" \"): #to count every positive word in a positive review\n",
    "            positive_counts[word] += 1\n",
    "            total_counts[word] += 1\n",
    "    elif (df4.emotion[i] == 'Negative'):\n",
    "        for word in df4.clean_review[i].split(\" \"):\n",
    "            negative_counts[word] += 1\n",
    "            total_counts[word] += 1\n",
    "    else:\n",
    "        for word in df4.clean_review[i].split(\" \"):\n",
    "            neutral_counts[word] += 1\n",
    "            total_counts[word] += 1"
   ]
  },
  {
   "cell_type": "code",
   "execution_count": 222,
   "metadata": {},
   "outputs": [
    {
     "data": {
      "text/plain": [
       "142478"
      ]
     },
     "execution_count": 222,
     "metadata": {},
     "output_type": "execute_result"
    }
   ],
   "source": [
    "#Total number of words\n",
    "len(total_counts)"
   ]
  },
  {
   "cell_type": "code",
   "execution_count": 223,
   "metadata": {},
   "outputs": [
    {
     "data": {
      "text/plain": [
       "[('the', 1236308),\n",
       " ('i', 812546),\n",
       " ('to', 650347),\n",
       " ('and', 642331),\n",
       " ('a', 582366),\n",
       " ('it', 566263),\n",
       " ('is', 378519),\n",
       " ('for', 353372),\n",
       " ('', 331200),\n",
       " ('of', 304571),\n",
       " ('this', 285533),\n",
       " ('my', 285289),\n",
       " ('in', 250959),\n",
       " ('br', 249388),\n",
       " ('that', 238965),\n",
       " ('with', 235158),\n",
       " ('on', 201634),\n",
       " ('you', 198851),\n",
       " ('but', 195287),\n",
       " ('have', 188305)]"
      ]
     },
     "execution_count": 223,
     "metadata": {},
     "output_type": "execute_result"
    }
   ],
   "source": [
    "positive_counts.most_common()[:20]"
   ]
  },
  {
   "cell_type": "code",
   "execution_count": 224,
   "metadata": {},
   "outputs": [
    {
     "data": {
      "text/plain": [
       "[('the', 1381085),\n",
       " ('i', 964436),\n",
       " ('to', 714286),\n",
       " ('it', 712934),\n",
       " ('and', 639897),\n",
       " ('a', 587627),\n",
       " ('of', 357742),\n",
       " ('this', 350962),\n",
       " ('', 350124),\n",
       " ('not', 343817),\n",
       " ('is', 334288),\n",
       " ('for', 312655),\n",
       " ('in', 268851),\n",
       " ('my', 266477),\n",
       " ('that', 258386),\n",
       " ('br', 252823),\n",
       " ('was', 250122),\n",
       " ('t', 237871),\n",
       " ('on', 231259),\n",
       " ('but', 222247)]"
      ]
     },
     "execution_count": 224,
     "metadata": {},
     "output_type": "execute_result"
    }
   ],
   "source": [
    "negative_counts.most_common()[:20]"
   ]
  },
  {
   "cell_type": "code",
   "execution_count": 281,
   "metadata": {},
   "outputs": [
    {
     "data": {
      "text/plain": [
       "[('the', 805432),\n",
       " ('i', 482921),\n",
       " ('to', 398216),\n",
       " ('it', 371018),\n",
       " ('a', 328701),\n",
       " ('and', 321091),\n",
       " ('is', 229674),\n",
       " ('for', 194491),\n",
       " ('of', 186378),\n",
       " ('', 165350),\n",
       " ('but', 163665),\n",
       " ('br', 160799),\n",
       " ('that', 153539),\n",
       " ('in', 149266),\n",
       " ('not', 148056),\n",
       " ('this', 147773),\n",
       " ('my', 142679),\n",
       " ('on', 124198),\n",
       " ('with', 123947),\n",
       " ('you', 123755)]"
      ]
     },
     "execution_count": 281,
     "metadata": {},
     "output_type": "execute_result"
    }
   ],
   "source": [
    "neutral_counts.most_common()[:20]"
   ]
  },
  {
   "cell_type": "markdown",
   "metadata": {},
   "source": [
    "* we are not really intersted in the most frequent positive words, we are interested in words that are most frequently positive versus negative.\n",
    "\n",
    "* we want to come up with some sort of ratio that is more comparative between these two lists"
   ]
  },
  {
   "cell_type": "code",
   "execution_count": 258,
   "metadata": {},
   "outputs": [],
   "source": [
    "#because most of the most common words in positive and negative lists are almost the same, making a ratio would solve\n",
    "#the issue\n",
    "pos_neg_ratios = Counter()\n",
    "\n",
    "for term,cnt in list(total_counts.most_common()):\n",
    "    if(cnt>60):\n",
    "        pos_neg_ratio = positive_counts[term] / float(negative_counts[term]+1)\n",
    "        pos_neg_ratios[term] = pos_neg_ratio"
   ]
  },
  {
   "cell_type": "code",
   "execution_count": 260,
   "metadata": {},
   "outputs": [],
   "source": [
    "#Make it even better\n",
    "for word, ratio in pos_neg_ratios.most_common():\n",
    "    if(ratio > 1):#It means ratios greater than 10 because of the log base\n",
    "        pos_neg_ratios[word] = np.log(ratio)\n",
    "    else:\n",
    "        pos_neg_ratios[word] = -np.log((1/(ratio+0.01)))"
   ]
  },
  {
   "cell_type": "code",
   "execution_count": 261,
   "metadata": {},
   "outputs": [
    {
     "data": {
      "text/plain": [
       "[('exelent', 3.349904087274605),\n",
       " ('excelente', 3.247787168362621),\n",
       " ('buen', 3.1780538303479458),\n",
       " ('excelent', 2.900422093749666),\n",
       " ('exellent', 2.847812143477369),\n",
       " ('invaluable', 2.803360380906535),\n",
       " ('magni', 2.691243082785829),\n",
       " ('lifesaver', 2.4471663218051534),\n",
       " ('qualm', 2.3978952727983707),\n",
       " ('loves', 2.3837571062647336),\n",
       " ('pleasantly', 2.316423327659231),\n",
       " ('perfecto', 2.268683541318364),\n",
       " ('blends', 2.216200478795225),\n",
       " ('exceeded', 2.1983133090714158),\n",
       " ('fills', 2.1936339092054906),\n",
       " ('simplifies', 2.178532444324067),\n",
       " ('quibbles', 2.164963715117998),\n",
       " ('modi', 2.159484249353372),\n",
       " ('beauties', 2.159484249353372),\n",
       " ('xpa', 2.128231705849268)]"
      ]
     },
     "execution_count": 261,
     "metadata": {},
     "output_type": "execute_result"
    }
   ],
   "source": [
    "#words frequently seen in a review with a 'Positive' label\n",
    "pos_neg_ratios.most_common()[:20]"
   ]
  },
  {
   "cell_type": "code",
   "execution_count": 262,
   "metadata": {},
   "outputs": [
    {
     "data": {
      "text/plain": [
       "[('fraud', -3.393678549248128),\n",
       " ('reimburse', -3.2691858350074026),\n",
       " ('dishonest', -3.2336909106533414),\n",
       " ('returnable', -3.138833117194664),\n",
       " ('paperweight', -3.100509188378212),\n",
       " ('wast', -3.0878759509871565),\n",
       " ('refunds', -3.073273794016478),\n",
       " ('reimbursement', -3.0470255679415414),\n",
       " ('emptor', -3.045048892065669),\n",
       " ('refund', -3.0113748606411432),\n",
       " ('misrepresentation', -2.995732273553991),\n",
       " ('fraudulent', -2.9284800465448235),\n",
       " ('restocking', -2.8908103026094523),\n",
       " ('recourse', -2.8796601023012367),\n",
       " ('waste', -2.8619168303665585),\n",
       " ('junk', -2.8289888915147876),\n",
       " ('insult', -2.753272358021503),\n",
       " ('restock', -2.724857319418591),\n",
       " ('heeded', -2.724857319418591),\n",
       " ('reimbursed', -2.719607412358571)]"
      ]
     },
     "execution_count": 262,
     "metadata": {},
     "output_type": "execute_result"
    }
   ],
   "source": [
    "#words frequently seen in a review with a 'Negative' label\n",
    "list(reversed(pos_neg_ratios.most_common()))[:20]"
   ]
  },
  {
   "cell_type": "markdown",
   "metadata": {},
   "source": [
    "### Design a simple NN"
   ]
  },
  {
   "cell_type": "code",
   "execution_count": 244,
   "metadata": {},
   "outputs": [
    {
     "name": "stdout",
     "output_type": "stream",
     "text": [
      "142478\n"
     ]
    }
   ],
   "source": [
    "#Create input/output data\n",
    "#Count all the words that happende in our review\n",
    "vocab = set(total_counts.keys())\n",
    "vocab_size = len(vocab)\n",
    "print(vocab_size)"
   ]
  },
  {
   "cell_type": "code",
   "execution_count": 247,
   "metadata": {},
   "outputs": [
    {
     "data": {
      "text/plain": [
       "array([[0., 0., 0., ..., 0., 0., 0.]])"
      ]
     },
     "execution_count": 247,
     "metadata": {},
     "output_type": "execute_result"
    }
   ],
   "source": [
    "#put the vocab_size into a fixed length vector where each place in the vector belongs to one word of our vocabulary\n",
    "#vector is empty and we edit it as we go forward\n",
    "#I did this for memory efficiency, so we dont have to create a vector from scrath every time when we want to use it\n",
    "#we also don't want to pregenerate data from the entire dataset, because that would be a matrix of \n",
    "# vocab_size * len(df4) = 144326794528 !!!!\n",
    "layer_0 = np.zeros((1, vocab_size))\n",
    "layer_0"
   ]
  },
  {
   "cell_type": "code",
   "execution_count": 248,
   "metadata": {},
   "outputs": [],
   "source": [
    "word2index = {}\n",
    "\n",
    "for i,word in enumerate(vocab):\n",
    "    word2index[word] = i"
   ]
  },
  {
   "cell_type": "code",
   "execution_count": 263,
   "metadata": {},
   "outputs": [],
   "source": [
    "def update_input_layer(review):\n",
    "    \n",
    "    global layer_0\n",
    "    \n",
    "    #clear out previous state, reset the layer to be all 0s\n",
    "    layer_0 *= 0\n",
    "    for word in review.split(\" \"):#iterate through each word\n",
    "        layer_0[0][word2index[word]] += 1  # allocate a position in the vector by incrementing\n",
    "        \n",
    "update_input_layer(df4.clean_review[1])"
   ]
  },
  {
   "cell_type": "code",
   "execution_count": 279,
   "metadata": {},
   "outputs": [
    {
     "data": {
      "text/plain": [
       "array([1., 0., 0., ..., 0., 0., 0.])"
      ]
     },
     "execution_count": 279,
     "metadata": {},
     "output_type": "execute_result"
    }
   ],
   "source": [
    "layer_0[0]"
   ]
  },
  {
   "cell_type": "code",
   "execution_count": 274,
   "metadata": {},
   "outputs": [],
   "source": [
    "#Create a function to get the label \n",
    "def get_target_for_label(label):\n",
    "    if (label == 'Positive'):\n",
    "        return 1\n",
    "    elif (label == 'Negative'):\n",
    "        return -1\n",
    "    else:\n",
    "        return 0"
   ]
  },
  {
   "cell_type": "code",
   "execution_count": 270,
   "metadata": {},
   "outputs": [
    {
     "data": {
      "text/plain": [
       "'Negative'"
      ]
     },
     "execution_count": 270,
     "metadata": {},
     "output_type": "execute_result"
    }
   ],
   "source": [
    "df4.emotion[1]"
   ]
  },
  {
   "cell_type": "code",
   "execution_count": 271,
   "metadata": {},
   "outputs": [
    {
     "data": {
      "text/plain": [
       "-1"
      ]
     },
     "execution_count": 271,
     "metadata": {},
     "output_type": "execute_result"
    }
   ],
   "source": [
    "get_target_for_label(df4.emotion[0])"
   ]
  },
  {
   "cell_type": "markdown",
   "metadata": {},
   "source": [
    "* Create our neural network\n",
    "* 3 layer neural network\n",
    "* no non-linearity in hidden layer\n",
    "* use our functions to create the training data\n",
    "* create a \"pre_process_data\" function to create vocabulary for our data generating functions\n",
    "* modify \"train\" to train over the entire corpus"
   ]
  },
  {
   "cell_type": "code",
   "execution_count": null,
   "metadata": {},
   "outputs": [],
   "source": [
    "#create a network by using counts of words in our review, to predict the sentiment of our review\n",
    "class SentimentNetwork:\n",
    "    def __init__(self, reviews, labels, hidden_nodes=10, learning_rate=0.1):\n",
    "        #set our random number generator\n",
    "        np.random.seed(52)\n",
    "        \n",
    "        self.pre_process_data(reviews, labels)\n",
    "        \n",
    "        self.init_network(len(self.review_vocab), hidden_nodes, 1, learning_rate)\n",
    "        \n",
    "    def pre_process_data(self, reviews, labels):\n",
    "        \n",
    "        review_vocab = set()\n",
    "        for review in reviews:\n",
    "            for word in review.split(\" \"):\n",
    "                review_vocab.add(word)\n",
    "        self.review_vocab = list(review_vocab)\n",
    "        \n",
    "        label_vocab = set()\n",
    "        for label in labels:\n",
    "            label_vocab.add(label)\n",
    "        \n",
    "        self.label_vocab = list(label_vocab)\n",
    "        \n",
    "        self.review_vocab_size = len(self.review_vocab)\n",
    "        self.label_vocab_size = len(self.label_vocab)\n",
    "        \n",
    "        self.word2index = {}\n",
    "        for i, word in enumerate(self.review_vocab):\n",
    "            self.word2index[word] = i\n",
    "            \n",
    "        self.label2index = {}\n",
    "        for i, label in enumerate(self.label_vocab):\n",
    "            self.label2index[label] = i\n",
    "            \n",
    "    def init_network(self, input_nodes, hidden_nodes, output_nodes, learning_rate):\n",
    "        #set number of nodes in input, hidden and output layers.\n",
    "        self.input_nodes = input_nodes\n",
    "        self.hidden_nodes = hidden_nodes\n",
    "        self.output_nodes = output_nodes\n",
    "        \n",
    "        #initialize weights\n",
    "        self.weights_0_1 = np.zeros((self.input_nodes, self.hidden_nodes))\n",
    "        \n",
    "        self.weights_1_2 = np.random.normal(0.0, self.output_nodes**-0.5,\n",
    "                                           (self.hidden_nodes, self.output_nodes))\n",
    "        self.learning_rate = learning_rate\n",
    "        \n",
    "        self.layer_0 = np.zeros((1, input))\n",
    "        \n",
    "    def update_input_layer(self, review):\n",
    "        \n",
    "        #clear out previous state, reset the layer to be all 0s\n",
    "        self.layer_0 *= 0\n",
    "        for word in review.split(\" \"):\n",
    "            if(word in self.word2index.keys()):\n",
    "                self.layer_0[0][self.word2index[word]] +=1\n",
    "                \n",
    "    def get_target_for_label(self, label):\n",
    "        if (label == 'Positive'):\n",
    "            return 2\n",
    "        elif (label == 'Neutral'):\n",
    "            return 1\n",
    "        else:\n",
    "            return 0\n",
    "        \n",
    "    def softmax(self, x):\n",
    "    \"\"\"Compute softmax values for each sets of scores in x.\"\"\"\n",
    "        e_x = np.exp(x - np.max(x))\n",
    "        return e_x / e_x.sum()\n",
    "\n",
    "    def softmax_output_2_derivative(self, output):\n",
    "        \n",
    "        mat = np.diag(output)\n",
    "        \n",
    "        for i in range(len(mat)):\n",
    "            for j in range(len(mat)):\n",
    "                if i == j:\n",
    "                    mat[i][j] = output[i] * (1 - output[i])\n",
    "                else:\n",
    "                    mat[i][j] = -output[i] * output[j]\n",
    "        return mat\n",
    "        \n",
    "    def train(self, training_reviews, training_labels):\n",
    "        \n",
    "        assert(len(training_reviews) == len(training_labels))\n",
    "        \n",
    "        #how the neural net is doing during the training process\n",
    "        correct_so_far = 0\n",
    "        \n",
    "        start = time.time()\n",
    "        \n",
    "        for i in range(len(training_reviews)):\n",
    "            \n",
    "            review = training_reviews[i]\n",
    "            label = training_labels[i]\n",
    "            \n",
    "            #implement the forward propagation here\n",
    "            #forward pass\n",
    "            \n",
    "            #input layer\n",
    "            self.update_input_layer(review)\n",
    "            \n",
    "            #Hidden layer\n",
    "            layer_1 = self.layer_0.dot(self.weights_0_1)\n",
    "            \n",
    "            #Output layer\n",
    "            layer_2 = self.softmax(layer_1.dot(self.weights_1_2))\n",
    "            \n",
    "            #implement the backward propagation here\n",
    "            #Backward pass\n",
    "            \n",
    "            #Output error\n",
    "            layer_2_error = layer_2 - self.get_target_for_label(label)\n",
    "            layer_2_delta = layer_2_error * self.softmax_output_2_derivative(layer_2)\n",
    "            \n",
    "            #backpropagated error\n",
    "            layer_1_error = layer_2_delta.dot(self.weights_1_2.T) #errors propagated to the hidden layer\n",
    "            layer_1_delta = layer_1_error #hidden layer gradients - no nonlinearity so it's the same as the error\n",
    "            \n",
    "            #update the weights\n",
    "            self.weights_1_2 -= layer_1.T.dot(layer_2_delta) * self.learning_rate #Update hidden-to-output weights\n",
    "            self.weights_0_1 -= self.layer_0.T.dot(layer_1_delta) * self.learning_rate #update input-to-hidden weights\n",
    "            \n",
    "            if(np.abs(layer_2_error) < 0.5):\n",
    "                correct_so_far += 1"
   ]
  },
  {
   "cell_type": "code",
   "execution_count": null,
   "metadata": {},
   "outputs": [],
   "source": []
  },
  {
   "cell_type": "code",
   "execution_count": null,
   "metadata": {},
   "outputs": [],
   "source": []
  },
  {
   "cell_type": "code",
   "execution_count": null,
   "metadata": {},
   "outputs": [],
   "source": []
  },
  {
   "cell_type": "code",
   "execution_count": null,
   "metadata": {},
   "outputs": [],
   "source": []
  },
  {
   "cell_type": "code",
   "execution_count": null,
   "metadata": {},
   "outputs": [],
   "source": []
  },
  {
   "cell_type": "code",
   "execution_count": null,
   "metadata": {},
   "outputs": [],
   "source": []
  },
  {
   "cell_type": "code",
   "execution_count": null,
   "metadata": {},
   "outputs": [],
   "source": []
  },
  {
   "cell_type": "code",
   "execution_count": null,
   "metadata": {},
   "outputs": [],
   "source": []
  },
  {
   "cell_type": "code",
   "execution_count": null,
   "metadata": {},
   "outputs": [],
   "source": []
  },
  {
   "cell_type": "code",
   "execution_count": null,
   "metadata": {},
   "outputs": [],
   "source": []
  },
  {
   "cell_type": "code",
   "execution_count": null,
   "metadata": {},
   "outputs": [],
   "source": []
  },
  {
   "cell_type": "code",
   "execution_count": null,
   "metadata": {},
   "outputs": [],
   "source": []
  },
  {
   "cell_type": "code",
   "execution_count": null,
   "metadata": {},
   "outputs": [],
   "source": []
  },
  {
   "cell_type": "code",
   "execution_count": null,
   "metadata": {},
   "outputs": [],
   "source": []
  },
  {
   "cell_type": "code",
   "execution_count": null,
   "metadata": {},
   "outputs": [],
   "source": []
  },
  {
   "cell_type": "code",
   "execution_count": null,
   "metadata": {},
   "outputs": [],
   "source": []
  },
  {
   "cell_type": "code",
   "execution_count": null,
   "metadata": {},
   "outputs": [],
   "source": []
  },
  {
   "cell_type": "code",
   "execution_count": null,
   "metadata": {},
   "outputs": [],
   "source": []
  },
  {
   "cell_type": "code",
   "execution_count": null,
   "metadata": {},
   "outputs": [],
   "source": []
  },
  {
   "cell_type": "code",
   "execution_count": null,
   "metadata": {},
   "outputs": [],
   "source": []
  },
  {
   "cell_type": "code",
   "execution_count": null,
   "metadata": {},
   "outputs": [],
   "source": []
  },
  {
   "cell_type": "code",
   "execution_count": null,
   "metadata": {},
   "outputs": [],
   "source": []
  },
  {
   "cell_type": "code",
   "execution_count": null,
   "metadata": {},
   "outputs": [],
   "source": []
  },
  {
   "cell_type": "code",
   "execution_count": null,
   "metadata": {},
   "outputs": [],
   "source": []
  },
  {
   "cell_type": "code",
   "execution_count": null,
   "metadata": {},
   "outputs": [],
   "source": []
  },
  {
   "cell_type": "code",
   "execution_count": null,
   "metadata": {},
   "outputs": [],
   "source": []
  },
  {
   "cell_type": "code",
   "execution_count": null,
   "metadata": {},
   "outputs": [],
   "source": []
  }
 ],
 "metadata": {
  "kernelspec": {
   "display_name": "Python 3",
   "language": "python",
   "name": "python3"
  },
  "language_info": {
   "codemirror_mode": {
    "name": "ipython",
    "version": 3
   },
   "file_extension": ".py",
   "mimetype": "text/x-python",
   "name": "python",
   "nbconvert_exporter": "python",
   "pygments_lexer": "ipython3",
   "version": "3.6.9"
  },
  "toc": {
   "base_numbering": 1,
   "nav_menu": {},
   "number_sections": false,
   "sideBar": true,
   "skip_h1_title": false,
   "title_cell": "Table of Contents",
   "title_sidebar": "Contents",
   "toc_cell": false,
   "toc_position": {
    "height": "calc(100% - 180px)",
    "left": "10px",
    "top": "150px",
    "width": "165px"
   },
   "toc_section_display": true,
   "toc_window_display": true
  }
 },
 "nbformat": 4,
 "nbformat_minor": 4
}
