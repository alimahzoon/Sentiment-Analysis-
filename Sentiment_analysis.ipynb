{
 "cells": [
  {
   "cell_type": "markdown",
   "metadata": {},
   "source": [
    "### Libraries"
   ]
  },
  {
   "cell_type": "code",
   "execution_count": 804,
   "metadata": {},
   "outputs": [
    {
     "name": "stderr",
     "output_type": "stream",
     "text": [
      "[nltk_data] Downloading package punkt to /Users/Ali/nltk_data...\n",
      "[nltk_data]   Package punkt is already up-to-date!\n"
     ]
    }
   ],
   "source": [
    "import pandas as pd\n",
    "import numpy as np\n",
    "import matplotlib.pyplot as plt\n",
    "from collections import Counter\n",
    "import time\n",
    "import sys\n",
    "import re\n",
    "import seaborn as sns\n",
    "from sklearn.model_selection import train_test_split\n",
    "from IPython.display import Image\n",
    "from bokeh.models import ColumnDataSource, LabelSet\n",
    "from bokeh.plotting import figure, show, output_file\n",
    "from bokeh.io import output_notebook\n",
    "import matplotlib.colors as colors\n",
    "from sklearn.manifold import TSNE\n",
    "import tensorflow as tf\n",
    "from nltk import word_tokenize\n",
    "import nltk\n",
    "nltk.download('punkt')\n",
    "from tf_slim.layers import layers as _layers\n",
    "from keras.layers import Dropout, Activation, Bidirectional, GlobalMaxPool1D, Input, Dense, LSTM, Embedding\n",
    "from keras.models import Sequential\n",
    "from keras import initializers, regularizers, constraints, optimizers, layers\n",
    "from sklearn.metrics import classification_report,confusion_matrix\n",
    "from mlxtend.plotting import plot_confusion_matrix\n",
    "import warnings\n",
    "warnings.filterwarnings('ignore')"
   ]
  },
  {
   "cell_type": "code",
   "execution_count": 3,
   "metadata": {},
   "outputs": [
    {
     "name": "stderr",
     "output_type": "stream",
     "text": [
      "b'Skipping line 9076: expected 15 fields, saw 22\\nSkipping line 19256: expected 15 fields, saw 22\\nSkipping line 24313: expected 15 fields, saw 22\\nSkipping line 47211: expected 15 fields, saw 22\\nSkipping line 54295: expected 15 fields, saw 22\\nSkipping line 56641: expected 15 fields, saw 22\\nSkipping line 63067: expected 15 fields, saw 22\\n'\n",
      "b'Skipping line 93796: expected 15 fields, saw 22\\n'\n",
      "b'Skipping line 132806: expected 15 fields, saw 22\\nSkipping line 164631: expected 15 fields, saw 22\\nSkipping line 167019: expected 15 fields, saw 22\\nSkipping line 167212: expected 15 fields, saw 22\\n'\n",
      "b'Skipping line 198103: expected 15 fields, saw 22\\nSkipping line 199191: expected 15 fields, saw 22\\nSkipping line 202841: expected 15 fields, saw 22\\nSkipping line 218228: expected 15 fields, saw 22\\nSkipping line 235900: expected 15 fields, saw 22\\n'\n",
      "b'Skipping line 277761: expected 15 fields, saw 22\\nSkipping line 304582: expected 15 fields, saw 22\\nSkipping line 312029: expected 15 fields, saw 22\\n'\n",
      "b'Skipping line 343692: expected 15 fields, saw 22\\nSkipping line 352291: expected 15 fields, saw 22\\nSkipping line 363414: expected 15 fields, saw 22\\nSkipping line 378087: expected 15 fields, saw 22\\nSkipping line 378720: expected 15 fields, saw 22\\nSkipping line 378760: expected 15 fields, saw 22\\nSkipping line 379336: expected 15 fields, saw 22\\n'\n",
      "b'Skipping line 402682: expected 15 fields, saw 22\\n'\n",
      "b'Skipping line 466560: expected 15 fields, saw 22\\nSkipping line 486823: expected 15 fields, saw 22\\nSkipping line 489036: expected 15 fields, saw 22\\nSkipping line 496148: expected 15 fields, saw 22\\nSkipping line 522330: expected 15 fields, saw 22\\n'\n",
      "b'Skipping line 552961: expected 15 fields, saw 22\\nSkipping line 577388: expected 15 fields, saw 22\\nSkipping line 582182: expected 15 fields, saw 22\\n'\n",
      "b'Skipping line 590653: expected 15 fields, saw 22\\nSkipping line 608846: expected 15 fields, saw 22\\nSkipping line 615442: expected 15 fields, saw 22\\nSkipping line 645607: expected 15 fields, saw 22\\nSkipping line 654323: expected 15 fields, saw 22\\n'\n",
      "b'Skipping line 714935: expected 15 fields, saw 22\\n'\n",
      "b'Skipping line 749608: expected 15 fields, saw 22\\nSkipping line 753868: expected 15 fields, saw 22\\nSkipping line 762504: expected 15 fields, saw 22\\nSkipping line 771706: expected 15 fields, saw 22\\nSkipping line 773376: expected 15 fields, saw 22\\n'\n",
      "b'Skipping line 792407: expected 15 fields, saw 22\\nSkipping line 793933: expected 15 fields, saw 22\\nSkipping line 813269: expected 15 fields, saw 22\\nSkipping line 835491: expected 15 fields, saw 22\\nSkipping line 841176: expected 15 fields, saw 22\\nSkipping line 844604: expected 15 fields, saw 22\\n'\n",
      "b'Skipping line 857952: expected 15 fields, saw 22\\nSkipping line 859568: expected 15 fields, saw 22\\nSkipping line 860789: expected 15 fields, saw 22\\nSkipping line 863093: expected 15 fields, saw 22\\nSkipping line 881608: expected 15 fields, saw 22\\nSkipping line 891157: expected 15 fields, saw 22\\nSkipping line 893799: expected 15 fields, saw 22\\nSkipping line 906438: expected 15 fields, saw 22\\nSkipping line 914856: expected 15 fields, saw 22\\n'\n",
      "b'Skipping line 940736: expected 15 fields, saw 22\\nSkipping line 965818: expected 15 fields, saw 22\\n'\n",
      "b'Skipping line 993840: expected 15 fields, saw 22\\nSkipping line 1019036: expected 15 fields, saw 22\\nSkipping line 1019205: expected 15 fields, saw 22\\n'\n",
      "b'Skipping line 1058122: expected 15 fields, saw 22\\n'\n",
      "b'Skipping line 1144887: expected 15 fields, saw 22\\nSkipping line 1147255: expected 15 fields, saw 22\\nSkipping line 1164497: expected 15 fields, saw 22\\nSkipping line 1166930: expected 15 fields, saw 22\\n'\n",
      "b'Skipping line 1218319: expected 15 fields, saw 22\\nSkipping line 1232868: expected 15 fields, saw 22\\n'\n",
      "b'Skipping line 1307335: expected 15 fields, saw 22\\n'\n",
      "b'Skipping line 1621422: expected 15 fields, saw 22\\n'\n",
      "b'Skipping line 1857720: expected 15 fields, saw 22\\n'\n",
      "b'Skipping line 1935753: expected 15 fields, saw 22\\n'\n",
      "b'Skipping line 1988449: expected 15 fields, saw 22\\n'\n"
     ]
    }
   ],
   "source": [
    "df = pd.read_csv('Data/amazon_reviews_us_Electronics_v1_00.tsv.gz', sep='\\t', error_bad_lines=False)"
   ]
  },
  {
   "cell_type": "code",
   "execution_count": 4,
   "metadata": {},
   "outputs": [
    {
     "data": {
      "text/html": [
       "<div>\n",
       "<style scoped>\n",
       "    .dataframe tbody tr th:only-of-type {\n",
       "        vertical-align: middle;\n",
       "    }\n",
       "\n",
       "    .dataframe tbody tr th {\n",
       "        vertical-align: top;\n",
       "    }\n",
       "\n",
       "    .dataframe thead th {\n",
       "        text-align: right;\n",
       "    }\n",
       "</style>\n",
       "<table border=\"1\" class=\"dataframe\">\n",
       "  <thead>\n",
       "    <tr style=\"text-align: right;\">\n",
       "      <th></th>\n",
       "      <th>marketplace</th>\n",
       "      <th>customer_id</th>\n",
       "      <th>review_id</th>\n",
       "      <th>product_id</th>\n",
       "      <th>product_parent</th>\n",
       "      <th>product_title</th>\n",
       "      <th>product_category</th>\n",
       "      <th>star_rating</th>\n",
       "      <th>helpful_votes</th>\n",
       "      <th>total_votes</th>\n",
       "      <th>vine</th>\n",
       "      <th>verified_purchase</th>\n",
       "      <th>review_headline</th>\n",
       "      <th>review_body</th>\n",
       "      <th>review_date</th>\n",
       "    </tr>\n",
       "  </thead>\n",
       "  <tbody>\n",
       "    <tr>\n",
       "      <th>0</th>\n",
       "      <td>US</td>\n",
       "      <td>41409413</td>\n",
       "      <td>R2MTG1GCZLR2DK</td>\n",
       "      <td>B00428R89M</td>\n",
       "      <td>112201306</td>\n",
       "      <td>yoomall 5M Antenna WIFI RP-SMA Female to Male ...</td>\n",
       "      <td>Electronics</td>\n",
       "      <td>5</td>\n",
       "      <td>0</td>\n",
       "      <td>0</td>\n",
       "      <td>N</td>\n",
       "      <td>Y</td>\n",
       "      <td>Five Stars</td>\n",
       "      <td>As described.</td>\n",
       "      <td>2015-08-31</td>\n",
       "    </tr>\n",
       "    <tr>\n",
       "      <th>1</th>\n",
       "      <td>US</td>\n",
       "      <td>49668221</td>\n",
       "      <td>R2HBOEM8LE9928</td>\n",
       "      <td>B000068O48</td>\n",
       "      <td>734576678</td>\n",
       "      <td>Hosa GPM-103 3.5mm TRS to 1/4\" TRS Adaptor</td>\n",
       "      <td>Electronics</td>\n",
       "      <td>5</td>\n",
       "      <td>0</td>\n",
       "      <td>0</td>\n",
       "      <td>N</td>\n",
       "      <td>Y</td>\n",
       "      <td>It works as advertising.</td>\n",
       "      <td>It works as advertising.</td>\n",
       "      <td>2015-08-31</td>\n",
       "    </tr>\n",
       "    <tr>\n",
       "      <th>2</th>\n",
       "      <td>US</td>\n",
       "      <td>12338275</td>\n",
       "      <td>R1P4RW1R9FDPEE</td>\n",
       "      <td>B000GGKOG8</td>\n",
       "      <td>614448099</td>\n",
       "      <td>Channel Master Titan 2 Antenna Preamplifier</td>\n",
       "      <td>Electronics</td>\n",
       "      <td>5</td>\n",
       "      <td>1</td>\n",
       "      <td>1</td>\n",
       "      <td>N</td>\n",
       "      <td>Y</td>\n",
       "      <td>Five Stars</td>\n",
       "      <td>Works pissa</td>\n",
       "      <td>2015-08-31</td>\n",
       "    </tr>\n",
       "    <tr>\n",
       "      <th>3</th>\n",
       "      <td>US</td>\n",
       "      <td>38487968</td>\n",
       "      <td>R1EBPM82ENI67M</td>\n",
       "      <td>B000NU4OTA</td>\n",
       "      <td>72265257</td>\n",
       "      <td>LIMTECH Wall charger + USB Hotsync &amp; Charging ...</td>\n",
       "      <td>Electronics</td>\n",
       "      <td>1</td>\n",
       "      <td>0</td>\n",
       "      <td>0</td>\n",
       "      <td>N</td>\n",
       "      <td>Y</td>\n",
       "      <td>One Star</td>\n",
       "      <td>Did not work at all.</td>\n",
       "      <td>2015-08-31</td>\n",
       "    </tr>\n",
       "    <tr>\n",
       "      <th>4</th>\n",
       "      <td>US</td>\n",
       "      <td>23732619</td>\n",
       "      <td>R372S58V6D11AT</td>\n",
       "      <td>B00JOQIO6S</td>\n",
       "      <td>308169188</td>\n",
       "      <td>Skullcandy Air Raid Portable Bluetooth Speaker</td>\n",
       "      <td>Electronics</td>\n",
       "      <td>5</td>\n",
       "      <td>1</td>\n",
       "      <td>1</td>\n",
       "      <td>N</td>\n",
       "      <td>Y</td>\n",
       "      <td>Overall pleased with the item</td>\n",
       "      <td>Works well. Bass is somewhat lacking but is pr...</td>\n",
       "      <td>2015-08-31</td>\n",
       "    </tr>\n",
       "  </tbody>\n",
       "</table>\n",
       "</div>"
      ],
      "text/plain": [
       "  marketplace  customer_id       review_id  product_id  product_parent  \\\n",
       "0          US     41409413  R2MTG1GCZLR2DK  B00428R89M       112201306   \n",
       "1          US     49668221  R2HBOEM8LE9928  B000068O48       734576678   \n",
       "2          US     12338275  R1P4RW1R9FDPEE  B000GGKOG8       614448099   \n",
       "3          US     38487968  R1EBPM82ENI67M  B000NU4OTA        72265257   \n",
       "4          US     23732619  R372S58V6D11AT  B00JOQIO6S       308169188   \n",
       "\n",
       "                                       product_title product_category  \\\n",
       "0  yoomall 5M Antenna WIFI RP-SMA Female to Male ...      Electronics   \n",
       "1         Hosa GPM-103 3.5mm TRS to 1/4\" TRS Adaptor      Electronics   \n",
       "2        Channel Master Titan 2 Antenna Preamplifier      Electronics   \n",
       "3  LIMTECH Wall charger + USB Hotsync & Charging ...      Electronics   \n",
       "4     Skullcandy Air Raid Portable Bluetooth Speaker      Electronics   \n",
       "\n",
       "   star_rating  helpful_votes  total_votes vine verified_purchase  \\\n",
       "0            5              0            0    N                 Y   \n",
       "1            5              0            0    N                 Y   \n",
       "2            5              1            1    N                 Y   \n",
       "3            1              0            0    N                 Y   \n",
       "4            5              1            1    N                 Y   \n",
       "\n",
       "                 review_headline  \\\n",
       "0                     Five Stars   \n",
       "1       It works as advertising.   \n",
       "2                     Five Stars   \n",
       "3                       One Star   \n",
       "4  Overall pleased with the item   \n",
       "\n",
       "                                         review_body review_date  \n",
       "0                                      As described.  2015-08-31  \n",
       "1                           It works as advertising.  2015-08-31  \n",
       "2                                        Works pissa  2015-08-31  \n",
       "3                               Did not work at all.  2015-08-31  \n",
       "4  Works well. Bass is somewhat lacking but is pr...  2015-08-31  "
      ]
     },
     "execution_count": 4,
     "metadata": {},
     "output_type": "execute_result"
    }
   ],
   "source": [
    "df.head()"
   ]
  },
  {
   "cell_type": "markdown",
   "metadata": {},
   "source": [
    "DATA COLUMNS:\n",
    "\n",
    "marketplace       - 2 letter country code of the marketplace where the review was written.\n",
    "\n",
    "customer_id       - Random identifier that can be used to aggregate reviews written by a single author.\n",
    "\n",
    "review_id         - The unique ID of the review.\n",
    "\n",
    "product_id        - The unique Product ID the review pertains to. In the multilingual dataset the reviews\n",
    "                    for the same product in different countries can be grouped by the same product_id.\n",
    "                    \n",
    "product_parent    - Random identifier that can be used to aggregate reviews for the same product.\n",
    "\n",
    "product_title     - Title of the product.\n",
    "\n",
    "product_category  - Broad product category that can be used to group reviews \n",
    "                    (also used to group the dataset into coherent parts).\n",
    "                    \n",
    "star_rating       - The 1-5 star rating of the review.\n",
    "\n",
    "helpful_votes     - Number of helpful votes.\n",
    "\n",
    "total_votes       - Number of total votes the review received.\n",
    "\n",
    "vine              - Review was written as part of the Vine program.\n",
    "\n",
    "verified_purchase - The review is on a verified purchase.\n",
    "\n",
    "review_headline   - The title of the review.\n",
    "\n",
    "review_body       - The review text.\n",
    "\n",
    "review_date       - The date the review was written.\n"
   ]
  },
  {
   "cell_type": "markdown",
   "metadata": {},
   "source": [
    "### Data Cleaning"
   ]
  },
  {
   "cell_type": "code",
   "execution_count": 5,
   "metadata": {},
   "outputs": [
    {
     "data": {
      "text/plain": [
       "(3091024, 15)"
      ]
     },
     "execution_count": 5,
     "metadata": {},
     "output_type": "execute_result"
    }
   ],
   "source": [
    "#shape of the dataframe (3 million rows and 15 columns)\n",
    "df.shape"
   ]
  },
  {
   "cell_type": "code",
   "execution_count": 6,
   "metadata": {},
   "outputs": [
    {
     "name": "stdout",
     "output_type": "stream",
     "text": [
      "<class 'pandas.core.frame.DataFrame'>\n",
      "RangeIndex: 3091024 entries, 0 to 3091023\n",
      "Data columns (total 15 columns):\n",
      "marketplace          object\n",
      "customer_id          int64\n",
      "review_id            object\n",
      "product_id           object\n",
      "product_parent       int64\n",
      "product_title        object\n",
      "product_category     object\n",
      "star_rating          int64\n",
      "helpful_votes        int64\n",
      "total_votes          int64\n",
      "vine                 object\n",
      "verified_purchase    object\n",
      "review_headline      object\n",
      "review_body          object\n",
      "review_date          object\n",
      "dtypes: int64(5), object(10)\n",
      "memory usage: 353.7+ MB\n"
     ]
    }
   ],
   "source": [
    "df.info()"
   ]
  },
  {
   "cell_type": "code",
   "execution_count": 7,
   "metadata": {},
   "outputs": [
    {
     "data": {
      "text/plain": [
       "marketplace           0\n",
       "customer_id           0\n",
       "review_id             0\n",
       "product_id            0\n",
       "product_parent        0\n",
       "product_title         4\n",
       "product_category      0\n",
       "star_rating           0\n",
       "helpful_votes         0\n",
       "total_votes           0\n",
       "vine                  0\n",
       "verified_purchase     0\n",
       "review_headline      31\n",
       "review_body          88\n",
       "review_date          24\n",
       "dtype: int64"
      ]
     },
     "execution_count": 7,
     "metadata": {},
     "output_type": "execute_result"
    }
   ],
   "source": [
    "#to check if there is any null value in our dataframe\n",
    "df.isna().sum()"
   ]
  },
  {
   "cell_type": "code",
   "execution_count": 8,
   "metadata": {},
   "outputs": [],
   "source": [
    "#drop null values \n",
    "df.dropna(inplace=True)"
   ]
  },
  {
   "cell_type": "code",
   "execution_count": 9,
   "metadata": {},
   "outputs": [
    {
     "data": {
      "text/plain": [
       "Y    2597511\n",
       "N     493366\n",
       "Name: verified_purchase, dtype: int64"
      ]
     },
     "execution_count": 9,
     "metadata": {},
     "output_type": "execute_result"
    }
   ],
   "source": [
    "#reviews of people who bought the product and have an opinion about it matters the most\n",
    "df.verified_purchase.value_counts()"
   ]
  },
  {
   "cell_type": "code",
   "execution_count": 10,
   "metadata": {},
   "outputs": [],
   "source": [
    "#drop those reviews who didn't buy the product\n",
    "df1 = df[df.verified_purchase != 'N']"
   ]
  },
  {
   "cell_type": "code",
   "execution_count": 11,
   "metadata": {},
   "outputs": [
    {
     "data": {
      "text/plain": [
       "Y    2597511\n",
       "Name: verified_purchase, dtype: int64"
      ]
     },
     "execution_count": 11,
     "metadata": {},
     "output_type": "execute_result"
    }
   ],
   "source": [
    "#now our datafarmae only has contains reviews of people that bought the product\n",
    "df1.verified_purchase.value_counts()"
   ]
  },
  {
   "cell_type": "code",
   "execution_count": 12,
   "metadata": {},
   "outputs": [
    {
     "data": {
      "text/plain": [
       "5    1540908\n",
       "4     443627\n",
       "1     276682\n",
       "3     195640\n",
       "2     140654\n",
       "Name: star_rating, dtype: int64"
      ]
     },
     "execution_count": 12,
     "metadata": {},
     "output_type": "execute_result"
    }
   ],
   "source": [
    "#check the class imbalance\n",
    "df1.star_rating.value_counts()"
   ]
  },
  {
   "cell_type": "code",
   "execution_count": 13,
   "metadata": {},
   "outputs": [
    {
     "data": {
      "text/plain": [
       "Index(['marketplace', 'customer_id', 'review_id', 'product_id',\n",
       "       'product_parent', 'product_title', 'product_category', 'star_rating',\n",
       "       'helpful_votes', 'total_votes', 'vine', 'verified_purchase',\n",
       "       'review_headline', 'review_body', 'review_date'],\n",
       "      dtype='object')"
      ]
     },
     "execution_count": 13,
     "metadata": {},
     "output_type": "execute_result"
    }
   ],
   "source": [
    "#show the name of the columns\n",
    "df1.columns"
   ]
  },
  {
   "cell_type": "code",
   "execution_count": 14,
   "metadata": {},
   "outputs": [],
   "source": [
    "# Create a new dataframe and drop all the columns that we are not going to use them\n",
    "df2 = df1.drop(columns=['marketplace','customer_id','review_id','product_id','product_parent','product_category',\n",
    "                       'helpful_votes','total_votes','vine','review_date','verified_purchase'])"
   ]
  },
  {
   "cell_type": "code",
   "execution_count": 15,
   "metadata": {},
   "outputs": [
    {
     "data": {
      "text/html": [
       "<div>\n",
       "<style scoped>\n",
       "    .dataframe tbody tr th:only-of-type {\n",
       "        vertical-align: middle;\n",
       "    }\n",
       "\n",
       "    .dataframe tbody tr th {\n",
       "        vertical-align: top;\n",
       "    }\n",
       "\n",
       "    .dataframe thead th {\n",
       "        text-align: right;\n",
       "    }\n",
       "</style>\n",
       "<table border=\"1\" class=\"dataframe\">\n",
       "  <thead>\n",
       "    <tr style=\"text-align: right;\">\n",
       "      <th></th>\n",
       "      <th>product_title</th>\n",
       "      <th>star_rating</th>\n",
       "      <th>review_headline</th>\n",
       "      <th>review_body</th>\n",
       "    </tr>\n",
       "  </thead>\n",
       "  <tbody>\n",
       "    <tr>\n",
       "      <th>0</th>\n",
       "      <td>yoomall 5M Antenna WIFI RP-SMA Female to Male ...</td>\n",
       "      <td>5</td>\n",
       "      <td>Five Stars</td>\n",
       "      <td>As described.</td>\n",
       "    </tr>\n",
       "    <tr>\n",
       "      <th>1</th>\n",
       "      <td>Hosa GPM-103 3.5mm TRS to 1/4\" TRS Adaptor</td>\n",
       "      <td>5</td>\n",
       "      <td>It works as advertising.</td>\n",
       "      <td>It works as advertising.</td>\n",
       "    </tr>\n",
       "    <tr>\n",
       "      <th>2</th>\n",
       "      <td>Channel Master Titan 2 Antenna Preamplifier</td>\n",
       "      <td>5</td>\n",
       "      <td>Five Stars</td>\n",
       "      <td>Works pissa</td>\n",
       "    </tr>\n",
       "    <tr>\n",
       "      <th>3</th>\n",
       "      <td>LIMTECH Wall charger + USB Hotsync &amp; Charging ...</td>\n",
       "      <td>1</td>\n",
       "      <td>One Star</td>\n",
       "      <td>Did not work at all.</td>\n",
       "    </tr>\n",
       "    <tr>\n",
       "      <th>4</th>\n",
       "      <td>Skullcandy Air Raid Portable Bluetooth Speaker</td>\n",
       "      <td>5</td>\n",
       "      <td>Overall pleased with the item</td>\n",
       "      <td>Works well. Bass is somewhat lacking but is pr...</td>\n",
       "    </tr>\n",
       "  </tbody>\n",
       "</table>\n",
       "</div>"
      ],
      "text/plain": [
       "                                       product_title  star_rating  \\\n",
       "0  yoomall 5M Antenna WIFI RP-SMA Female to Male ...            5   \n",
       "1         Hosa GPM-103 3.5mm TRS to 1/4\" TRS Adaptor            5   \n",
       "2        Channel Master Titan 2 Antenna Preamplifier            5   \n",
       "3  LIMTECH Wall charger + USB Hotsync & Charging ...            1   \n",
       "4     Skullcandy Air Raid Portable Bluetooth Speaker            5   \n",
       "\n",
       "                 review_headline  \\\n",
       "0                     Five Stars   \n",
       "1       It works as advertising.   \n",
       "2                     Five Stars   \n",
       "3                       One Star   \n",
       "4  Overall pleased with the item   \n",
       "\n",
       "                                         review_body  \n",
       "0                                      As described.  \n",
       "1                           It works as advertising.  \n",
       "2                                        Works pissa  \n",
       "3                               Did not work at all.  \n",
       "4  Works well. Bass is somewhat lacking but is pr...  "
      ]
     },
     "execution_count": 15,
     "metadata": {},
     "output_type": "execute_result"
    }
   ],
   "source": [
    "df2.head()"
   ]
  },
  {
   "cell_type": "code",
   "execution_count": 16,
   "metadata": {},
   "outputs": [],
   "source": [
    "#create DFs of each class\n",
    "df_class1 = df2[df2.star_rating == 1]\n",
    "df_class2 = df2[df2.star_rating == 2]\n",
    "df_class3 = df2[df2.star_rating == 3]\n",
    "df_class4 = df2[df2.star_rating == 4]\n",
    "df_class5 = df2[df2.star_rating == 5]"
   ]
  },
  {
   "cell_type": "code",
   "execution_count": 17,
   "metadata": {},
   "outputs": [],
   "source": [
    "#sample the data of star rating of 5 and 4, because more than 70% of the reviews belong to label 5\n",
    "df_class5 = df_class5.sample(n=200000, random_state=52)\n",
    "df_class4 = df_class4.sample(n=200000, random_state=52)"
   ]
  },
  {
   "cell_type": "code",
   "execution_count": 18,
   "metadata": {},
   "outputs": [
    {
     "name": "stdout",
     "output_type": "stream",
     "text": [
      "<class 'pandas.core.frame.DataFrame'>\n",
      "RangeIndex: 1012976 entries, 0 to 1012975\n",
      "Data columns (total 4 columns):\n",
      "product_title      1012976 non-null object\n",
      "star_rating        1012976 non-null int64\n",
      "review_headline    1012976 non-null object\n",
      "review_body        1012976 non-null object\n",
      "dtypes: int64(1), object(3)\n",
      "memory usage: 30.9+ MB\n"
     ]
    }
   ],
   "source": [
    "#concatinate the dataframes\n",
    "df3 = pd.concat([df_class1, df_class2,df_class3,df_class4,df_class5], ignore_index=True)\n",
    "df3.info()"
   ]
  },
  {
   "cell_type": "code",
   "execution_count": 19,
   "metadata": {},
   "outputs": [
    {
     "data": {
      "text/plain": [
       "1    276682\n",
       "5    200000\n",
       "4    200000\n",
       "3    195640\n",
       "2    140654\n",
       "Name: star_rating, dtype: int64"
      ]
     },
     "execution_count": 19,
     "metadata": {},
     "output_type": "execute_result"
    }
   ],
   "source": [
    "#check the class imbalance\n",
    "df3.star_rating.value_counts()"
   ]
  },
  {
   "cell_type": "code",
   "execution_count": 20,
   "metadata": {},
   "outputs": [
    {
     "data": {
      "text/html": [
       "<div>\n",
       "<style scoped>\n",
       "    .dataframe tbody tr th:only-of-type {\n",
       "        vertical-align: middle;\n",
       "    }\n",
       "\n",
       "    .dataframe tbody tr th {\n",
       "        vertical-align: top;\n",
       "    }\n",
       "\n",
       "    .dataframe thead th {\n",
       "        text-align: right;\n",
       "    }\n",
       "</style>\n",
       "<table border=\"1\" class=\"dataframe\">\n",
       "  <thead>\n",
       "    <tr style=\"text-align: right;\">\n",
       "      <th></th>\n",
       "      <th>product_title</th>\n",
       "      <th>star_rating</th>\n",
       "      <th>review_headline</th>\n",
       "      <th>review_body</th>\n",
       "    </tr>\n",
       "  </thead>\n",
       "  <tbody>\n",
       "    <tr>\n",
       "      <th>0</th>\n",
       "      <td>Aurum Ultra Series - High Speed Micro HDMI to ...</td>\n",
       "      <td>2</td>\n",
       "      <td>Two Stars</td>\n",
       "      <td>Not the right size !</td>\n",
       "    </tr>\n",
       "    <tr>\n",
       "      <th>1</th>\n",
       "      <td>CR2032 Maxell LITHIUM 5 BATTERIES</td>\n",
       "      <td>5</td>\n",
       "      <td>Work exactly as they should</td>\n",
       "      <td>They come in a blister pack of 5 batteries.  T...</td>\n",
       "    </tr>\n",
       "    <tr>\n",
       "      <th>2</th>\n",
       "      <td>XBMC KEY. (GOTHAM EDITION) Install Xbmc and 10...</td>\n",
       "      <td>1</td>\n",
       "      <td>never again, hard too set up..</td>\n",
       "      <td>never again,hard too set up..</td>\n",
       "    </tr>\n",
       "    <tr>\n",
       "      <th>3</th>\n",
       "      <td>Timex TX5020 LCD Electronic Indoor and Outdoor...</td>\n",
       "      <td>2</td>\n",
       "      <td>OK if you're lucky</td>\n",
       "      <td>I bought two units and place them side by side...</td>\n",
       "    </tr>\n",
       "    <tr>\n",
       "      <th>4</th>\n",
       "      <td>BlueRigger DVI Male to DVI Male Digital Dual-L...</td>\n",
       "      <td>5</td>\n",
       "      <td>Perfect cable</td>\n",
       "      <td>This cable is exactly what I needed. They are ...</td>\n",
       "    </tr>\n",
       "  </tbody>\n",
       "</table>\n",
       "</div>"
      ],
      "text/plain": [
       "                                       product_title  star_rating  \\\n",
       "0  Aurum Ultra Series - High Speed Micro HDMI to ...            2   \n",
       "1                  CR2032 Maxell LITHIUM 5 BATTERIES            5   \n",
       "2  XBMC KEY. (GOTHAM EDITION) Install Xbmc and 10...            1   \n",
       "3  Timex TX5020 LCD Electronic Indoor and Outdoor...            2   \n",
       "4  BlueRigger DVI Male to DVI Male Digital Dual-L...            5   \n",
       "\n",
       "                  review_headline  \\\n",
       "0                       Two Stars   \n",
       "1     Work exactly as they should   \n",
       "2  never again, hard too set up..   \n",
       "3              OK if you're lucky   \n",
       "4                   Perfect cable   \n",
       "\n",
       "                                         review_body  \n",
       "0                               Not the right size !  \n",
       "1  They come in a blister pack of 5 batteries.  T...  \n",
       "2                      never again,hard too set up..  \n",
       "3  I bought two units and place them side by side...  \n",
       "4  This cable is exactly what I needed. They are ...  "
      ]
     },
     "execution_count": 20,
     "metadata": {},
     "output_type": "execute_result"
    }
   ],
   "source": [
    "#shuffle the dataframe,  so all labels wouldn't be in order.\n",
    "df4 = df3.sample(frac=1).reset_index(drop=True)\n",
    "df4.head()"
   ]
  },
  {
   "cell_type": "code",
   "execution_count": 52,
   "metadata": {},
   "outputs": [],
   "source": [
    "#feature engineering a column that shows the feeling of the review (emotion)\n",
    "def emotion(row):\n",
    "    if row.star_rating == 1 or row.star_rating == 2:\n",
    "        y = 'Negative'\n",
    "    elif row.star_rating == 4 or row.star_rating == 5:\n",
    "        y = 'Positive'\n",
    "    else:\n",
    "        y = \"Neutral\"\n",
    "    return y       "
   ]
  },
  {
   "cell_type": "code",
   "execution_count": 22,
   "metadata": {},
   "outputs": [],
   "source": [
    "#create the new column on the fly\n",
    "df4['emotion'] = df4.apply(lambda row: emotion(row), axis=1)"
   ]
  },
  {
   "cell_type": "code",
   "execution_count": 23,
   "metadata": {},
   "outputs": [
    {
     "data": {
      "text/html": [
       "<div>\n",
       "<style scoped>\n",
       "    .dataframe tbody tr th:only-of-type {\n",
       "        vertical-align: middle;\n",
       "    }\n",
       "\n",
       "    .dataframe tbody tr th {\n",
       "        vertical-align: top;\n",
       "    }\n",
       "\n",
       "    .dataframe thead th {\n",
       "        text-align: right;\n",
       "    }\n",
       "</style>\n",
       "<table border=\"1\" class=\"dataframe\">\n",
       "  <thead>\n",
       "    <tr style=\"text-align: right;\">\n",
       "      <th></th>\n",
       "      <th>product_title</th>\n",
       "      <th>star_rating</th>\n",
       "      <th>review_headline</th>\n",
       "      <th>review_body</th>\n",
       "      <th>emotion</th>\n",
       "    </tr>\n",
       "  </thead>\n",
       "  <tbody>\n",
       "    <tr>\n",
       "      <th>0</th>\n",
       "      <td>Aurum Ultra Series - High Speed Micro HDMI to ...</td>\n",
       "      <td>2</td>\n",
       "      <td>Two Stars</td>\n",
       "      <td>Not the right size !</td>\n",
       "      <td>Negative</td>\n",
       "    </tr>\n",
       "    <tr>\n",
       "      <th>1</th>\n",
       "      <td>CR2032 Maxell LITHIUM 5 BATTERIES</td>\n",
       "      <td>5</td>\n",
       "      <td>Work exactly as they should</td>\n",
       "      <td>They come in a blister pack of 5 batteries.  T...</td>\n",
       "      <td>Positive</td>\n",
       "    </tr>\n",
       "    <tr>\n",
       "      <th>2</th>\n",
       "      <td>XBMC KEY. (GOTHAM EDITION) Install Xbmc and 10...</td>\n",
       "      <td>1</td>\n",
       "      <td>never again, hard too set up..</td>\n",
       "      <td>never again,hard too set up..</td>\n",
       "      <td>Negative</td>\n",
       "    </tr>\n",
       "    <tr>\n",
       "      <th>3</th>\n",
       "      <td>Timex TX5020 LCD Electronic Indoor and Outdoor...</td>\n",
       "      <td>2</td>\n",
       "      <td>OK if you're lucky</td>\n",
       "      <td>I bought two units and place them side by side...</td>\n",
       "      <td>Negative</td>\n",
       "    </tr>\n",
       "    <tr>\n",
       "      <th>4</th>\n",
       "      <td>BlueRigger DVI Male to DVI Male Digital Dual-L...</td>\n",
       "      <td>5</td>\n",
       "      <td>Perfect cable</td>\n",
       "      <td>This cable is exactly what I needed. They are ...</td>\n",
       "      <td>Positive</td>\n",
       "    </tr>\n",
       "  </tbody>\n",
       "</table>\n",
       "</div>"
      ],
      "text/plain": [
       "                                       product_title  star_rating  \\\n",
       "0  Aurum Ultra Series - High Speed Micro HDMI to ...            2   \n",
       "1                  CR2032 Maxell LITHIUM 5 BATTERIES            5   \n",
       "2  XBMC KEY. (GOTHAM EDITION) Install Xbmc and 10...            1   \n",
       "3  Timex TX5020 LCD Electronic Indoor and Outdoor...            2   \n",
       "4  BlueRigger DVI Male to DVI Male Digital Dual-L...            5   \n",
       "\n",
       "                  review_headline  \\\n",
       "0                       Two Stars   \n",
       "1     Work exactly as they should   \n",
       "2  never again, hard too set up..   \n",
       "3              OK if you're lucky   \n",
       "4                   Perfect cable   \n",
       "\n",
       "                                         review_body   emotion  \n",
       "0                               Not the right size !  Negative  \n",
       "1  They come in a blister pack of 5 batteries.  T...  Positive  \n",
       "2                      never again,hard too set up..  Negative  \n",
       "3  I bought two units and place them side by side...  Negative  \n",
       "4  This cable is exactly what I needed. They are ...  Positive  "
      ]
     },
     "execution_count": 23,
     "metadata": {},
     "output_type": "execute_result"
    }
   ],
   "source": [
    "df4.head()"
   ]
  },
  {
   "cell_type": "markdown",
   "metadata": {},
   "source": [
    "#### Text Cleaning"
   ]
  },
  {
   "cell_type": "code",
   "execution_count": 24,
   "metadata": {},
   "outputs": [],
   "source": [
    "#define a function to remove special characters, make all letters lower, and remove additional spaces\n",
    "def text_cleaner(sentence):\n",
    "    sentence = sentence.lower()\n",
    "    cleaner = re.compile('[^a-z]')\n",
    "    cleantext = re.sub(cleaner, ' ', sentence)\n",
    "    cleaner1 = re.compile('\\s+')\n",
    "    cleantext2 = re.sub(cleaner1, ' ', cleantext)\n",
    "    return cleantext2"
   ]
  },
  {
   "cell_type": "code",
   "execution_count": 25,
   "metadata": {},
   "outputs": [],
   "source": [
    "df4['clean_review'] = df4['review_body'].map(lambda s:text_cleaner(s))"
   ]
  },
  {
   "cell_type": "code",
   "execution_count": 26,
   "metadata": {},
   "outputs": [
    {
     "data": {
      "text/html": [
       "<div>\n",
       "<style scoped>\n",
       "    .dataframe tbody tr th:only-of-type {\n",
       "        vertical-align: middle;\n",
       "    }\n",
       "\n",
       "    .dataframe tbody tr th {\n",
       "        vertical-align: top;\n",
       "    }\n",
       "\n",
       "    .dataframe thead th {\n",
       "        text-align: right;\n",
       "    }\n",
       "</style>\n",
       "<table border=\"1\" class=\"dataframe\">\n",
       "  <thead>\n",
       "    <tr style=\"text-align: right;\">\n",
       "      <th></th>\n",
       "      <th>product_title</th>\n",
       "      <th>star_rating</th>\n",
       "      <th>review_headline</th>\n",
       "      <th>review_body</th>\n",
       "      <th>emotion</th>\n",
       "      <th>clean_review</th>\n",
       "    </tr>\n",
       "  </thead>\n",
       "  <tbody>\n",
       "    <tr>\n",
       "      <th>1012971</th>\n",
       "      <td>Spinning Remote Control Organizer with Picture...</td>\n",
       "      <td>3</td>\n",
       "      <td>Much smaller</td>\n",
       "      <td>It is much smaller than what I thought...not w...</td>\n",
       "      <td>Neutral</td>\n",
       "      <td>it is much smaller than what i thought not wor...</td>\n",
       "    </tr>\n",
       "    <tr>\n",
       "      <th>1012972</th>\n",
       "      <td>Esky 1080P HD Ready Directional HDTV DTV Ampli...</td>\n",
       "      <td>2</td>\n",
       "      <td>Two Stars</td>\n",
       "      <td>Did not receive any extra channels when compar...</td>\n",
       "      <td>Negative</td>\n",
       "      <td>did not receive any extra channels when compar...</td>\n",
       "    </tr>\n",
       "    <tr>\n",
       "      <th>1012973</th>\n",
       "      <td>Clip Plus 4 GB MP3 Player (Black)</td>\n",
       "      <td>2</td>\n",
       "      <td>Worked well for awhile</td>\n",
       "      <td>Stopped working all together after about 90 da...</td>\n",
       "      <td>Negative</td>\n",
       "      <td>stopped working all together after about days ...</td>\n",
       "    </tr>\n",
       "    <tr>\n",
       "      <th>1012974</th>\n",
       "      <td>12 Pack of 3.7V 5000mAH 18650 Rechargeable Li-...</td>\n",
       "      <td>3</td>\n",
       "      <td>OUT OF JUICE !!</td>\n",
       "      <td>Horrible batteries. ....dont hold a charge con...</td>\n",
       "      <td>Neutral</td>\n",
       "      <td>horrible batteries dont hold a charge constant...</td>\n",
       "    </tr>\n",
       "    <tr>\n",
       "      <th>1012975</th>\n",
       "      <td>Sennheiser Sports Earbud Headphones</td>\n",
       "      <td>1</td>\n",
       "      <td>Aweful sports band</td>\n",
       "      <td>These were the worst earphones i have ever bou...</td>\n",
       "      <td>Negative</td>\n",
       "      <td>these were the worst earphones i have ever bou...</td>\n",
       "    </tr>\n",
       "  </tbody>\n",
       "</table>\n",
       "</div>"
      ],
      "text/plain": [
       "                                             product_title  star_rating  \\\n",
       "1012971  Spinning Remote Control Organizer with Picture...            3   \n",
       "1012972  Esky 1080P HD Ready Directional HDTV DTV Ampli...            2   \n",
       "1012973                  Clip Plus 4 GB MP3 Player (Black)            2   \n",
       "1012974  12 Pack of 3.7V 5000mAH 18650 Rechargeable Li-...            3   \n",
       "1012975                Sennheiser Sports Earbud Headphones            1   \n",
       "\n",
       "                review_headline  \\\n",
       "1012971            Much smaller   \n",
       "1012972               Two Stars   \n",
       "1012973  Worked well for awhile   \n",
       "1012974         OUT OF JUICE !!   \n",
       "1012975      Aweful sports band   \n",
       "\n",
       "                                               review_body   emotion  \\\n",
       "1012971  It is much smaller than what I thought...not w...   Neutral   \n",
       "1012972  Did not receive any extra channels when compar...  Negative   \n",
       "1012973  Stopped working all together after about 90 da...  Negative   \n",
       "1012974  Horrible batteries. ....dont hold a charge con...   Neutral   \n",
       "1012975  These were the worst earphones i have ever bou...  Negative   \n",
       "\n",
       "                                              clean_review  \n",
       "1012971  it is much smaller than what i thought not wor...  \n",
       "1012972  did not receive any extra channels when compar...  \n",
       "1012973  stopped working all together after about days ...  \n",
       "1012974  horrible batteries dont hold a charge constant...  \n",
       "1012975  these were the worst earphones i have ever bou...  "
      ]
     },
     "execution_count": 26,
     "metadata": {},
     "output_type": "execute_result"
    }
   ],
   "source": [
    "df4.tail(5)"
   ]
  },
  {
   "cell_type": "code",
   "execution_count": 48,
   "metadata": {},
   "outputs": [],
   "source": [
    "df5 = df4.copy()"
   ]
  },
  {
   "cell_type": "code",
   "execution_count": 49,
   "metadata": {},
   "outputs": [],
   "source": [
    "df5.drop(columns=['product_title', 'review_headline'], axis=1, inplace=True)"
   ]
  },
  {
   "cell_type": "code",
   "execution_count": 53,
   "metadata": {},
   "outputs": [],
   "source": [
    "#feature engineering a column that shows the feeling of the review (emotion)\n",
    "def emotion_1(row):\n",
    "    if row.star_rating == 1 or row.star_rating == 2:\n",
    "        y = 'Negative'\n",
    "    else:\n",
    "        y = 'Not Negative'\n",
    "    \n",
    "    return y    "
   ]
  },
  {
   "cell_type": "code",
   "execution_count": 54,
   "metadata": {},
   "outputs": [],
   "source": [
    "#create the new column on the fly\n",
    "df5['emotion'] = df5.apply(lambda row: emotion_1(row), axis=1)"
   ]
  },
  {
   "cell_type": "code",
   "execution_count": 55,
   "metadata": {},
   "outputs": [
    {
     "data": {
      "text/html": [
       "<div>\n",
       "<style scoped>\n",
       "    .dataframe tbody tr th:only-of-type {\n",
       "        vertical-align: middle;\n",
       "    }\n",
       "\n",
       "    .dataframe tbody tr th {\n",
       "        vertical-align: top;\n",
       "    }\n",
       "\n",
       "    .dataframe thead th {\n",
       "        text-align: right;\n",
       "    }\n",
       "</style>\n",
       "<table border=\"1\" class=\"dataframe\">\n",
       "  <thead>\n",
       "    <tr style=\"text-align: right;\">\n",
       "      <th></th>\n",
       "      <th>star_rating</th>\n",
       "      <th>review_body</th>\n",
       "      <th>emotion</th>\n",
       "      <th>clean_review</th>\n",
       "    </tr>\n",
       "  </thead>\n",
       "  <tbody>\n",
       "    <tr>\n",
       "      <th>0</th>\n",
       "      <td>2</td>\n",
       "      <td>Not the right size !</td>\n",
       "      <td>Negative</td>\n",
       "      <td>not the right size</td>\n",
       "    </tr>\n",
       "    <tr>\n",
       "      <th>1</th>\n",
       "      <td>5</td>\n",
       "      <td>They come in a blister pack of 5 batteries.  T...</td>\n",
       "      <td>Not Negative</td>\n",
       "      <td>they come in a blister pack of batteries the u...</td>\n",
       "    </tr>\n",
       "    <tr>\n",
       "      <th>2</th>\n",
       "      <td>1</td>\n",
       "      <td>never again,hard too set up..</td>\n",
       "      <td>Negative</td>\n",
       "      <td>never again hard too set up</td>\n",
       "    </tr>\n",
       "    <tr>\n",
       "      <th>3</th>\n",
       "      <td>2</td>\n",
       "      <td>I bought two units and place them side by side...</td>\n",
       "      <td>Negative</td>\n",
       "      <td>i bought two units and place them side by side...</td>\n",
       "    </tr>\n",
       "    <tr>\n",
       "      <th>4</th>\n",
       "      <td>5</td>\n",
       "      <td>This cable is exactly what I needed. They are ...</td>\n",
       "      <td>Not Negative</td>\n",
       "      <td>this cable is exactly what i needed they are c...</td>\n",
       "    </tr>\n",
       "  </tbody>\n",
       "</table>\n",
       "</div>"
      ],
      "text/plain": [
       "   star_rating                                        review_body  \\\n",
       "0            2                               Not the right size !   \n",
       "1            5  They come in a blister pack of 5 batteries.  T...   \n",
       "2            1                      never again,hard too set up..   \n",
       "3            2  I bought two units and place them side by side...   \n",
       "4            5  This cable is exactly what I needed. They are ...   \n",
       "\n",
       "        emotion                                       clean_review  \n",
       "0      Negative                                not the right size   \n",
       "1  Not Negative  they come in a blister pack of batteries the u...  \n",
       "2      Negative                       never again hard too set up   \n",
       "3      Negative  i bought two units and place them side by side...  \n",
       "4  Not Negative  this cable is exactly what i needed they are c...  "
      ]
     },
     "execution_count": 55,
     "metadata": {},
     "output_type": "execute_result"
    }
   ],
   "source": [
    "df5.head()"
   ]
  },
  {
   "cell_type": "code",
   "execution_count": 895,
   "metadata": {},
   "outputs": [
    {
     "data": {
      "text/plain": [
       "1012976"
      ]
     },
     "execution_count": 895,
     "metadata": {},
     "output_type": "execute_result"
    }
   ],
   "source": [
    "len(df5)"
   ]
  },
  {
   "cell_type": "code",
   "execution_count": 513,
   "metadata": {},
   "outputs": [
    {
     "data": {
      "text/plain": [
       "Not Negative    595640\n",
       "Negative        417336\n",
       "Name: emotion, dtype: int64"
      ]
     },
     "execution_count": 513,
     "metadata": {},
     "output_type": "execute_result"
    }
   ],
   "source": [
    "df5.emotion.value_counts()"
   ]
  },
  {
   "cell_type": "markdown",
   "metadata": {},
   "source": [
    "### EDA"
   ]
  },
  {
   "cell_type": "code",
   "execution_count": 806,
   "metadata": {},
   "outputs": [
    {
     "data": {
      "image/png": "[encoded data removed]",
      "text/plain": [
       "<Figure size 1008x432 with 2 Axes>"
      ]
     },
     "metadata": {
      "needs_background": "light"
     },
     "output_type": "display_data"
    }
   ],
   "source": [
    "\n",
    "plt.figure(figsize = (14, 6))   \n",
    "\n",
    "ax0 = plt.subplot(1, 2, 1)\n",
    "ax1 = plt.subplot(1, 2, 2)\n",
    "\n",
    "proportion = df5['star_rating'].value_counts()/df5.shape[0]\n",
    "negative = len(df5[df5['emotion'] == 'Negative'])\n",
    "not_negative = len(df5[df5['emotion'] == 'Not Negative'])\n",
    "# No = len(df_classes[df_classes['classes'] == 'No'])\n",
    "# Pituitary = len(df_classes[df_classes['classes'] == 'Pituitary'])\n",
    "\n",
    "sns.countplot(x = 'emotion', data = df5, \n",
    "              palette = ['grey', 'orange'], ax = ax0)\n",
    "ax0.set_title('Number of Reviews by Sentiment', size = 13)\n",
    "ax0.set_xlabel(None)\n",
    "ax0.text(x = 0, y = 100, s = negative, size = 11, \n",
    "         color = 'black', horizontalalignment = 'center')\n",
    "ax0.text(x = 1, y = 100, s = not_negative, size = 11,\n",
    "        color = 'black', horizontalalignment = 'center')\n",
    "# ax0.text(x = 2, y = 100, s = No, size = 11,\n",
    "#         color = 'black', horizontalalignment = 'center')\n",
    "# ax0.text(x = 3, y = 100, s = Pituitary, size = 11,\n",
    "#         color = 'white', horizontalalignment = 'center')\n",
    "ax0.yaxis.set_visible(False)\n",
    "sns.despine(left = True)\n",
    "\n",
    "proportion.plot(kind = 'pie', autopct = '%.1f%%', \n",
    "                explode = [0, 0, 0, 0, 0], shadow = False,\n",
    "                labels = ['#Star(*)', '#Star(**)', '#Star(***)', '#Star(****)','#Star(*****)'],\n",
    "                colors = ['grey','orange', 'blue' , 'green', 'violet'], \n",
    "                ax = ax1)\n",
    "ax1.set_title('Percent of Reviews by Star Rating')\n",
    "ax1.yaxis.set_visible(False)\n",
    "\n",
    "plt.subplots_adjust(wspace = 0.5)\n",
    "plt.show()"
   ]
  },
  {
   "cell_type": "code",
   "execution_count": 58,
   "metadata": {},
   "outputs": [
    {
     "data": {
      "text/plain": [
       "'it is a waste of money go for higher models this model hiss and noise level makes useless i own for a long time now but hardly use it due to hiss '"
      ]
     },
     "execution_count": 58,
     "metadata": {},
     "output_type": "execute_result"
    }
   ],
   "source": [
    "#an example of a review\n",
    "df5.clean_review[12]"
   ]
  },
  {
   "cell_type": "code",
   "execution_count": 59,
   "metadata": {},
   "outputs": [
    {
     "data": {
      "text/plain": [
       "'Negative'"
      ]
     },
     "execution_count": 59,
     "metadata": {},
     "output_type": "execute_result"
    }
   ],
   "source": [
    "df5.emotion[12]"
   ]
  },
  {
   "cell_type": "code",
   "execution_count": 65,
   "metadata": {},
   "outputs": [],
   "source": [
    "def pretty_print_review_label(i):\n",
    "    print(df5.emotion[i] + \" \\t : \\t \" + df5.clean_review[i][:80] + \"...\")"
   ]
  },
  {
   "cell_type": "code",
   "execution_count": 66,
   "metadata": {},
   "outputs": [
    {
     "name": "stdout",
     "output_type": "stream",
     "text": [
      "Labels \t\t : \t Review\n",
      "\n",
      "Not Negative \t : \t fits onto our tv perfectly without adapters great sound easy to use my husband c...\n",
      "Negative \t : \t my computer did not recognize this product and from reading the other reviews on...\n",
      "Not Negative \t : \t they work ok br sound is ok br everything is ok no bad no good just ok br built ...\n",
      "Not Negative \t : \t this is a gift to be given at the end of sept so it has not been opened as yet i...\n",
      "Negative \t : \t i m a bit disappointed in the product love the bose but after reading and re rea...\n"
     ]
    }
   ],
   "source": [
    "# How could I take this dataset and validate my theory that words are predictive of labels.\n",
    "print(\"Labels \\t\\t : \\t Review\\n\")\n",
    "pretty_print_review_label(100)\n",
    "pretty_print_review_label(1000)\n",
    "pretty_print_review_label(10000)\n",
    "pretty_print_review_label(100000)\n",
    "pretty_print_review_label(1000003)"
   ]
  },
  {
   "cell_type": "code",
   "execution_count": 514,
   "metadata": {},
   "outputs": [],
   "source": [
    "#Count acts a lot like a dictionary, but they actually don't create the key, so they are much faster\n",
    "not_negative_counts = Counter()\n",
    "negative_counts = Counter()\n",
    "total_counts = Counter()"
   ]
  },
  {
   "cell_type": "code",
   "execution_count": 515,
   "metadata": {},
   "outputs": [],
   "source": [
    "for i in range(len(df5)):\n",
    "    if (df5.emotion[i] == 'Not Negative'):\n",
    "        for word in df5.clean_review[i].split(\" \"): #to count every positive word in a positive review\n",
    "            not_negative_counts[word] += 1\n",
    "            total_counts[word] += 1\n",
    "    \n",
    "    else:\n",
    "        for word in df5.clean_review[i].split(\" \"):\n",
    "            negative_counts[word] += 1\n",
    "            total_counts[word] += 1"
   ]
  },
  {
   "cell_type": "code",
   "execution_count": 516,
   "metadata": {},
   "outputs": [
    {
     "data": {
      "text/plain": [
       "142478"
      ]
     },
     "execution_count": 516,
     "metadata": {},
     "output_type": "execute_result"
    }
   ],
   "source": [
    "#Total number of words\n",
    "len(total_counts)"
   ]
  },
  {
   "cell_type": "code",
   "execution_count": 517,
   "metadata": {},
   "outputs": [
    {
     "data": {
      "text/plain": [
       "88320"
      ]
     },
     "execution_count": 517,
     "metadata": {},
     "output_type": "execute_result"
    }
   ],
   "source": [
    "len(negative_counts)"
   ]
  },
  {
   "cell_type": "code",
   "execution_count": 518,
   "metadata": {},
   "outputs": [
    {
     "data": {
      "text/plain": [
       "107568"
      ]
     },
     "execution_count": 518,
     "metadata": {},
     "output_type": "execute_result"
    }
   ],
   "source": [
    "len(not_negative_counts)"
   ]
  },
  {
   "cell_type": "code",
   "execution_count": null,
   "metadata": {},
   "outputs": [],
   "source": []
  },
  {
   "cell_type": "code",
   "execution_count": 519,
   "metadata": {},
   "outputs": [
    {
     "data": {
      "text/plain": [
       "[('the', 2041740),\n",
       " ('i', 1295467),\n",
       " ('to', 1048563),\n",
       " ('and', 963422),\n",
       " ('it', 937281),\n",
       " ('a', 911067),\n",
       " ('is', 608193),\n",
       " ('for', 547863),\n",
       " ('', 496550),\n",
       " ('of', 490949),\n",
       " ('this', 433306),\n",
       " ('my', 427968),\n",
       " ('br', 410187),\n",
       " ('in', 400225),\n",
       " ('that', 392504),\n",
       " ('with', 359105),\n",
       " ('but', 358952),\n",
       " ('on', 325832),\n",
       " ('you', 322606),\n",
       " ('not', 304675)]"
      ]
     },
     "execution_count": 519,
     "metadata": {},
     "output_type": "execute_result"
    }
   ],
   "source": [
    "not_negative_counts.most_common()[:20]"
   ]
  },
  {
   "cell_type": "code",
   "execution_count": 520,
   "metadata": {},
   "outputs": [
    {
     "data": {
      "text/plain": [
       "[('the', 1381085),\n",
       " ('i', 964436),\n",
       " ('to', 714286),\n",
       " ('it', 712934),\n",
       " ('and', 639897),\n",
       " ('a', 587627),\n",
       " ('of', 357742),\n",
       " ('this', 350962),\n",
       " ('', 350124),\n",
       " ('not', 343817),\n",
       " ('is', 334288),\n",
       " ('for', 312655),\n",
       " ('in', 268851),\n",
       " ('my', 266477),\n",
       " ('that', 258386),\n",
       " ('br', 252823),\n",
       " ('was', 250122),\n",
       " ('t', 237871),\n",
       " ('on', 231259),\n",
       " ('but', 222247)]"
      ]
     },
     "execution_count": 520,
     "metadata": {},
     "output_type": "execute_result"
    }
   ],
   "source": [
    "negative_counts.most_common()[:20]"
   ]
  },
  {
   "cell_type": "markdown",
   "metadata": {},
   "source": [
    "* we are not really intersted in the most frequent positive words, we are interested in words that are most frequently positive versus negative.\n",
    "\n",
    "* we want to come up with some sort of ratio that is more comparative between these two lists"
   ]
  },
  {
   "cell_type": "code",
   "execution_count": 521,
   "metadata": {},
   "outputs": [],
   "source": [
    "#because most of the most common words in positive and negative lists are almost the same, making a ratio would solve\n",
    "#the issue\n",
    "pos_neg_ratios = Counter()\n",
    "\n",
    "for term,cnt in list(total_counts.most_common()):\n",
    "    if(cnt>200):\n",
    "        pos_neg_ratio = not_negative_counts[term] / float(negative_counts[term]+1)\n",
    "        pos_neg_ratios[term] = pos_neg_ratio"
   ]
  },
  {
   "cell_type": "code",
   "execution_count": 524,
   "metadata": {},
   "outputs": [],
   "source": [
    "#Make it even better\n",
    "for word, ratio in list(pos_neg_ratios.most_common()):\n",
    "    if(ratio > 1):\n",
    "        pos_neg_ratios[word] = np.log(ratio)\n",
    "    else:\n",
    "        pos_neg_ratios[word] = -np.log((1/(ratio+0.01)))\n",
    "      "
   ]
  },
  {
   "cell_type": "code",
   "execution_count": 525,
   "metadata": {},
   "outputs": [
    {
     "data": {
      "text/plain": [
       "[('excelente', 3.290886360844473),\n",
       " ('excelent', 2.9980024220885304),\n",
       " ('loves', 2.50294757455331),\n",
       " ('pleasantly', 2.4287120914443583),\n",
       " ('blends', 2.3789073605536792),\n",
       " ('fills', 2.367123614131617),\n",
       " ('downside', 2.3454766576233586),\n",
       " ('frills', 2.313884648247979),\n",
       " ('drawback', 2.2936785521778424),\n",
       " ('exceeded', 2.2767643933723027),\n",
       " ('regrets', 2.1757183721152558),\n",
       " ('compliments', 2.047006265926682),\n",
       " ('unobtrusive', 2.038433517952459),\n",
       " ('bonus', 2.0270212557278913),\n",
       " ('caveats', 2.0074680420547466),\n",
       " ('unbeatable', 2.0045936508834035),\n",
       " ('soundstage', 2.0043209112117277),\n",
       " ('suits', 2.000916778567525),\n",
       " ('versatility', 1.9996355484114763),\n",
       " ('beat', 1.9957974411822226)]"
      ]
     },
     "execution_count": 525,
     "metadata": {},
     "output_type": "execute_result"
    }
   ],
   "source": [
    "#words frequently seen in a review with a 'Positive' label\n",
    "pos_neg_ratios.most_common()[:20]"
   ]
  },
  {
   "cell_type": "code",
   "execution_count": 526,
   "metadata": {},
   "outputs": [
    {
     "data": {
      "text/plain": [
       "[('fraud', -2.861729294030844),\n",
       " ('wast', -2.5939416535313415),\n",
       " ('waste', -2.3469097180655027),\n",
       " ('junk', -2.3440774616522004),\n",
       " ('scam', -2.2233088038017814),\n",
       " ('garbage', -2.0995027322203055),\n",
       " ('paperweight', -2.088802204039861),\n",
       " ('pos', -2.0616082683420447),\n",
       " ('recourse', -1.9790162612087407),\n",
       " ('refunds', -1.9329888089478),\n",
       " ('returnable', -1.8921938665498255),\n",
       " ('ashamed', -1.8782515005814986),\n",
       " ('trash', -1.8630385921927592),\n",
       " ('unsatisfied', -1.850624740427249),\n",
       " ('refund', -1.837381733677251),\n",
       " ('disgusted', -1.8045684275206362),\n",
       " ('restocking', -1.7707671917469574),\n",
       " ('wasted', -1.7392181921997867),\n",
       " ('utter', -1.7301389022485536),\n",
       " ('deadline', -1.70073654143535)]"
      ]
     },
     "execution_count": 526,
     "metadata": {},
     "output_type": "execute_result"
    }
   ],
   "source": [
    "#words frequently seen in a review with a 'Negative' label\n",
    "list(reversed(pos_neg_ratios.most_common()))[:20]"
   ]
  },
  {
   "cell_type": "markdown",
   "metadata": {},
   "source": [
    "## Design a Neural Network"
   ]
  },
  {
   "cell_type": "code",
   "execution_count": 80,
   "metadata": {},
   "outputs": [
    {
     "name": "stdout",
     "output_type": "stream",
     "text": [
      "142478\n"
     ]
    }
   ],
   "source": [
    "#Create input/output data\n",
    "#Count all the words that happende in our review\n",
    "vocab = set(total_counts.keys())\n",
    "vocab_size = len(vocab)\n",
    "print(vocab_size)"
   ]
  },
  {
   "cell_type": "code",
   "execution_count": 171,
   "metadata": {},
   "outputs": [
    {
     "data": {
      "text/plain": [
       "array([[0., 0., 0., ..., 0., 0., 0.]])"
      ]
     },
     "execution_count": 171,
     "metadata": {},
     "output_type": "execute_result"
    }
   ],
   "source": [
    "#put the vocab_size into a fixed length vector where each place in the vector belongs to one word of our vocabulary\n",
    "#vector is empty and we edit it as we go forward\n",
    "#I did this for memory efficiency, so we dont have to create a vector from scrath every time when we want to use it\n",
    "#we also don't want to pregenerate data from the entire dataset, because that would be a matrix of \n",
    "# vocab_size * len(df4) = 144326794528 !!!!\n",
    "layer_0 = np.zeros((1, vocab_size))\n",
    "layer_0"
   ]
  },
  {
   "cell_type": "code",
   "execution_count": 172,
   "metadata": {},
   "outputs": [],
   "source": [
    "word2index = {}\n",
    "\n",
    "for i,word in enumerate(vocab):\n",
    "    word2index[word] = i"
   ]
  },
  {
   "cell_type": "code",
   "execution_count": 190,
   "metadata": {},
   "outputs": [],
   "source": [
    "def update_input_layer(review):\n",
    "    \n",
    "    global layer_0\n",
    "    \n",
    "    #clear out previous state, reset the layer to be all 0s\n",
    "    layer_0 *= 0\n",
    "    for word in review.split(\" \"):#iterate through each word\n",
    "        layer_0[0][word2index[word]] += 1  # allocate a position in the vector by incrementing\n",
    "        \n",
    "update_input_layer(df5.clean_review[18])"
   ]
  },
  {
   "cell_type": "code",
   "execution_count": 191,
   "metadata": {},
   "outputs": [
    {
     "data": {
      "text/plain": [
       "array([1., 0., 0., ..., 0., 0., 0.])"
      ]
     },
     "execution_count": 191,
     "metadata": {},
     "output_type": "execute_result"
    }
   ],
   "source": [
    "layer_0[0]"
   ]
  },
  {
   "cell_type": "code",
   "execution_count": 192,
   "metadata": {},
   "outputs": [
    {
     "data": {
      "text/plain": [
       "13.0"
      ]
     },
     "execution_count": 192,
     "metadata": {},
     "output_type": "execute_result"
    }
   ],
   "source": [
    "np.max(layer_0)"
   ]
  },
  {
   "cell_type": "code",
   "execution_count": 88,
   "metadata": {},
   "outputs": [],
   "source": [
    "#Create a function to get the label \n",
    "def get_target_for_label(label):\n",
    "        if (label == 'Not Negative'):\n",
    "            return 1\n",
    "        else:\n",
    "            return 0"
   ]
  },
  {
   "cell_type": "code",
   "execution_count": 89,
   "metadata": {},
   "outputs": [
    {
     "data": {
      "text/plain": [
       "'Not Negative'"
      ]
     },
     "execution_count": 89,
     "metadata": {},
     "output_type": "execute_result"
    }
   ],
   "source": [
    "df5.emotion[1]"
   ]
  },
  {
   "cell_type": "code",
   "execution_count": 90,
   "metadata": {},
   "outputs": [
    {
     "data": {
      "text/plain": [
       "1"
      ]
     },
     "execution_count": 90,
     "metadata": {},
     "output_type": "execute_result"
    }
   ],
   "source": [
    "get_target_for_label(df5.emotion[1])"
   ]
  },
  {
   "cell_type": "markdown",
   "metadata": {},
   "source": [
    "#### Train Test Split"
   ]
  },
  {
   "cell_type": "code",
   "execution_count": 97,
   "metadata": {},
   "outputs": [],
   "source": [
    "# Split the data by using clean reviews\n",
    "y = df5['emotion']\n",
    "X = df5['clean_review']\n",
    "\n",
    "X_train, X_test, y_train, y_test = train_test_split(X,y,test_size=0.20, random_state= 52)"
   ]
  },
  {
   "cell_type": "code",
   "execution_count": 149,
   "metadata": {},
   "outputs": [],
   "source": [
    "X_train.reset_index(inplace=True, drop=True)\n",
    "X_test.reset_index(inplace=True, drop=True)\n",
    "y_train.reset_index(inplace=True, drop=True)\n",
    "y_test.reset_index(inplace=True, drop=True)"
   ]
  },
  {
   "cell_type": "code",
   "execution_count": 208,
   "metadata": {},
   "outputs": [],
   "source": [
    "# Split the data by using default reviews\n",
    "y = df5['emotion']\n",
    "X = df5['review_body']\n",
    "\n",
    "X_train1, X_test1, y_train1, y_test1 = train_test_split(X,y,test_size=0.20, random_state= 52)"
   ]
  },
  {
   "cell_type": "code",
   "execution_count": 209,
   "metadata": {},
   "outputs": [],
   "source": [
    "X_train1.reset_index(inplace=True, drop=True)\n",
    "X_test1.reset_index(inplace=True, drop=True)\n",
    "y_train1.reset_index(inplace=True, drop=True)\n",
    "y_test1.reset_index(inplace=True, drop=True)"
   ]
  },
  {
   "cell_type": "markdown",
   "metadata": {},
   "source": [
    "* Create our neural network\n",
    "* 3 layer neural network\n",
    "* no non-linearity in hidden layer\n",
    "* use our functions to create the training data\n",
    "* create a \"pre_process_data\" function to create vocabulary for our data generating functions\n",
    "* modify \"train\" to train over the entire corpus"
   ]
  },
  {
   "cell_type": "code",
   "execution_count": 164,
   "metadata": {},
   "outputs": [],
   "source": [
    "#create a network by using counts of words in our review, to predict the sentiment of our review\n",
    "class SentimentNetwork:\n",
    "    def __init__(self, reviews, labels, hidden_nodes=10, learning_rate=0.1):\n",
    "        #set our random number generator\n",
    "        np.random.seed(52)\n",
    "        \n",
    "        self.pre_process_data(reviews, labels)\n",
    "        \n",
    "        self.init_network(len(self.review_vocab), hidden_nodes, 1, learning_rate)\n",
    "        \n",
    "    def pre_process_data(self, reviews, labels):\n",
    "        \n",
    "        review_vocab = set()\n",
    "        for review in reviews:\n",
    "            for word in review.split(\" \"):\n",
    "                review_vocab.add(word)\n",
    "        self.review_vocab = list(review_vocab)\n",
    "        \n",
    "        label_vocab = set()\n",
    "        for label in labels:\n",
    "            label_vocab.add(label)\n",
    "        \n",
    "        self.label_vocab = list(label_vocab)\n",
    "        \n",
    "        self.review_vocab_size = len(self.review_vocab)\n",
    "        self.label_vocab_size = len(self.label_vocab)\n",
    "        \n",
    "        self.word2index = {}\n",
    "        for i, word in enumerate(self.review_vocab):\n",
    "            self.word2index[word] = i\n",
    "            \n",
    "        self.label2index = {}\n",
    "        for i, label in enumerate(self.label_vocab):\n",
    "            self.label2index[label] = i\n",
    "            \n",
    "    def init_network(self, input_nodes, hidden_nodes, output_nodes, learning_rate):\n",
    "        #set number of nodes in input, hidden and output layers.\n",
    "        self.input_nodes = input_nodes\n",
    "        self.hidden_nodes = hidden_nodes\n",
    "        self.output_nodes = output_nodes\n",
    "        \n",
    "        #initialize weights\n",
    "        self.weights_0_1 = np.zeros((self.input_nodes, self.hidden_nodes))\n",
    "        \n",
    "        self.weights_1_2 = np.random.normal(0.0, self.output_nodes**-0.5,\n",
    "                                           (self.hidden_nodes, self.output_nodes))\n",
    "        self.learning_rate = learning_rate\n",
    "        \n",
    "        self.layer_0 = np.zeros((1, input_nodes))\n",
    "        \n",
    "    def update_input_layer(self, review):\n",
    "        \n",
    "        #clear out previous state, reset the layer to be all 0s\n",
    "        self.layer_0 *= 0\n",
    "        for word in review.split(\" \"):\n",
    "            if(word in self.word2index.keys()):\n",
    "                self.layer_0[0][self.word2index[word]] += 1\n",
    "                \n",
    "    def get_target_for_label(self, label):\n",
    "        if (label == 'Not Negative'):\n",
    "            return 1\n",
    "        else:\n",
    "            return 0\n",
    "        \n",
    "        \n",
    "    def sigmoid(self, x):\n",
    "        return 1 / (1 + np.exp(-x))\n",
    "    \n",
    "    def sigmoid_output_2_derivative(self, output):\n",
    "        return output * (1 - output)\n",
    "    \n",
    "    \n",
    "    def train(self, training_reviews, training_labels):\n",
    "        \n",
    "        assert(len(training_reviews) == len(training_labels))\n",
    "        \n",
    "        #how the neural net is doing during the training process\n",
    "        correct_so_far = 0\n",
    "        \n",
    "        start = time.time()\n",
    "        \n",
    "        for i in range(len(training_reviews)):\n",
    "            \n",
    "            review = training_reviews[i]\n",
    "            label = training_labels[i]\n",
    "            \n",
    "            #implement the forward propagation here\n",
    "            #forward pass\n",
    "            \n",
    "            #input layer\n",
    "            self.update_input_layer(review)\n",
    "            \n",
    "            #Hidden layer\n",
    "            layer_1 = self.layer_0.dot(self.weights_0_1)\n",
    "            \n",
    "            #Output layer\n",
    "            layer_2 = self.sigmoid(layer_1.dot(self.weights_1_2))\n",
    "            \n",
    "            #implement the backward propagation here\n",
    "            #Backward pass\n",
    "            \n",
    "            #Output error\n",
    "            layer_2_error = layer_2 - self.get_target_for_label(label)\n",
    "            layer_2_delta = layer_2_error * self.sigmoid_output_2_derivative(layer_2)\n",
    "            \n",
    "            #backpropagated error\n",
    "            layer_1_error = layer_2_delta.dot(self.weights_1_2.T) #errors propagated to the hidden layer\n",
    "            layer_1_delta = layer_1_error #hidden layer gradients - no nonlinearity so it's the same as the error\n",
    "            \n",
    "            #update the weights\n",
    "            self.weights_1_2 -= layer_1.T.dot(layer_2_delta) * self.learning_rate #Update hidden-to-output weights\n",
    "            self.weights_0_1 -= self.layer_0.T.dot(layer_1_delta) * self.learning_rate #update input-to-hidden weights\n",
    "            \n",
    "            if(np.abs(layer_2_error) < 0.5):\n",
    "                correct_so_far += 1\n",
    "                \n",
    "            reviews_per_second = i / float(time.time() - start)\n",
    "            \n",
    "            sys.stdout.write(\"\\rProgress:\" + str(100 * i/float(len(training_reviews)))[:4] \n",
    "                              + \"% speed(reviews/sec):\" + str(reviews_per_second)[0:5]\n",
    "                        + \" #Correct: \" + str(correct_so_far) + \" #Trained:\" + str(i+1) + \" Training Accuracy:\" +\n",
    "                         str(100 * correct_so_far/ (i+1))[:4] + \"%\")\n",
    "        \n",
    "            if(i % 100000 == 0):\n",
    "                print(\"\")\n",
    "                \n",
    "    #defining this function if I want to run it on a dataset            \n",
    "    def test(self, testing_reviews, testing_labels):\n",
    "        correct = 0\n",
    "        start = time.time()\n",
    "        for i in range(len(testing_reviews)):\n",
    "            pred = self.run(testing_reviews[i])\n",
    "            if(pred == testing_labels[i]):\n",
    "                correct += 1\n",
    "                \n",
    "        reviews_per_second = i / float(time.time() - start)\n",
    "        \n",
    "        sys.stdout.write(\"\\rProgress:\" + str(100 * i/float(len(testing_reviews)))[:4] \n",
    "                             + \"% speed(reviews/sec):\" + str(reviews_per_second)[0:5]\n",
    "                        + \" #Correct: \" + str(correct) + \" #Tested:\" + str(i+1) + \" Testing Accuracy:\" +\n",
    "                         str(100 * correct/ len(testing_reviews))[:4] + \"%\")\n",
    "        \n",
    "    #defining this function if I want to run it on a single review    \n",
    "    def run(self, review):\n",
    "        #Input layer\n",
    "        self.update_input_layer(review)\n",
    "        \n",
    "        #Hidden layer\n",
    "        layer_1 = self.layer_0.dot(self.weights_0_1)\n",
    "        \n",
    "        #Output layer\n",
    "        layer_2 = self.sigmoid(layer_1.dot(self.weights_1_2))\n",
    "        \n",
    "        if(layer_2[0] > 0.5):\n",
    "            return \"Not Negative\"\n",
    "        else:\n",
    "            return \"Negative\"\n",
    "            "
   ]
  },
  {
   "cell_type": "code",
   "execution_count": 165,
   "metadata": {},
   "outputs": [],
   "source": [
    "# Initialize the model\n",
    "mlp = SentimentNetwork(X_train, y_train, learning_rate=0.1)"
   ]
  },
  {
   "cell_type": "code",
   "execution_count": 160,
   "metadata": {},
   "outputs": [
    {
     "name": "stdout",
     "output_type": "stream",
     "text": [
      "\r",
      "Progress:99.9% speed(reviews/sec):1178. #Correct: 83671 #Tested:202596 Testing Accuracy:41.2%"
     ]
    }
   ],
   "source": [
    "#evaluate my model before training (just to show how horrible it is)\n",
    "#because our weights are initialized randomely, so it shouldn't really predict well at all\n",
    "#it also shows that the model is not biased\n",
    "mlp.test(X_test, y_test)"
   ]
  },
  {
   "cell_type": "code",
   "execution_count": 166,
   "metadata": {},
   "outputs": [
    {
     "name": "stdout",
     "output_type": "stream",
     "text": [
      "Progress:0.0% speed(reviews/sec):0.0 #Correct: 0 #Trained:1 Training Accuracy:0.0%\n",
      "Progress:12.3% speed(reviews/sec):133.4 #Correct: 80654 #Trained:100001 Training Accuracy:9.95%\n",
      "Progress:24.6% speed(reviews/sec):131.9 #Correct: 163503 #Trained:200001 Training Accuracy:20.1%\n",
      "Progress:37.0% speed(reviews/sec):132.4 #Correct: 246654 #Trained:300001 Training Accuracy:30.4%\n",
      "Progress:49.3% speed(reviews/sec):132.7 #Correct: 329995 #Trained:400001 Training Accuracy:40.7%\n",
      "Progress:61.6% speed(reviews/sec):132.6 #Correct: 413661 #Trained:500001 Training Accuracy:51.0%\n",
      "Progress:74.0% speed(reviews/sec):133.1 #Correct: 497573 #Trained:600001 Training Accuracy:61.3%\n",
      "Progress:86.3% speed(reviews/sec):133.5 #Correct: 581557 #Trained:700001 Training Accuracy:71.7%\n",
      "Progress:98.7% speed(reviews/sec):133.8 #Correct: 665484 #Trained:800001 Training Accuracy:82.1%\n",
      "Progress:99.9% speed(reviews/sec):133.8 #Correct: 674112 #Trained:810380 Training Accuracy:83.1%"
     ]
    }
   ],
   "source": [
    "mlp.train(X_train, y_train)"
   ]
  },
  {
   "cell_type": "code",
   "execution_count": 167,
   "metadata": {},
   "outputs": [],
   "source": [
    "mlp = SentimentNetwork(X_train, y_train, learning_rate=0.01)"
   ]
  },
  {
   "cell_type": "code",
   "execution_count": 168,
   "metadata": {},
   "outputs": [
    {
     "name": "stdout",
     "output_type": "stream",
     "text": [
      "Progress:0.0% speed(reviews/sec):0.0 #Correct: 0 #Trained:1 Training Accuracy:0.0%\n",
      "Progress:12.3% speed(reviews/sec):167.0 #Correct: 80515 #Trained:100001 Training Accuracy:9.93%\n",
      "Progress:24.6% speed(reviews/sec):166.8 #Correct: 163311 #Trained:200001 Training Accuracy:20.1%\n",
      "Progress:37.0% speed(reviews/sec):166.7 #Correct: 246461 #Trained:300001 Training Accuracy:30.4%\n",
      "Progress:49.3% speed(reviews/sec):166.6 #Correct: 329835 #Trained:400001 Training Accuracy:40.7%\n",
      "Progress:61.6% speed(reviews/sec):166.6 #Correct: 413542 #Trained:500001 Training Accuracy:51.0%\n",
      "Progress:74.0% speed(reviews/sec):166.6 #Correct: 497532 #Trained:600001 Training Accuracy:61.3%\n",
      "Progress:86.3% speed(reviews/sec):166.6 #Correct: 581554 #Trained:700001 Training Accuracy:71.7%\n",
      "Progress:98.7% speed(reviews/sec):166.5 #Correct: 665499 #Trained:800001 Training Accuracy:82.1%\n",
      "Progress:99.9% speed(reviews/sec):166.5 #Correct: 674121 #Trained:810380 Training Accuracy:83.1%"
     ]
    }
   ],
   "source": [
    "mlp.train(X_train, y_train)"
   ]
  },
  {
   "cell_type": "code",
   "execution_count": 169,
   "metadata": {},
   "outputs": [],
   "source": [
    "mlp = SentimentNetwork(X_train, y_train, learning_rate=0.001)"
   ]
  },
  {
   "cell_type": "code",
   "execution_count": 170,
   "metadata": {},
   "outputs": [
    {
     "name": "stdout",
     "output_type": "stream",
     "text": [
      "Progress:0.0% speed(reviews/sec):0.0 #Correct: 0 #Trained:1 Training Accuracy:0.0%\n",
      "Progress:12.3% speed(reviews/sec):162.1 #Correct: 79811 #Trained:100001 Training Accuracy:9.84%\n",
      "Progress:24.6% speed(reviews/sec):161.9 #Correct: 162295 #Trained:200001 Training Accuracy:20.0%\n",
      "Progress:37.0% speed(reviews/sec):162.0 #Correct: 245221 #Trained:300001 Training Accuracy:30.2%\n",
      "Progress:49.3% speed(reviews/sec):162.0 #Correct: 328468 #Trained:400001 Training Accuracy:40.5%\n",
      "Progress:61.6% speed(reviews/sec):162.0 #Correct: 412051 #Trained:500001 Training Accuracy:50.8%\n",
      "Progress:74.0% speed(reviews/sec):162.0 #Correct: 495941 #Trained:600001 Training Accuracy:61.1%\n",
      "Progress:86.3% speed(reviews/sec):162.0 #Correct: 579842 #Trained:700001 Training Accuracy:71.5%\n",
      "Progress:98.7% speed(reviews/sec):162.1 #Correct: 663641 #Trained:800001 Training Accuracy:81.8%\n",
      "Progress:99.9% speed(reviews/sec):162.1 #Correct: 672253 #Trained:810380 Training Accuracy:82.9%"
     ]
    }
   ],
   "source": [
    "mlp.train(X_train, y_train)"
   ]
  },
  {
   "cell_type": "markdown",
   "metadata": {},
   "source": [
    "### Reducing Noise in Our input Data"
   ]
  },
  {
   "cell_type": "code",
   "execution_count": 205,
   "metadata": {},
   "outputs": [
    {
     "data": {
      "image/png": "[encoded data removed]",
      "text/plain": [
       "<IPython.core.display.Image object>"
      ]
     },
     "execution_count": 205,
     "metadata": {},
     "output_type": "execute_result"
    }
   ],
   "source": [
    "Image(filename='Images/sentiment_network.png')"
   ]
  },
  {
   "cell_type": "markdown",
   "metadata": {},
   "source": [
    "The whole game is about noise versus signal\n",
    "\n",
    "We know forward propagation is a weighted sum (actually weighted sum of weighted sums), so as we can see in the Image, 4 weights coming out of each neuron in input layer (i.e. '1' multulply by 4 and add together to form a vector)\n",
    "\n",
    "How high the number of a neuron is affects how dominantly these weights control the hidden layer and these weights control how dominantly this input affects the hidden layer (funny that they are interpreted by each other!)\n",
    "\n",
    "For instance, if `horrible` is going to multiply by 18 and `terrible` multiply by 1, then `horrible` is going to be a dominant word and the vectors in the hidden layer are gonna be exactly the same as these 4 weights of `horrible`\n",
    "\n",
    "most of the words with higher frequencies are irrelevant words and have nothing to do with sentiment and their weighting is casing it to have a dominant effect on the hidden layer and hidden layer is all that output layer gets to use to make a prediction, so the hidden layer is not going to have rich information.\n",
    "\n",
    "Maybe counting words is not a good idea, because the counts don't highlight the signal (when we look at the counts, it seems like we are looking at the noise). Therefore my idea is to instead of counts just represent each existing word in a review as 1 (not incrementing it)."
   ]
  },
  {
   "cell_type": "code",
   "execution_count": 216,
   "metadata": {},
   "outputs": [
    {
     "data": {
      "text/plain": [
       "[('the', 2041740),\n",
       " ('i', 1295467),\n",
       " ('to', 1048563),\n",
       " ('and', 963422),\n",
       " ('it', 937281),\n",
       " ('a', 911067),\n",
       " ('is', 608193),\n",
       " ('for', 547863),\n",
       " ('', 496550),\n",
       " ('of', 490949),\n",
       " ('this', 433306),\n",
       " ('my', 427968),\n",
       " ('br', 410187),\n",
       " ('in', 400225),\n",
       " ('that', 392504),\n",
       " ('with', 359105),\n",
       " ('but', 358952),\n",
       " ('on', 325832),\n",
       " ('you', 322606),\n",
       " ('not', 304675)]"
      ]
     },
     "execution_count": 216,
     "metadata": {},
     "output_type": "execute_result"
    }
   ],
   "source": [
    "#let's meet noise\n",
    "not_negative_counts.most_common()[:20]"
   ]
  },
  {
   "cell_type": "code",
   "execution_count": 230,
   "metadata": {},
   "outputs": [],
   "source": [
    "#create a network by using counts of words in our review, to predict the sentiment of our review\n",
    "class SentimentNetwork:\n",
    "    def __init__(self, reviews, labels, hidden_nodes=10, learning_rate=0.1):\n",
    "        #set our random number generator\n",
    "        np.random.seed(52)\n",
    "        \n",
    "        self.pre_process_data(reviews, labels)\n",
    "        \n",
    "        self.init_network(len(self.review_vocab), hidden_nodes, 1, learning_rate)\n",
    "        \n",
    "    def pre_process_data(self, reviews, labels):\n",
    "        \n",
    "        review_vocab = set()\n",
    "        for review in reviews:\n",
    "            for word in review.split(\" \"):\n",
    "                review_vocab.add(word)\n",
    "        self.review_vocab = list(review_vocab)\n",
    "        \n",
    "        label_vocab = set()\n",
    "        for label in labels:\n",
    "            label_vocab.add(label)\n",
    "        \n",
    "        self.label_vocab = list(label_vocab)\n",
    "        \n",
    "        self.review_vocab_size = len(self.review_vocab)\n",
    "        self.label_vocab_size = len(self.label_vocab)\n",
    "        \n",
    "        self.word2index = {}\n",
    "        for i, word in enumerate(self.review_vocab):\n",
    "            self.word2index[word] = i\n",
    "            \n",
    "        self.label2index = {}\n",
    "        for i, label in enumerate(self.label_vocab):\n",
    "            self.label2index[label] = i\n",
    "            \n",
    "    def init_network(self, input_nodes, hidden_nodes, output_nodes, learning_rate):\n",
    "        #set number of nodes in input, hidden and output layers.\n",
    "        self.input_nodes = input_nodes\n",
    "        self.hidden_nodes = hidden_nodes\n",
    "        self.output_nodes = output_nodes\n",
    "        \n",
    "        #initialize weights\n",
    "        self.weights_0_1 = np.zeros((self.input_nodes, self.hidden_nodes))\n",
    "        \n",
    "        self.weights_1_2 = np.random.normal(0.0, self.output_nodes**-0.5,\n",
    "                                           (self.hidden_nodes, self.output_nodes))\n",
    "        self.learning_rate = learning_rate\n",
    "        \n",
    "        self.layer_0 = np.zeros((1, input_nodes))\n",
    "        \n",
    "    def update_input_layer(self, review):\n",
    "        \n",
    "        #clear out previous state, reset the layer to be all 0s\n",
    "        self.layer_0 *= 0\n",
    "        for word in review.split(\" \"):\n",
    "            if(word in self.word2index.keys()):\n",
    "                self.layer_0[0][self.word2index[word]] = 1\n",
    "                \n",
    "    def get_target_for_label(self, label):\n",
    "        if (label == 'Not Negative'):\n",
    "            return 1\n",
    "        else:\n",
    "            return 0\n",
    "        \n",
    "        \n",
    "    def sigmoid(self, x):\n",
    "        return 1 / (1 + np.exp(-x))\n",
    "    \n",
    "    def sigmoid_output_2_derivative(self, output):\n",
    "        return output * (1 - output)\n",
    "    \n",
    "    \n",
    "    def train(self, training_reviews, training_labels):\n",
    "        \n",
    "        assert(len(training_reviews) == len(training_labels))\n",
    "        \n",
    "        #how the neural net is doing during the training process\n",
    "        correct_so_far = 0\n",
    "        \n",
    "        start = time.time()\n",
    "        \n",
    "        for i in range(len(training_reviews)):\n",
    "            \n",
    "            review = training_reviews[i]\n",
    "            label = training_labels[i]\n",
    "            \n",
    "            #implement the forward propagation here\n",
    "            #forward pass\n",
    "            \n",
    "            #input layer\n",
    "            self.update_input_layer(review)\n",
    "            \n",
    "            #Hidden layer\n",
    "            layer_1 = self.layer_0.dot(self.weights_0_1)\n",
    "            \n",
    "            #Output layer\n",
    "            layer_2 = self.sigmoid(layer_1.dot(self.weights_1_2))\n",
    "            \n",
    "            #implement the backward propagation here\n",
    "            #Backward pass\n",
    "            \n",
    "            #Output error\n",
    "            layer_2_error = layer_2 - self.get_target_for_label(label)\n",
    "            layer_2_delta = layer_2_error * self.sigmoid_output_2_derivative(layer_2)\n",
    "            \n",
    "            #backpropagated error\n",
    "            layer_1_error = layer_2_delta.dot(self.weights_1_2.T) #errors propagated to the hidden layer\n",
    "            layer_1_delta = layer_1_error #hidden layer gradients - no nonlinearity so it's the same as the error\n",
    "            \n",
    "            #update the weights\n",
    "            self.weights_1_2 -= layer_1.T.dot(layer_2_delta) * self.learning_rate #Update hidden-to-output weights\n",
    "            self.weights_0_1 -= self.layer_0.T.dot(layer_1_delta) * self.learning_rate #update input-to-hidden weights\n",
    "            \n",
    "            if(np.abs(layer_2_error) < 0.5):\n",
    "                correct_so_far += 1\n",
    "                \n",
    "            reviews_per_second = i / float(time.time() - start)\n",
    "            \n",
    "            sys.stdout.write(\"\\rProgress:\" + str(100 * i/float(len(training_reviews)))[:4] \n",
    "                              + \"% speed(reviews/sec):\" + str(reviews_per_second)[0:5]\n",
    "                        + \" #Correct: \" + str(correct_so_far) + \" #Trained:\" + str(i+1) + \" Training Accuracy:\" +\n",
    "                         str(100 * correct_so_far/ (i+1))[:4] + \"%\")\n",
    "        \n",
    "            if(i % 100000 == 0):\n",
    "                print(\"\")\n",
    "                \n",
    "    #defining this function if I want to run it on a dataset            \n",
    "    def test(self, testing_reviews, testing_labels):\n",
    "        correct = 0\n",
    "        start = time.time()\n",
    "        for i in range(len(testing_reviews)):\n",
    "            pred = self.run(testing_reviews[i])\n",
    "            if(pred == testing_labels[i]):\n",
    "                correct += 1\n",
    "                \n",
    "        reviews_per_second = i / float(time.time() - start)\n",
    "        \n",
    "        sys.stdout.write(\"\\rProgress:\" + str(100 * i/float(len(testing_reviews)))[:4] \n",
    "                             + \"% speed(reviews/sec):\" + str(reviews_per_second)[0:5]\n",
    "                        + \" #Correct: \" + str(correct) + \" #Tested:\" + str(i+1) + \" Testing Accuracy:\" +\n",
    "                         str(100 * correct/ len(testing_reviews))[:4] + \"%\")\n",
    "        \n",
    "    #defining this function if I want to run it on a single review    \n",
    "    def run(self, review):\n",
    "        #Input layer\n",
    "        self.update_input_layer(review)\n",
    "        \n",
    "        #Hidden layer\n",
    "        layer_1 = self.layer_0.dot(self.weights_0_1)\n",
    "        \n",
    "        #Output layer\n",
    "        layer_2 = self.sigmoid(layer_1.dot(self.weights_1_2))\n",
    "        \n",
    "        if(layer_2[0] > 0.5):\n",
    "            return \"Not Negative\"\n",
    "        else:\n",
    "            return \"Negative\"\n",
    "            "
   ]
  },
  {
   "cell_type": "code",
   "execution_count": 231,
   "metadata": {},
   "outputs": [],
   "source": [
    "mlp = SentimentNetwork(X_train, y_train, learning_rate=0.1)"
   ]
  },
  {
   "cell_type": "code",
   "execution_count": 202,
   "metadata": {},
   "outputs": [
    {
     "name": "stdout",
     "output_type": "stream",
     "text": [
      "Progress:0.0% speed(reviews/sec):0.0 #Correct: 0 #Trained:1 Training Accuracy:0.0%\n",
      "Progress:12.3% speed(reviews/sec):132.8 #Correct: 81988 #Trained:100001 Training Accuracy:81.9%\n",
      "Progress:24.6% speed(reviews/sec):133.5 #Correct: 165502 #Trained:200001 Training Accuracy:82.7%\n",
      "Progress:37.0% speed(reviews/sec):133.1 #Correct: 249175 #Trained:300001 Training Accuracy:83.0%\n",
      "Progress:49.3% speed(reviews/sec):133.1 #Correct: 332987 #Trained:400001 Training Accuracy:83.2%\n",
      "Progress:61.6% speed(reviews/sec):132.8 #Correct: 417135 #Trained:500001 Training Accuracy:83.4%\n",
      "Progress:74.0% speed(reviews/sec):133.2 #Correct: 501568 #Trained:600001 Training Accuracy:83.5%\n",
      "Progress:86.3% speed(reviews/sec):133.7 #Correct: 585822 #Trained:700001 Training Accuracy:83.6%\n",
      "Progress:98.7% speed(reviews/sec):133.9 #Correct: 670121 #Trained:800001 Training Accuracy:83.7%\n",
      "Progress:99.9% speed(reviews/sec):133.8 #Correct: 678783 #Trained:810380 Training Accuracy:83.7%"
     ]
    }
   ],
   "source": [
    "mlp.train(X_train,y_train)"
   ]
  },
  {
   "cell_type": "markdown",
   "metadata": {},
   "source": [
    "* as we can see the model starts to learn much faster than before which is great!\n",
    "* we eliminated a lot of our noise (by getting rid of weighted useless words)\n",
    "* the model can find correlation between words so much faster (Accuracy of 80% in less than 1% of the whole data)\n",
    "* we didn't eliminate stoping words, but the interesting point is that our model is capable to find the words that matter the most"
   ]
  },
  {
   "cell_type": "code",
   "execution_count": 206,
   "metadata": {},
   "outputs": [
    {
     "name": "stdout",
     "output_type": "stream",
     "text": [
      "\r",
      "Progress:99.9% speed(reviews/sec):914.4 #Correct: 170750 #Tested:202596 Testing Accuracy:84.2%"
     ]
    }
   ],
   "source": [
    "mlp.test(X_test, y_test)"
   ]
  },
  {
   "cell_type": "code",
   "execution_count": 213,
   "metadata": {},
   "outputs": [],
   "source": [
    "mlp = SentimentNetwork(X_train1, y_train1, learning_rate=0.01)"
   ]
  },
  {
   "cell_type": "code",
   "execution_count": 214,
   "metadata": {},
   "outputs": [
    {
     "name": "stdout",
     "output_type": "stream",
     "text": [
      "Progress:0.0% speed(reviews/sec):0.0 #Correct: 0 #Trained:1 Training Accuracy:0.0%\n",
      "Progress:12.3% speed(reviews/sec):21.16 #Correct: 80722 #Trained:100001 Training Accuracy:80.7%\n",
      "Progress:24.6% speed(reviews/sec):21.92 #Correct: 163444 #Trained:200001 Training Accuracy:81.7%\n",
      "Progress:31.4% speed(reviews/sec):22.09 #Correct: 209066 #Trained:255124 Training Accuracy:81.9%"
     ]
    },
    {
     "ename": "KeyboardInterrupt",
     "evalue": "",
     "output_type": "error",
     "traceback": [
      "\u001b[0;31m---------------------------------------------------------------------------\u001b[0m",
      "\u001b[0;31mKeyboardInterrupt\u001b[0m                         Traceback (most recent call last)",
      "\u001b[0;32m<ipython-input-214-bfda3c3681c1>\u001b[0m in \u001b[0;36m<module>\u001b[0;34m()\u001b[0m\n\u001b[0;32m----> 1\u001b[0;31m \u001b[0mmlp\u001b[0m\u001b[0;34m.\u001b[0m\u001b[0mtrain\u001b[0m\u001b[0;34m(\u001b[0m\u001b[0mX_train1\u001b[0m\u001b[0;34m,\u001b[0m\u001b[0my_train1\u001b[0m\u001b[0;34m)\u001b[0m\u001b[0;34m\u001b[0m\u001b[0;34m\u001b[0m\u001b[0m\n\u001b[0m",
      "\u001b[0;32m<ipython-input-212-23092710447b>\u001b[0m in \u001b[0;36mtrain\u001b[0;34m(self, training_reviews, training_labels)\u001b[0m\n\u001b[1;32m    110\u001b[0m             \u001b[0;31m#update the weights\u001b[0m\u001b[0;34m\u001b[0m\u001b[0;34m\u001b[0m\u001b[0;34m\u001b[0m\u001b[0m\n\u001b[1;32m    111\u001b[0m             \u001b[0mself\u001b[0m\u001b[0;34m.\u001b[0m\u001b[0mweights_1_2\u001b[0m \u001b[0;34m-=\u001b[0m \u001b[0mlayer_1\u001b[0m\u001b[0;34m.\u001b[0m\u001b[0mT\u001b[0m\u001b[0;34m.\u001b[0m\u001b[0mdot\u001b[0m\u001b[0;34m(\u001b[0m\u001b[0mlayer_2_delta\u001b[0m\u001b[0;34m)\u001b[0m \u001b[0;34m*\u001b[0m \u001b[0mself\u001b[0m\u001b[0;34m.\u001b[0m\u001b[0mlearning_rate\u001b[0m \u001b[0;31m#Update hidden-to-output weights\u001b[0m\u001b[0;34m\u001b[0m\u001b[0;34m\u001b[0m\u001b[0m\n\u001b[0;32m--> 112\u001b[0;31m             \u001b[0mself\u001b[0m\u001b[0;34m.\u001b[0m\u001b[0mweights_0_1\u001b[0m \u001b[0;34m-=\u001b[0m \u001b[0mself\u001b[0m\u001b[0;34m.\u001b[0m\u001b[0mlayer_0\u001b[0m\u001b[0;34m.\u001b[0m\u001b[0mT\u001b[0m\u001b[0;34m.\u001b[0m\u001b[0mdot\u001b[0m\u001b[0;34m(\u001b[0m\u001b[0mlayer_1_delta\u001b[0m\u001b[0;34m)\u001b[0m \u001b[0;34m*\u001b[0m \u001b[0mself\u001b[0m\u001b[0;34m.\u001b[0m\u001b[0mlearning_rate\u001b[0m \u001b[0;31m#update input-to-hidden weights\u001b[0m\u001b[0;34m\u001b[0m\u001b[0;34m\u001b[0m\u001b[0m\n\u001b[0m\u001b[1;32m    113\u001b[0m \u001b[0;34m\u001b[0m\u001b[0m\n\u001b[1;32m    114\u001b[0m             \u001b[0;32mif\u001b[0m\u001b[0;34m(\u001b[0m\u001b[0mnp\u001b[0m\u001b[0;34m.\u001b[0m\u001b[0mabs\u001b[0m\u001b[0;34m(\u001b[0m\u001b[0mlayer_2_error\u001b[0m\u001b[0;34m)\u001b[0m \u001b[0;34m<\u001b[0m \u001b[0;36m0.5\u001b[0m\u001b[0;34m)\u001b[0m\u001b[0;34m:\u001b[0m\u001b[0;34m\u001b[0m\u001b[0;34m\u001b[0m\u001b[0m\n",
      "\u001b[0;31mKeyboardInterrupt\u001b[0m: "
     ]
    }
   ],
   "source": [
    "mlp.train(X_train1,y_train1)"
   ]
  },
  {
   "cell_type": "markdown",
   "metadata": {},
   "source": [
    "as we can see training the model without cleaning would result in much slower model (22 reviews per second), without any improvement in training accuracy. (worth trying it)"
   ]
  },
  {
   "cell_type": "markdown",
   "metadata": {},
   "source": [
    "### Analyzing Inefficiencies in our Network"
   ]
  },
  {
   "cell_type": "code",
   "execution_count": 285,
   "metadata": {},
   "outputs": [
    {
     "data": {
      "image/png": "[encoded data removed]",
      "text/plain": [
       "<IPython.core.display.Image object>"
      ]
     },
     "execution_count": 285,
     "metadata": {},
     "output_type": "execute_result"
    }
   ],
   "source": [
    "Image(filename='Images/sentiment_network_sparse.png')"
   ]
  },
  {
   "cell_type": "markdown",
   "metadata": {},
   "source": [
    "we are creating a really big vector for layer_0 (1 x 142478) and only a small proportion of it would be 1 and a large number of them would be 0 in each review.\n",
    "zero times anything is still a zero, all these zeros aren't doing anything. That to me is the biggest source of inefficiencies in this network.\n",
    "On the other hand, one times anything is just itself. so, these 1 times weights is just kind of a waste."
   ]
  },
  {
   "cell_type": "code",
   "execution_count": null,
   "metadata": {},
   "outputs": [],
   "source": []
  },
  {
   "cell_type": "code",
   "execution_count": 280,
   "metadata": {},
   "outputs": [],
   "source": [
    "#create a network by using counts of words in our review, to predict the sentiment of our review\n",
    "class SentimentNetwork:\n",
    "    def __init__(self, reviews, labels, hidden_nodes=10, learning_rate=0.1):\n",
    "        #set our random number generator\n",
    "        np.random.seed(52)\n",
    "        \n",
    "        self.pre_process_data(reviews, labels)\n",
    "        \n",
    "        self.init_network(len(self.review_vocab), hidden_nodes, 1, learning_rate)\n",
    "        \n",
    "    def pre_process_data(self, reviews, labels):\n",
    "        \n",
    "        review_vocab = set()\n",
    "        for review in reviews:\n",
    "            for word in review.split(\" \"):\n",
    "                review_vocab.add(word)\n",
    "        self.review_vocab = list(review_vocab)\n",
    "        \n",
    "        label_vocab = set()\n",
    "        for label in labels:\n",
    "            label_vocab.add(label)\n",
    "        \n",
    "        self.label_vocab = list(label_vocab)\n",
    "        \n",
    "        self.review_vocab_size = len(self.review_vocab)\n",
    "        self.label_vocab_size = len(self.label_vocab)\n",
    "        \n",
    "        self.word2index = {}\n",
    "        for i, word in enumerate(self.review_vocab):\n",
    "            self.word2index[word] = i\n",
    "            \n",
    "        self.label2index = {}\n",
    "        for i, label in enumerate(self.label_vocab):\n",
    "            self.label2index[label] = i\n",
    "            \n",
    "    def init_network(self, input_nodes, hidden_nodes, output_nodes, learning_rate):\n",
    "        #set number of nodes in input, hidden and output layers.\n",
    "        self.input_nodes = input_nodes\n",
    "        self.hidden_nodes = hidden_nodes\n",
    "        self.output_nodes = output_nodes\n",
    "        \n",
    "        #initialize weights\n",
    "        self.weights_0_1 = np.zeros((self.input_nodes, self.hidden_nodes))\n",
    "        \n",
    "        self.weights_1_2 = np.random.normal(0.0, self.output_nodes**-0.5,\n",
    "                                           (self.hidden_nodes, self.output_nodes))\n",
    "        self.learning_rate = learning_rate\n",
    "        \n",
    "        self.layer_0 = np.zeros((1, input_nodes))\n",
    "        self.layer_1 = np.zeros((1, hidden_nodes))\n",
    "    def update_input_layer(self, review):\n",
    "        \n",
    "        #clear out previous state, reset the layer to be all 0s\n",
    "        self.layer_0 *= 0\n",
    "        for word in review.split(\" \"):\n",
    "            if(word in self.word2index.keys()):\n",
    "                self.layer_0[0][self.word2index[word]] = 1\n",
    "                \n",
    "    def get_target_for_label(self, label):\n",
    "        if (label == 'Not Negative'):\n",
    "            return 1\n",
    "        else:\n",
    "            return 0\n",
    "        \n",
    "        \n",
    "    def sigmoid(self, x):\n",
    "        return 1 / (1 + np.exp(-x))\n",
    "    \n",
    "    def sigmoid_output_2_derivative(self, output):\n",
    "        return output * (1 - output)\n",
    "    \n",
    "    \n",
    "    def train(self, training_reviews_raw, training_labels):\n",
    "        #added a preprocessing step into train mehtod\n",
    "        #for each review we convert the words to the row of our word matrix that it corresponds to\n",
    "        training_reviews = list()\n",
    "        for review in training_reviews_raw:\n",
    "            indices = set()\n",
    "            for word in review.split(\" \"):\n",
    "                if(word in self.word2index.keys()):\n",
    "                    indices.add(self.word2index[word])\n",
    "            training_reviews.append(list(indices))\n",
    "        \n",
    "        assert(len(training_reviews) == len(training_labels))\n",
    "        \n",
    "        #how the neural net is doing during the training process\n",
    "        correct_so_far = 0\n",
    "        \n",
    "        start = time.time()\n",
    "        \n",
    "        for i in range(len(training_reviews)):\n",
    "            \n",
    "            review = training_reviews[i]\n",
    "            label = training_labels[i]\n",
    "            \n",
    "            #implement the forward propagation here\n",
    "            #forward pass\n",
    "            \n",
    "            #input layer\n",
    "            #based on a chunk of code that I added to the beggining of this function.\n",
    "            #it allows me to completely skip the input layer and we jump straight to generate our hidden layer\n",
    "            \n",
    "            \n",
    "            #Hidden layer\n",
    "            #layer_1 = self.layer_0.dot(self.weights_0_1)\n",
    "            self.layer_1 *= 0\n",
    "            for index in review:\n",
    "                self.layer_1 += self.weights_0_1[index]\n",
    "            \n",
    "            #Output layer\n",
    "            layer_2 = self.sigmoid(self.layer_1.dot(self.weights_1_2))\n",
    "            \n",
    "            #implement the backward propagation here\n",
    "            #Backward pass\n",
    "            \n",
    "            #Output error\n",
    "            layer_2_error = layer_2 - self.get_target_for_label(label)\n",
    "            layer_2_delta = layer_2_error * self.sigmoid_output_2_derivative(layer_2)\n",
    "            \n",
    "            #backpropagated error\n",
    "            layer_1_error = layer_2_delta.dot(self.weights_1_2.T) #errors propagated to the hidden layer\n",
    "            layer_1_delta = layer_1_error #hidden layer gradients - no nonlinearity so it's the same as the error\n",
    "            \n",
    "            #update the weights\n",
    "            self.weights_1_2 -= self.layer_1.T.dot(layer_2_delta)* self.learning_rate #Update hidden-to-output weights\n",
    "            \n",
    "            for index in review:\n",
    "                self.weights_0_1[index] -= layer_1_delta[0] * self.learning_rate #update input-to-hidden weights\n",
    "            \n",
    "            if(np.abs(layer_2_error) < 0.5):\n",
    "                correct_so_far += 1\n",
    "                \n",
    "            reviews_per_second = i / float(time.time() - start)\n",
    "            \n",
    "            sys.stdout.write(\"\\rProgress:\" + str(100 * i/float(len(training_reviews)))[:4] \n",
    "                              + \"% speed(reviews/sec):\" + str(reviews_per_second)[0:5]\n",
    "                        + \" #Correct: \" + str(correct_so_far) + \" #Trained:\" + str(i+1) + \" Training Accuracy:\" +\n",
    "                         str(100 * correct_so_far/ (i+1))[:4] + \"%\")\n",
    "        \n",
    "            if(i % 100000 == 0):\n",
    "                print(\"\")\n",
    "            sys.stdout.flush()    \n",
    "    #defining this function if I want to run it on a dataset            \n",
    "    def test(self, testing_reviews, testing_labels):\n",
    "        correct = 0\n",
    "        start = time.time()\n",
    "        for i in range(len(testing_reviews)):\n",
    "            pred = self.run(testing_reviews[i])\n",
    "            if(pred == testing_labels[i]):\n",
    "                correct += 1\n",
    "                \n",
    "        reviews_per_second = i / float(time.time() - start)\n",
    "        \n",
    "        sys.stdout.write(\"\\rProgress:\" + str(100 * i/float(len(testing_reviews)))[:4] \n",
    "                             + \"% speed(reviews/sec):\" + str(reviews_per_second)[0:5]\n",
    "                        + \" #Correct: \" + str(correct) + \" #Tested:\" + str(i+1) + \" Testing Accuracy:\" +\n",
    "                         str(100 * correct/ len(testing_reviews))[:4] + \"%\")\n",
    "        \n",
    "    #defining this function if I want to run it on a single review    \n",
    "    def run(self, review):\n",
    "        #Input layer\n",
    "        \n",
    "        \n",
    "        #Hidden layer\n",
    "        self.layer_1 *= 0\n",
    "        unique_indices =set()\n",
    "        for word in review.split(\" \"):\n",
    "            if word in self.word2index.keys():\n",
    "                unique_indices.add(self.word2index[word])\n",
    "        for index in unique_indices:\n",
    "            self.layer_1 += self.weights_0_1[index]\n",
    "        \n",
    "        #Output layer\n",
    "        layer_2 = self.sigmoid(self.layer_1.dot(self.weights_1_2))\n",
    "        \n",
    "        if(layer_2[0] > 0.5):\n",
    "            return \"Not Negative\"\n",
    "        else:\n",
    "            return \"Negative\"\n",
    "            "
   ]
  },
  {
   "cell_type": "code",
   "execution_count": 281,
   "metadata": {},
   "outputs": [],
   "source": [
    "mlp = SentimentNetwork(X_train, y_train, learning_rate=0.01)"
   ]
  },
  {
   "cell_type": "code",
   "execution_count": 282,
   "metadata": {},
   "outputs": [
    {
     "name": "stdout",
     "output_type": "stream",
     "text": [
      "Progress:0.0% speed(reviews/sec):0.0 #Correct: 0 #Trained:1 Training Accuracy:0.0%\n",
      "Progress:12.3% speed(reviews/sec):750.8 #Correct: 81948 #Trained:100001 Training Accuracy:81.9%\n",
      "Progress:24.6% speed(reviews/sec):759.1 #Correct: 165367 #Trained:200001 Training Accuracy:82.6%\n",
      "Progress:37.0% speed(reviews/sec):759.9 #Correct: 249069 #Trained:300001 Training Accuracy:83.0%\n",
      "Progress:49.3% speed(reviews/sec):762.4 #Correct: 332888 #Trained:400001 Training Accuracy:83.2%\n",
      "Progress:61.6% speed(reviews/sec):763.6 #Correct: 417057 #Trained:500001 Training Accuracy:83.4%\n",
      "Progress:74.0% speed(reviews/sec):764.8 #Correct: 501499 #Trained:600001 Training Accuracy:83.5%\n",
      "Progress:86.3% speed(reviews/sec):765.1 #Correct: 585780 #Trained:700001 Training Accuracy:83.6%\n",
      "Progress:98.7% speed(reviews/sec):765.5 #Correct: 670089 #Trained:800001 Training Accuracy:83.7%\n",
      "Progress:99.9% speed(reviews/sec):765.6 #Correct: 678758 #Trained:810380 Training Accuracy:83.7%"
     ]
    }
   ],
   "source": [
    "mlp.train(X_train,y_train)"
   ]
  },
  {
   "cell_type": "code",
   "execution_count": 283,
   "metadata": {},
   "outputs": [
    {
     "name": "stdout",
     "output_type": "stream",
     "text": [
      "\r",
      "Progress:99.9% speed(reviews/sec):6576. #Correct: 170819 #Tested:202596 Testing Accuracy:84.3%"
     ]
    }
   ],
   "source": [
    "mlp.test(X_test,y_test)"
   ]
  },
  {
   "cell_type": "markdown",
   "metadata": {},
   "source": [
    "### Further Noise Reduction"
   ]
  },
  {
   "cell_type": "markdown",
   "metadata": {},
   "source": [
    "what we can do that our network really cut through the obvious stuff and focus on more complex stuff?\n",
    "we can framing the problem so, the network would be as successful as possible."
   ]
  },
  {
   "cell_type": "code",
   "execution_count": 527,
   "metadata": {},
   "outputs": [
    {
     "data": {
      "text/plain": [
       "[('excelente', 3.290886360844473),\n",
       " ('excelent', 2.9980024220885304),\n",
       " ('loves', 2.50294757455331),\n",
       " ('pleasantly', 2.4287120914443583),\n",
       " ('blends', 2.3789073605536792),\n",
       " ('fills', 2.367123614131617),\n",
       " ('downside', 2.3454766576233586),\n",
       " ('frills', 2.313884648247979),\n",
       " ('drawback', 2.2936785521778424),\n",
       " ('exceeded', 2.2767643933723027),\n",
       " ('regrets', 2.1757183721152558),\n",
       " ('compliments', 2.047006265926682),\n",
       " ('unobtrusive', 2.038433517952459),\n",
       " ('bonus', 2.0270212557278913),\n",
       " ('caveats', 2.0074680420547466),\n",
       " ('unbeatable', 2.0045936508834035),\n",
       " ('soundstage', 2.0043209112117277),\n",
       " ('suits', 2.000916778567525),\n",
       " ('versatility', 1.9996355484114763),\n",
       " ('beat', 1.9957974411822226)]"
      ]
     },
     "execution_count": 527,
     "metadata": {},
     "output_type": "execute_result"
    }
   ],
   "source": [
    "#words frequently seen in a review with a 'Positive' label\n",
    "pos_neg_ratios.most_common()[:20]"
   ]
  },
  {
   "cell_type": "code",
   "execution_count": 528,
   "metadata": {},
   "outputs": [
    {
     "data": {
      "text/plain": [
       "[('fraud', -2.861729294030844),\n",
       " ('wast', -2.5939416535313415),\n",
       " ('waste', -2.3469097180655027),\n",
       " ('junk', -2.3440774616522004),\n",
       " ('scam', -2.2233088038017814),\n",
       " ('garbage', -2.0995027322203055),\n",
       " ('paperweight', -2.088802204039861),\n",
       " ('pos', -2.0616082683420447),\n",
       " ('recourse', -1.9790162612087407),\n",
       " ('refunds', -1.9329888089478),\n",
       " ('returnable', -1.8921938665498255),\n",
       " ('ashamed', -1.8782515005814986),\n",
       " ('trash', -1.8630385921927592),\n",
       " ('unsatisfied', -1.850624740427249),\n",
       " ('refund', -1.837381733677251),\n",
       " ('disgusted', -1.8045684275206362),\n",
       " ('restocking', -1.7707671917469574),\n",
       " ('wasted', -1.7392181921997867),\n",
       " ('utter', -1.7301389022485536),\n",
       " ('deadline', -1.70073654143535)]"
      ]
     },
     "execution_count": 528,
     "metadata": {},
     "output_type": "execute_result"
    }
   ],
   "source": [
    "#words frequently seen in a review with a 'Negative' label\n",
    "list(reversed(pos_neg_ratios.most_common()))[:20]"
   ]
  },
  {
   "cell_type": "code",
   "execution_count": 292,
   "metadata": {},
   "outputs": [
    {
     "data": {
      "text/html": [
       "\n",
       "    <div class=\"bk-root\">\n",
       "        <a href=\"https://bokeh.org\" target=\"_blank\" class=\"bk-logo bk-logo-small bk-logo-notebook\"></a>\n",
       "        <span id=\"1001\">Loading BokehJS ...</span>\n",
       "    </div>"
      ]
     },
     "metadata": {},
     "output_type": "display_data"
    },
    {
     "data": {
      "application/javascript": [
       "\n",
       "(function(root) {\n",
       "  function now() {\n",
       "    return new Date();\n",
       "  }\n",
       "\n",
       "  var force = true;\n",
       "\n",
       "  if (typeof root._bokeh_onload_callbacks === \"undefined\" || force === true) {\n",
       "    root._bokeh_onload_callbacks = [];\n",
       "    root._bokeh_is_loading = undefined;\n",
       "  }\n",
       "\n",
       "  var JS_MIME_TYPE = 'application/javascript';\n",
       "  var HTML_MIME_TYPE = 'text/html';\n",
       "  var EXEC_MIME_TYPE = 'application/vnd.bokehjs_exec.v0+json';\n",
       "  var CLASS_NAME = 'output_bokeh rendered_html';\n",
       "\n",
       "  /**\n",
       "   * Render data to the DOM node\n",
       "   */\n",
       "  function render(props, node) {\n",
       "    var script = document.createElement(\"script\");\n",
       "    node.appendChild(script);\n",
       "  }\n",
       "\n",
       "  /**\n",
       "   * Handle when an output is cleared or removed\n",
       "   */\n",
       "  function handleClearOutput(event, handle) {\n",
       "    var cell = handle.cell;\n",
       "\n",
       "    var id = cell.output_area._bokeh_element_id;\n",
       "    var server_id = cell.output_area._bokeh_server_id;\n",
       "    // Clean up Bokeh references\n",
       "    if (id != null && id in Bokeh.index) {\n",
       "      Bokeh.index[id].model.document.clear();\n",
       "      delete Bokeh.index[id];\n",
       "    }\n",
       "\n",
       "    if (server_id !== undefined) {\n",
       "      // Clean up Bokeh references\n",
       "      var cmd = \"from bokeh.io.state import curstate; print(curstate().uuid_to_server['\" + server_id + \"'].get_sessions()[0].document.roots[0]._id)\";\n",
       "      cell.notebook.kernel.execute(cmd, {\n",
       "        iopub: {\n",
       "          output: function(msg) {\n",
       "            var id = msg.content.text.trim();\n",
       "            if (id in Bokeh.index) {\n",
       "              Bokeh.index[id].model.document.clear();\n",
       "              delete Bokeh.index[id];\n",
       "            }\n",
       "          }\n",
       "        }\n",
       "      });\n",
       "      // Destroy server and session\n",
       "      var cmd = \"import bokeh.io.notebook as ion; ion.destroy_server('\" + server_id + \"')\";\n",
       "      cell.notebook.kernel.execute(cmd);\n",
       "    }\n",
       "  }\n",
       "\n",
       "  /**\n",
       "   * Handle when a new output is added\n",
       "   */\n",
       "  function handleAddOutput(event, handle) {\n",
       "    var output_area = handle.output_area;\n",
       "    var output = handle.output;\n",
       "\n",
       "    // limit handleAddOutput to display_data with EXEC_MIME_TYPE content only\n",
       "    if ((output.output_type != \"display_data\") || (!output.data.hasOwnProperty(EXEC_MIME_TYPE))) {\n",
       "      return\n",
       "    }\n",
       "\n",
       "    var toinsert = output_area.element.find(\".\" + CLASS_NAME.split(' ')[0]);\n",
       "\n",
       "    if (output.metadata[EXEC_MIME_TYPE][\"id\"] !== undefined) {\n",
       "      toinsert[toinsert.length - 1].firstChild.textContent = output.data[JS_MIME_TYPE];\n",
       "      // store reference to embed id on output_area\n",
       "      output_area._bokeh_element_id = output.metadata[EXEC_MIME_TYPE][\"id\"];\n",
       "    }\n",
       "    if (output.metadata[EXEC_MIME_TYPE][\"server_id\"] !== undefined) {\n",
       "      var bk_div = document.createElement(\"div\");\n",
       "      bk_div.innerHTML = output.data[HTML_MIME_TYPE];\n",
       "      var script_attrs = bk_div.children[0].attributes;\n",
       "      for (var i = 0; i < script_attrs.length; i++) {\n",
       "        toinsert[toinsert.length - 1].firstChild.setAttribute(script_attrs[i].name, script_attrs[i].value);\n",
       "        toinsert[toinsert.length - 1].firstChild.textContent = bk_div.children[0].textContent\n",
       "      }\n",
       "      // store reference to server id on output_area\n",
       "      output_area._bokeh_server_id = output.metadata[EXEC_MIME_TYPE][\"server_id\"];\n",
       "    }\n",
       "  }\n",
       "\n",
       "  function register_renderer(events, OutputArea) {\n",
       "\n",
       "    function append_mime(data, metadata, element) {\n",
       "      // create a DOM node to render to\n",
       "      var toinsert = this.create_output_subarea(\n",
       "        metadata,\n",
       "        CLASS_NAME,\n",
       "        EXEC_MIME_TYPE\n",
       "      );\n",
       "      this.keyboard_manager.register_events(toinsert);\n",
       "      // Render to node\n",
       "      var props = {data: data, metadata: metadata[EXEC_MIME_TYPE]};\n",
       "      render(props, toinsert[toinsert.length - 1]);\n",
       "      element.append(toinsert);\n",
       "      return toinsert\n",
       "    }\n",
       "\n",
       "    /* Handle when an output is cleared or removed */\n",
       "    events.on('clear_output.CodeCell', handleClearOutput);\n",
       "    events.on('delete.Cell', handleClearOutput);\n",
       "\n",
       "    /* Handle when a new output is added */\n",
       "    events.on('output_added.OutputArea', handleAddOutput);\n",
       "\n",
       "    /**\n",
       "     * Register the mime type and append_mime function with output_area\n",
       "     */\n",
       "    OutputArea.prototype.register_mime_type(EXEC_MIME_TYPE, append_mime, {\n",
       "      /* Is output safe? */\n",
       "      safe: true,\n",
       "      /* Index of renderer in `output_area.display_order` */\n",
       "      index: 0\n",
       "    });\n",
       "  }\n",
       "\n",
       "  // register the mime type if in Jupyter Notebook environment and previously unregistered\n",
       "  if (root.Jupyter !== undefined) {\n",
       "    var events = require('base/js/events');\n",
       "    var OutputArea = require('notebook/js/outputarea').OutputArea;\n",
       "\n",
       "    if (OutputArea.prototype.mime_types().indexOf(EXEC_MIME_TYPE) == -1) {\n",
       "      register_renderer(events, OutputArea);\n",
       "    }\n",
       "  }\n",
       "\n",
       "  \n",
       "  if (typeof (root._bokeh_timeout) === \"undefined\" || force === true) {\n",
       "    root._bokeh_timeout = Date.now() + 5000;\n",
       "    root._bokeh_failed_load = false;\n",
       "  }\n",
       "\n",
       "  var NB_LOAD_WARNING = {'data': {'text/html':\n",
       "     \"<div style='background-color: #fdd'>\\n\"+\n",
       "     \"<p>\\n\"+\n",
       "     \"BokehJS does not appear to have successfully loaded. If loading BokehJS from CDN, this \\n\"+\n",
       "     \"may be due to a slow or bad network connection. Possible fixes:\\n\"+\n",
       "     \"</p>\\n\"+\n",
       "     \"<ul>\\n\"+\n",
       "     \"<li>re-rerun `output_notebook()` to attempt to load from CDN again, or</li>\\n\"+\n",
       "     \"<li>use INLINE resources instead, as so:</li>\\n\"+\n",
       "     \"</ul>\\n\"+\n",
       "     \"<code>\\n\"+\n",
       "     \"from bokeh.resources import INLINE\\n\"+\n",
       "     \"output_notebook(resources=INLINE)\\n\"+\n",
       "     \"</code>\\n\"+\n",
       "     \"</div>\"}};\n",
       "\n",
       "  function display_loaded() {\n",
       "    var el = document.getElementById(\"1001\");\n",
       "    if (el != null) {\n",
       "      el.textContent = \"BokehJS is loading...\";\n",
       "    }\n",
       "    if (root.Bokeh !== undefined) {\n",
       "      if (el != null) {\n",
       "        el.textContent = \"BokehJS \" + root.Bokeh.version + \" successfully loaded.\";\n",
       "      }\n",
       "    } else if (Date.now() < root._bokeh_timeout) {\n",
       "      setTimeout(display_loaded, 100)\n",
       "    }\n",
       "  }\n",
       "\n",
       "\n",
       "  function run_callbacks() {\n",
       "    try {\n",
       "      root._bokeh_onload_callbacks.forEach(function(callback) {\n",
       "        if (callback != null)\n",
       "          callback();\n",
       "      });\n",
       "    } finally {\n",
       "      delete root._bokeh_onload_callbacks\n",
       "    }\n",
       "    console.debug(\"Bokeh: all callbacks have finished\");\n",
       "  }\n",
       "\n",
       "  function load_libs(css_urls, js_urls, callback) {\n",
       "    if (css_urls == null) css_urls = [];\n",
       "    if (js_urls == null) js_urls = [];\n",
       "\n",
       "    root._bokeh_onload_callbacks.push(callback);\n",
       "    if (root._bokeh_is_loading > 0) {\n",
       "      console.debug(\"Bokeh: BokehJS is being loaded, scheduling callback at\", now());\n",
       "      return null;\n",
       "    }\n",
       "    if (js_urls == null || js_urls.length === 0) {\n",
       "      run_callbacks();\n",
       "      return null;\n",
       "    }\n",
       "    console.debug(\"Bokeh: BokehJS not loaded, scheduling load and callback at\", now());\n",
       "    root._bokeh_is_loading = css_urls.length + js_urls.length;\n",
       "\n",
       "    function on_load() {\n",
       "      root._bokeh_is_loading--;\n",
       "      if (root._bokeh_is_loading === 0) {\n",
       "        console.debug(\"Bokeh: all BokehJS libraries/stylesheets loaded\");\n",
       "        run_callbacks()\n",
       "      }\n",
       "    }\n",
       "\n",
       "    function on_error() {\n",
       "      console.error(\"failed to load \" + url);\n",
       "    }\n",
       "\n",
       "    for (var i = 0; i < css_urls.length; i++) {\n",
       "      var url = css_urls[i];\n",
       "      const element = document.createElement(\"link\");\n",
       "      element.onload = on_load;\n",
       "      element.onerror = on_error;\n",
       "      element.rel = \"stylesheet\";\n",
       "      element.type = \"text/css\";\n",
       "      element.href = url;\n",
       "      console.debug(\"Bokeh: injecting link tag for BokehJS stylesheet: \", url);\n",
       "      document.body.appendChild(element);\n",
       "    }\n",
       "\n",
       "    const hashes = {\"https://cdn.bokeh.org/bokeh/release/bokeh-2.2.3.min.js\": \"T2yuo9Oe71Cz/I4X9Ac5+gpEa5a8PpJCDlqKYO0CfAuEszu1JrXLl8YugMqYe3sM\", \"https://cdn.bokeh.org/bokeh/release/bokeh-widgets-2.2.3.min.js\": \"98GDGJ0kOMCUMUePhksaQ/GYgB3+NH9h996V88sh3aOiUNX3N+fLXAtry6xctSZ6\", \"https://cdn.bokeh.org/bokeh/release/bokeh-tables-2.2.3.min.js\": \"89bArO+nlbP3sgakeHjCo1JYxYR5wufVgA3IbUvDY+K7w4zyxJqssu7wVnfeKCq8\"};\n",
       "\n",
       "    for (var i = 0; i < js_urls.length; i++) {\n",
       "      var url = js_urls[i];\n",
       "      var element = document.createElement('script');\n",
       "      element.onload = on_load;\n",
       "      element.onerror = on_error;\n",
       "      element.async = false;\n",
       "      element.src = url;\n",
       "      if (url in hashes) {\n",
       "        element.crossOrigin = \"anonymous\";\n",
       "        element.integrity = \"sha384-\" + hashes[url];\n",
       "      }\n",
       "      console.debug(\"Bokeh: injecting script tag for BokehJS library: \", url);\n",
       "      document.head.appendChild(element);\n",
       "    }\n",
       "  };\n",
       "\n",
       "  function inject_raw_css(css) {\n",
       "    const element = document.createElement(\"style\");\n",
       "    element.appendChild(document.createTextNode(css));\n",
       "    document.body.appendChild(element);\n",
       "  }\n",
       "\n",
       "  \n",
       "  var js_urls = [\"https://cdn.bokeh.org/bokeh/release/bokeh-2.2.3.min.js\", \"https://cdn.bokeh.org/bokeh/release/bokeh-widgets-2.2.3.min.js\", \"https://cdn.bokeh.org/bokeh/release/bokeh-tables-2.2.3.min.js\"];\n",
       "  var css_urls = [];\n",
       "  \n",
       "\n",
       "  var inline_js = [\n",
       "    function(Bokeh) {\n",
       "      Bokeh.set_log_level(\"info\");\n",
       "    },\n",
       "    function(Bokeh) {\n",
       "    \n",
       "    \n",
       "    }\n",
       "  ];\n",
       "\n",
       "  function run_inline_js() {\n",
       "    \n",
       "    if (root.Bokeh !== undefined || force === true) {\n",
       "      \n",
       "    for (var i = 0; i < inline_js.length; i++) {\n",
       "      inline_js[i].call(root, root.Bokeh);\n",
       "    }\n",
       "    if (force === true) {\n",
       "        display_loaded();\n",
       "      }} else if (Date.now() < root._bokeh_timeout) {\n",
       "      setTimeout(run_inline_js, 100);\n",
       "    } else if (!root._bokeh_failed_load) {\n",
       "      console.log(\"Bokeh: BokehJS failed to load within specified timeout.\");\n",
       "      root._bokeh_failed_load = true;\n",
       "    } else if (force !== true) {\n",
       "      var cell = $(document.getElementById(\"1001\")).parents('.cell').data().cell;\n",
       "      cell.output_area.append_execute_result(NB_LOAD_WARNING)\n",
       "    }\n",
       "\n",
       "  }\n",
       "\n",
       "  if (root._bokeh_is_loading === 0) {\n",
       "    console.debug(\"Bokeh: BokehJS loaded, going straight to plotting\");\n",
       "    run_inline_js();\n",
       "  } else {\n",
       "    load_libs(css_urls, js_urls, function() {\n",
       "      console.debug(\"Bokeh: BokehJS plotting callback run at\", now());\n",
       "      run_inline_js();\n",
       "    });\n",
       "  }\n",
       "}(window));"
      ],
      "application/vnd.bokehjs_load.v0+json": "\n(function(root) {\n  function now() {\n    return new Date();\n  }\n\n  var force = true;\n\n  if (typeof root._bokeh_onload_callbacks === \"undefined\" || force === true) {\n    root._bokeh_onload_callbacks = [];\n    root._bokeh_is_loading = undefined;\n  }\n\n  \n\n  \n  if (typeof (root._bokeh_timeout) === \"undefined\" || force === true) {\n    root._bokeh_timeout = Date.now() + 5000;\n    root._bokeh_failed_load = false;\n  }\n\n  var NB_LOAD_WARNING = {'data': {'text/html':\n     \"<div style='background-color: #fdd'>\\n\"+\n     \"<p>\\n\"+\n     \"BokehJS does not appear to have successfully loaded. If loading BokehJS from CDN, this \\n\"+\n     \"may be due to a slow or bad network connection. Possible fixes:\\n\"+\n     \"</p>\\n\"+\n     \"<ul>\\n\"+\n     \"<li>re-rerun `output_notebook()` to attempt to load from CDN again, or</li>\\n\"+\n     \"<li>use INLINE resources instead, as so:</li>\\n\"+\n     \"</ul>\\n\"+\n     \"<code>\\n\"+\n     \"from bokeh.resources import INLINE\\n\"+\n     \"output_notebook(resources=INLINE)\\n\"+\n     \"</code>\\n\"+\n     \"</div>\"}};\n\n  function display_loaded() {\n    var el = document.getElementById(\"1001\");\n    if (el != null) {\n      el.textContent = \"BokehJS is loading...\";\n    }\n    if (root.Bokeh !== undefined) {\n      if (el != null) {\n        el.textContent = \"BokehJS \" + root.Bokeh.version + \" successfully loaded.\";\n      }\n    } else if (Date.now() < root._bokeh_timeout) {\n      setTimeout(display_loaded, 100)\n    }\n  }\n\n\n  function run_callbacks() {\n    try {\n      root._bokeh_onload_callbacks.forEach(function(callback) {\n        if (callback != null)\n          callback();\n      });\n    } finally {\n      delete root._bokeh_onload_callbacks\n    }\n    console.debug(\"Bokeh: all callbacks have finished\");\n  }\n\n  function load_libs(css_urls, js_urls, callback) {\n    if (css_urls == null) css_urls = [];\n    if (js_urls == null) js_urls = [];\n\n    root._bokeh_onload_callbacks.push(callback);\n    if (root._bokeh_is_loading > 0) {\n      console.debug(\"Bokeh: BokehJS is being loaded, scheduling callback at\", now());\n      return null;\n    }\n    if (js_urls == null || js_urls.length === 0) {\n      run_callbacks();\n      return null;\n    }\n    console.debug(\"Bokeh: BokehJS not loaded, scheduling load and callback at\", now());\n    root._bokeh_is_loading = css_urls.length + js_urls.length;\n\n    function on_load() {\n      root._bokeh_is_loading--;\n      if (root._bokeh_is_loading === 0) {\n        console.debug(\"Bokeh: all BokehJS libraries/stylesheets loaded\");\n        run_callbacks()\n      }\n    }\n\n    function on_error() {\n      console.error(\"failed to load \" + url);\n    }\n\n    for (var i = 0; i < css_urls.length; i++) {\n      var url = css_urls[i];\n      const element = document.createElement(\"link\");\n      element.onload = on_load;\n      element.onerror = on_error;\n      element.rel = \"stylesheet\";\n      element.type = \"text/css\";\n      element.href = url;\n      console.debug(\"Bokeh: injecting link tag for BokehJS stylesheet: \", url);\n      document.body.appendChild(element);\n    }\n\n    const hashes = {\"https://cdn.bokeh.org/bokeh/release/bokeh-2.2.3.min.js\": \"T2yuo9Oe71Cz/I4X9Ac5+gpEa5a8PpJCDlqKYO0CfAuEszu1JrXLl8YugMqYe3sM\", \"https://cdn.bokeh.org/bokeh/release/bokeh-widgets-2.2.3.min.js\": \"98GDGJ0kOMCUMUePhksaQ/GYgB3+NH9h996V88sh3aOiUNX3N+fLXAtry6xctSZ6\", \"https://cdn.bokeh.org/bokeh/release/bokeh-tables-2.2.3.min.js\": \"89bArO+nlbP3sgakeHjCo1JYxYR5wufVgA3IbUvDY+K7w4zyxJqssu7wVnfeKCq8\"};\n\n    for (var i = 0; i < js_urls.length; i++) {\n      var url = js_urls[i];\n      var element = document.createElement('script');\n      element.onload = on_load;\n      element.onerror = on_error;\n      element.async = false;\n      element.src = url;\n      if (url in hashes) {\n        element.crossOrigin = \"anonymous\";\n        element.integrity = \"sha384-\" + hashes[url];\n      }\n      console.debug(\"Bokeh: injecting script tag for BokehJS library: \", url);\n      document.head.appendChild(element);\n    }\n  };\n\n  function inject_raw_css(css) {\n    const element = document.createElement(\"style\");\n    element.appendChild(document.createTextNode(css));\n    document.body.appendChild(element);\n  }\n\n  \n  var js_urls = [\"https://cdn.bokeh.org/bokeh/release/bokeh-2.2.3.min.js\", \"https://cdn.bokeh.org/bokeh/release/bokeh-widgets-2.2.3.min.js\", \"https://cdn.bokeh.org/bokeh/release/bokeh-tables-2.2.3.min.js\"];\n  var css_urls = [];\n  \n\n  var inline_js = [\n    function(Bokeh) {\n      Bokeh.set_log_level(\"info\");\n    },\n    function(Bokeh) {\n    \n    \n    }\n  ];\n\n  function run_inline_js() {\n    \n    if (root.Bokeh !== undefined || force === true) {\n      \n    for (var i = 0; i < inline_js.length; i++) {\n      inline_js[i].call(root, root.Bokeh);\n    }\n    if (force === true) {\n        display_loaded();\n      }} else if (Date.now() < root._bokeh_timeout) {\n      setTimeout(run_inline_js, 100);\n    } else if (!root._bokeh_failed_load) {\n      console.log(\"Bokeh: BokehJS failed to load within specified timeout.\");\n      root._bokeh_failed_load = true;\n    } else if (force !== true) {\n      var cell = $(document.getElementById(\"1001\")).parents('.cell').data().cell;\n      cell.output_area.append_execute_result(NB_LOAD_WARNING)\n    }\n\n  }\n\n  if (root._bokeh_is_loading === 0) {\n    console.debug(\"Bokeh: BokehJS loaded, going straight to plotting\");\n    run_inline_js();\n  } else {\n    load_libs(css_urls, js_urls, function() {\n      console.debug(\"Bokeh: BokehJS plotting callback run at\", now());\n      run_inline_js();\n    });\n  }\n}(window));"
     },
     "metadata": {},
     "output_type": "display_data"
    }
   ],
   "source": [
    "output_notebook()"
   ]
  },
  {
   "cell_type": "code",
   "execution_count": 529,
   "metadata": {},
   "outputs": [
    {
     "data": {
      "text/html": [
       "\n",
       "\n",
       "\n",
       "\n",
       "\n",
       "\n",
       "  <div class=\"bk-root\" id=\"e5708a1e-0667-4e64-a7a4-710e46899342\" data-root-id=\"4977\"></div>\n"
      ]
     },
     "metadata": {},
     "output_type": "display_data"
    },
    {
     "data": {
      "application/javascript": [
       "(function(root) {\n",
       "  function embed_document(root) {\n",
       "    \n",
       "  var docs_json = {\"66d99736-b5a5-4899-813b-82a3c27082d1\":{\"roots\":{\"references\":[{\"attributes\":{\"below\":[{\"id\":\"4988\"}],\"center\":[{\"id\":\"4991\"},{\"id\":\"4995\"}],\"left\":[{\"id\":\"4992\"}],\"renderers\":[{\"id\":\"5008\"}],\"title\":{\"id\":\"4978\"},\"toolbar\":{\"id\":\"5000\"},\"toolbar_location\":\"above\",\"x_range\":{\"id\":\"4980\"},\"x_scale\":{\"id\":\"4984\"},\"y_range\":{\"id\":\"4982\"},\"y_scale\":{\"id\":\"4986\"}},\"id\":\"4977\",\"subtype\":\"Figure\",\"type\":\"Plot\"},{\"attributes\":{},\"id\":\"5190\",\"type\":\"Selection\"},{\"attributes\":{},\"id\":\"5186\",\"type\":\"BasicTickFormatter\"},{\"attributes\":{\"axis\":{\"id\":\"4992\"},\"dimension\":1,\"ticker\":null},\"id\":\"4995\",\"type\":\"Grid\"},{\"attributes\":{\"text\":\"word Not Negative/Negative Affinity Distribution\"},\"id\":\"4978\",\"type\":\"Title\"},{\"attributes\":{},\"id\":\"4984\",\"type\":\"LinearScale\"},{\"attributes\":{\"bottom\":{\"value\":0},\"fill_alpha\":{\"value\":0.1},\"fill_color\":{\"value\":\"#1f77b4\"},\"left\":{\"field\":\"left\"},\"line_alpha\":{\"value\":0.1},\"line_color\":{\"value\":\"#777777\"},\"right\":{\"field\":\"right\"},\"top\":{\"field\":\"top\"}},\"id\":\"5007\",\"type\":\"Quad\"},{\"attributes\":{\"data_source\":{\"id\":\"5005\"},\"glyph\":{\"id\":\"5006\"},\"hover_glyph\":null,\"muted_glyph\":null,\"nonselection_glyph\":{\"id\":\"5007\"},\"selection_glyph\":null,\"view\":{\"id\":\"5009\"}},\"id\":\"5008\",\"type\":\"GlyphRenderer\"},{\"attributes\":{},\"id\":\"4989\",\"type\":\"BasicTicker\"},{\"attributes\":{},\"id\":\"4998\",\"type\":\"ResetTool\"},{\"attributes\":{\"formatter\":{\"id\":\"5186\"},\"ticker\":{\"id\":\"4993\"}},\"id\":\"4992\",\"type\":\"LinearAxis\"},{\"attributes\":{\"data\":{\"left\":{\"__ndarray__\":\"7/D+U9LkBsArIw3n0GYGwGdVG3rP6AXApIcpDc5qBcDguTegzOwEwBzsRTPLbgTAWB5UxsnwA8CUUGJZyHIDwNGCcOzG9ALADbV+f8V2AsBJ54wSxPgBwIUZm6XCegHAwkupOMH8AMD+fbfLv34AwDqwxV6+AADA7MSn43kF/79kKcQJdwn+v92N4C90Df2/VfL8VXER/L/OVhl8bhX7v0a7NaJrGfq/vx9SyGgd+b83hG7uZSH4v6/oihRjJfe/KE2nOmAp9r+gscNgXS31vxkW4IZaMfS/kXr8rFc1878J3xjTVDnyv4JDNflRPfG/+qdRH09B8L/mGNyKmIruv9bhFNeSkuy/yKpNI42a6r+4c4Zvh6Lov6g8v7uBqua/mAX4B3yy5L+MzjBUdrriv3yXaaBwwuC/2MBE2dWU3b+4UrZxyqTZv5jkJwq/tNW/gHaZorPE0b/AEBZ2UKnLv4A0+aY5ycO/gLC4r0XSt78A8P0iMCSgv4AB6zJWuJ4/4Hj0KkNutz+wGJdkOJfDP/D0szNPd8s/mGhoAbOr0T+w1vZovpvVP9BEhdDJi9k/8LITONV73T+IENFP8LXgP5hHmAP2reI/pH5ft/ul5D+0tSZrAZ7mP8Ts7R4Hlug/1CO10gyO6j/kWnyGEobsP/CRQzoYfu4/gGQF9w478D8IAOnQETfxP5CbzKoUM/I/FjewhBcv8z+e0pNeGiv0PyZudzgdJ/U/rglbEiAj9j82pT7sIh/3P75AIsYlG/g/RtwFoCgX+T/Od+l5KxP6P1ITzVMuD/s/2q6wLTEL/D9iSpQHNAf9P+rld+E2A/4/coFbuzn//j/6HD+VPPv/P0FckbefewBABSqDJKH5AEDJ93SRoncBQI3FZv6j9QFAT5NYa6VzAkATYUrYpvECQNcuPEWobwNAm/wtsqntA0Bfyh8fq2sEQCOYEYys6QRA52UD+a1nBUCrM/Vlr+UFQG8B59KwYwZAM8/YP7LhBkD1nMqss18HQLlqvBm13QdAfTiuhrZbCEBBBqDzt9kIQAXUkWC5VwlAyaGDzbrVCUA=\",\"dtype\":\"float64\",\"order\":\"little\",\"shape\":[100]},\"right\":{\"__ndarray__\":\"KyMN59BmBsBnVRt6z+gFwKSHKQ3OagXA4Lk3oMzsBMAc7EUzy24EwFgeVMbJ8APAlFBiWchyA8DRgnDsxvQCwA21fn/FdgLASeeMEsT4AcCFGZulwnoBwMJLqTjB/ADA/n23y79+AMA6sMVevgAAwOzEp+N5Bf+/ZCnECXcJ/r/djeAvdA39v1Xy/FVxEfy/zlYZfG4V+79GuzWiaxn6v78fUshoHfm/N4Ru7mUh+L+v6IoUYyX3vyhNpzpgKfa/oLHDYF0t9b8ZFuCGWjH0v5F6/KxXNfO/Cd8Y01Q58r+CQzX5UT3xv/qnUR9PQfC/5hjcipiK7r/W4RTXkpLsv8iqTSONmuq/uHOGb4ei6L+oPL+7garmv5gF+Ad8suS/jM4wVHa64r98l2mgcMLgv9jARNnVlN2/uFK2ccqk2b+Y5CcKv7TVv4B2maKzxNG/wBAWdlCpy7+ANPmmOcnDv4CwuK9F0re/APD9IjAkoL+AAesyVrieP+B49CpDbrc/sBiXZDiXwz/w9LMzT3fLP5hoaAGzq9E/sNb2aL6b1T/QRIXQyYvZP/CyEzjVe90/iBDRT/C14D+YR5gD9q3iP6R+X7f7peQ/tLUmawGe5j/E7O0eB5boP9QjtdIMjuo/5Fp8hhKG7D/wkUM6GH7uP4BkBfcOO/A/CADp0BE38T+Qm8yqFDPyPxY3sIQXL/M/ntKTXhor9D8mbnc4HSf1P64JWxIgI/Y/NqU+7CIf9z++QCLGJRv4P0bcBaAoF/k/znfpeSsT+j9SE81TLg/7P9qusC0xC/w/YkqUBzQH/T/q5XfhNgP+P3KBW7s5//4/+hw/lTz7/z9BXJG3n3sAQAUqgySh+QBAyfd0kaJ3AUCNxWb+o/UBQE+TWGulcwJAE2FK2KbxAkDXLjxFqG8DQJv8LbKp7QNAX8ofH6trBEAjmBGMrOkEQOdlA/mtZwVAqzP1Za/lBUBvAefSsGMGQDPP2D+y4QZA9ZzKrLNfB0C5arwZtd0HQH04roa2WwhAQQag87fZCEAF1JFguVcJQMmhg8261QlAjG91OrxTCkA=\",\"dtype\":\"float64\",\"order\":\"little\",\"shape\":[100]},\"top\":{\"__ndarray__\":\"eD+hppw8Yj8AAAAAAAAAAAAAAAAAAAAAAAAAAAAAAAB4P6GmnDxiPwAAAAAAAAAAAAAAAAAAAAAAAAAAAAAAAHg/oaacPHI/AAAAAAAAAAB4P6GmnDxiPwAAAAAAAAAAeD+hppw8cj94P6GmnDxiP3g/oaacPGI/NN/x+epaez9Q3/H56lp7P3g/oaacPHI/UN/x+epaez803/H56lp7P4o/oaacPHI/Vo9J0MPLhj94P6GmnDySP4o/oaacPII/Ei+aIxLqjz97Z3U7MISkPzTf8fnqWps/gCs33NIYoT9BB8aOfqKdP1aPSdDDy6Y/g1MLcWZgoz88y4cvITeqP4NTC3FmYLM/XnvfBfqntT9ahRTr3jm2PyMHxo5+or0/i3vfBfqntT9+sNFOxWHBPxsbMFlIxr4/XnvfBfqnxT9Wj0nQw8vGP3LLhy8hN8o/Y3GqIBUWxT8G37S9dGLQP2dndTswhNQ/Y3GqIBUW1T/pptmlVsjbPzzLhy8hN9o/Ohlgl23h4T9p4trIPTvkPylBNCwBKeQ/P31yi16U5z94dmOxQtvqPy5uwVHCNew/l+IXBbQz7z+VZ7J3pnzvPylIgEKT2us/xXTQK97u6D/Q28vuIYLnP2tdQFZL8uM/bdil41ip4z/a2OIfz6HeP0W3HWVXE9k/RzKD8mTK2D/5/FNtIxjSP1igyss6D88/ONW8FAbJyj9QHhkom6bHPxYlZT4tWL8/PMuHLyE3uj9BwVJKPKW5P2tdQFZL8rM/IwfGjn6irT+XGzBZSMauPzTf8fnqWqs/IwfGjn6inT9Wj0nQw8uGPzTf8fnqWns/Vo9J0MPLhj94P6GmnDySPwAAAAAAAAAAeD+hppw8Yj8AAAAAAAAAAMI/oaacPHI/NN/x+epaez94P6GmnDxyPwAAAAAAAAAAeD+hppw8Yj8AAAAAAAAAAAAAAAAAAAAAAAAAAAAAAAAAAAAAAAAAAAAAAAAAAAAAAAAAAAAAAAAAAAAAAAAAAHg/oaacPGI/AAAAAAAAAAAAAAAAAAAAAAAAAAAAAAAAnT+hppw8Yj8=\",\"dtype\":\"float64\",\"order\":\"little\",\"shape\":[100]}},\"selected\":{\"id\":\"5190\"},\"selection_policy\":{\"id\":\"5191\"}},\"id\":\"5005\",\"type\":\"ColumnDataSource\"},{\"attributes\":{},\"id\":\"4986\",\"type\":\"LinearScale\"},{\"attributes\":{},\"id\":\"4993\",\"type\":\"BasicTicker\"},{\"attributes\":{},\"id\":\"4999\",\"type\":\"SaveTool\"},{\"attributes\":{},\"id\":\"5188\",\"type\":\"BasicTickFormatter\"},{\"attributes\":{},\"id\":\"5191\",\"type\":\"UnionRenderers\"},{\"attributes\":{\"axis\":{\"id\":\"4988\"},\"ticker\":null},\"id\":\"4991\",\"type\":\"Grid\"},{\"attributes\":{\"source\":{\"id\":\"5005\"}},\"id\":\"5009\",\"type\":\"CDSView\"},{\"attributes\":{\"formatter\":{\"id\":\"5188\"},\"ticker\":{\"id\":\"4989\"}},\"id\":\"4988\",\"type\":\"LinearAxis\"},{\"attributes\":{\"active_drag\":\"auto\",\"active_inspect\":\"auto\",\"active_multi\":null,\"active_scroll\":\"auto\",\"active_tap\":\"auto\",\"tools\":[{\"id\":\"4996\"},{\"id\":\"4997\"},{\"id\":\"4998\"},{\"id\":\"4999\"}]},\"id\":\"5000\",\"type\":\"Toolbar\"},{\"attributes\":{},\"id\":\"4997\",\"type\":\"WheelZoomTool\"},{\"attributes\":{\"bottom\":{\"value\":0},\"fill_color\":{\"value\":\"#1f77b4\"},\"left\":{\"field\":\"left\"},\"line_color\":{\"value\":\"#777777\"},\"right\":{\"field\":\"right\"},\"top\":{\"field\":\"top\"}},\"id\":\"5006\",\"type\":\"Quad\"},{\"attributes\":{},\"id\":\"4996\",\"type\":\"PanTool\"},{\"attributes\":{},\"id\":\"4980\",\"type\":\"DataRange1d\"},{\"attributes\":{},\"id\":\"4982\",\"type\":\"DataRange1d\"}],\"root_ids\":[\"4977\"]},\"title\":\"Bokeh Application\",\"version\":\"2.2.3\"}};\n",
       "  var render_items = [{\"docid\":\"66d99736-b5a5-4899-813b-82a3c27082d1\",\"root_ids\":[\"4977\"],\"roots\":{\"4977\":\"e5708a1e-0667-4e64-a7a4-710e46899342\"}}];\n",
       "  root.Bokeh.embed.embed_items_notebook(docs_json, render_items);\n",
       "\n",
       "  }\n",
       "  if (root.Bokeh !== undefined) {\n",
       "    embed_document(root);\n",
       "  } else {\n",
       "    var attempts = 0;\n",
       "    var timer = setInterval(function(root) {\n",
       "      if (root.Bokeh !== undefined) {\n",
       "        clearInterval(timer);\n",
       "        embed_document(root);\n",
       "      } else {\n",
       "        attempts++;\n",
       "        if (attempts > 100) {\n",
       "          clearInterval(timer);\n",
       "          console.log(\"Bokeh: ERROR: Unable to run BokehJS code because BokehJS library is missing\");\n",
       "        }\n",
       "      }\n",
       "    }, 10, root)\n",
       "  }\n",
       "})(window);"
      ],
      "application/vnd.bokehjs_exec.v0+json": ""
     },
     "metadata": {
      "application/vnd.bokehjs_exec.v0+json": {
       "id": "4977"
      }
     },
     "output_type": "display_data"
    }
   ],
   "source": [
    "hist, edges = np.histogram(list(map(lambda x:x[1],pos_neg_ratios.most_common())),density=True,bins=100,normed=True)\n",
    "\n",
    "p = figure(tools='pan,wheel_zoom,reset,save',\n",
    "          toolbar_location='above',\n",
    "          title = 'word Not Negative/Negative Affinity Distribution')\n",
    "p.quad(top=hist, bottom=0, left=edges[:-1], right=edges[1:], line_color=\"#777777\")\n",
    "show(p)"
   ]
  },
  {
   "cell_type": "code",
   "execution_count": 530,
   "metadata": {},
   "outputs": [],
   "source": [
    "frequency_frequency = Counter()\n",
    "for word, count in total_counts.most_common():\n",
    "    frequency_frequency[count] += 1"
   ]
  },
  {
   "cell_type": "code",
   "execution_count": 531,
   "metadata": {},
   "outputs": [
    {
     "data": {
      "text/html": [
       "\n",
       "\n",
       "\n",
       "\n",
       "\n",
       "\n",
       "  <div class=\"bk-root\" id=\"13acf604-1f25-4b80-a1f7-1520089b879b\" data-root-id=\"5227\"></div>\n"
      ]
     },
     "metadata": {},
     "output_type": "display_data"
    },
    {
     "data": {
      "application/javascript": [
       "(function(root) {\n",
       "  function embed_document(root) {\n",
       "    \n",
       "  var docs_json = {\"9a245ff6-d3d0-486f-9716-4e5014517386\":{\"roots\":{\"references\":[{\"attributes\":{\"below\":[{\"id\":\"5238\"}],\"center\":[{\"id\":\"5241\"},{\"id\":\"5245\"}],\"left\":[{\"id\":\"5242\"}],\"renderers\":[{\"id\":\"5258\"}],\"title\":{\"id\":\"5228\"},\"toolbar\":{\"id\":\"5250\"},\"toolbar_location\":\"above\",\"x_range\":{\"id\":\"5230\"},\"x_scale\":{\"id\":\"5234\"},\"y_range\":{\"id\":\"5232\"},\"y_scale\":{\"id\":\"5236\"}},\"id\":\"5227\",\"subtype\":\"Figure\",\"type\":\"Plot\"},{\"attributes\":{\"formatter\":{\"id\":\"5443\"},\"ticker\":{\"id\":\"5243\"}},\"id\":\"5242\",\"type\":\"LinearAxis\"},{\"attributes\":{\"source\":{\"id\":\"5255\"}},\"id\":\"5259\",\"type\":\"CDSView\"},{\"attributes\":{},\"id\":\"5248\",\"type\":\"ResetTool\"},{\"attributes\":{},\"id\":\"5236\",\"type\":\"LinearScale\"},{\"attributes\":{\"text\":\"The Frequency Distribution of the words in our corpus\"},\"id\":\"5228\",\"type\":\"Title\"},{\"attributes\":{},\"id\":\"5249\",\"type\":\"SaveTool\"},{\"attributes\":{},\"id\":\"5239\",\"type\":\"BasicTicker\"},{\"attributes\":{\"formatter\":{\"id\":\"5445\"},\"ticker\":{\"id\":\"5239\"}},\"id\":\"5238\",\"type\":\"LinearAxis\"},{\"attributes\":{},\"id\":\"5445\",\"type\":\"BasicTickFormatter\"},{\"attributes\":{},\"id\":\"5448\",\"type\":\"UnionRenderers\"},{\"attributes\":{},\"id\":\"5230\",\"type\":\"DataRange1d\"},{\"attributes\":{\"bottom\":{\"value\":0},\"fill_alpha\":{\"value\":0.1},\"fill_color\":{\"value\":\"#1f77b4\"},\"left\":{\"field\":\"left\"},\"line_alpha\":{\"value\":0.1},\"line_color\":{\"value\":\"#777777\"},\"right\":{\"field\":\"right\"},\"top\":{\"field\":\"top\"}},\"id\":\"5257\",\"type\":\"Quad\"},{\"attributes\":{},\"id\":\"5243\",\"type\":\"BasicTicker\"},{\"attributes\":{\"axis\":{\"id\":\"5238\"},\"ticker\":null},\"id\":\"5241\",\"type\":\"Grid\"},{\"attributes\":{},\"id\":\"5232\",\"type\":\"DataRange1d\"},{\"attributes\":{\"data\":{\"left\":{\"__ndarray__\":\"AAAAAAAA8D+PwvUoXEuGQI/C9ShcR5ZA61G4HoW0oECPwvUoXEWmQDMzMzMz1qtA61G4HoWzsEA9Ctej8HuzQI/C9ShcRLZA4XoUrscMuUAzMzMzM9W7QIXrUbienb5A61G4HgWzwEAUrkfhOhfCQD0K16Nwe8NAZmZmZqbfxECPwvUo3EPGQLgehesRqMdA4XoUrkcMyUAK16NwfXDKQDMzMzOz1MtAXI/C9eg4zUCF61G4Hp3OQNejcD2qANBA61G4HsWy0EAAAAAA4GTRQBSuR+H6FtJAKVyPwhXJ0kA9CtejMHvTQFK4HoVLLdRAZmZmZmbf1EB7FK5HgZHVQI/C9SicQ9ZAo3A9Crf11kC4HoXr0afXQMzMzMzsWdhA4XoUrgcM2UD1KFyPIr7ZQArXo3A9cNpAHoXrUVgi20AzMzMzc9TbQEfhehSOhtxAXI/C9ag43UBwPQrXw+rdQIXrUbjenN5AmZmZmflO30DXo3A9igDgQOF6FK6XWeBA61G4HqWy4ED1KFyPsgvhQAAAAADAZOFACtejcM294UAUrkfh2hbiQB6F61Hob+JAKVyPwvXI4kAzMzMzAyLjQD0K16MQe+NAR+F6FB7U40BSuB6FKy3kQFyPwvU4huRAZmZmZkbf5EBwPQrXUzjlQHsUrkdhkeVAhetRuG7q5UCPwvUofEPmQJmZmZmJnOZAo3A9Cpf15kCuR+F6pE7nQLgeheuxp+dAwvUoXL8A6EDMzMzMzFnoQNejcD3asuhA4XoUrucL6UDrUbge9WTpQPUoXI8CvulAAAAAABAX6kAK16NwHXDqQBSuR+EqyepAHoXrUTgi60ApXI/CRXvrQDMzMzNT1OtAPQrXo2At7EBH4XoUbobsQFG4HoV73+xAXI/C9Yg47UBmZmZmlpHtQHA9Ctej6u1AehSuR7FD7kCF61G4vpzuQI/C9SjM9e5AmZmZmdlO70CjcD0K56fvQNejcD16APBAXI/C9QAt8EDhehSuh1nwQGZmZmYOhvBA61G4HpWy8EBwPQrXG9/wQPUoXI+iC/FAexSuRyk48UA=\",\"dtype\":\"float64\",\"order\":\"little\",\"shape\":[100]},\"right\":{\"__ndarray__\":\"j8L1KFxLhkCPwvUoXEeWQOtRuB6FtKBAj8L1KFxFpkAzMzMzM9arQOtRuB6Fs7BAPQrXo/B7s0CPwvUoXES2QOF6FK7HDLlAMzMzMzPVu0CF61G4np2+QOtRuB4Fs8BAFK5H4ToXwkA9CtejcHvDQGZmZmam38RAj8L1KNxDxkC4HoXrEajHQOF6FK5HDMlACtejcH1wykAzMzMzs9TLQFyPwvXoOM1AhetRuB6dzkDXo3A9qgDQQOtRuB7FstBAAAAAAOBk0UAUrkfh+hbSQClcj8IVydJAPQrXozB700BSuB6FSy3UQGZmZmZm39RAexSuR4GR1UCPwvUonEPWQKNwPQq39dZAuB6F69Gn10DMzMzM7FnYQOF6FK4HDNlA9ShcjyK+2UAK16NwPXDaQB6F61FYIttAMzMzM3PU20BH4XoUjobcQFyPwvWoON1AcD0K18Pq3UCF61G43pzeQJmZmZn5Tt9A16NwPYoA4EDhehSul1ngQOtRuB6lsuBA9Shcj7IL4UAAAAAAwGThQArXo3DNveFAFK5H4doW4kAehetR6G/iQClcj8L1yOJAMzMzMwMi40A9CtejEHvjQEfhehQe1ONAUrgehSst5EBcj8L1OIbkQGZmZmZG3+RAcD0K11M45UB7FK5HYZHlQIXrUbhu6uVAj8L1KHxD5kCZmZmZiZzmQKNwPQqX9eZArkfheqRO50C4HoXrsafnQML1KFy/AOhAzMzMzMxZ6EDXo3A92rLoQOF6FK7nC+lA61G4HvVk6UD1KFyPAr7pQAAAAAAQF+pACtejcB1w6kAUrkfhKsnqQB6F61E4IutAKVyPwkV760AzMzMzU9TrQD0K16NgLexAR+F6FG6G7EBRuB6Fe9/sQFyPwvWIOO1AZmZmZpaR7UBwPQrXo+rtQHoUrkexQ+5AhetRuL6c7kCPwvUozPXuQJmZmZnZTu9Ao3A9Cuen70DXo3A9egDwQFyPwvUALfBA4XoUrodZ8EBmZmZmDobwQOtRuB6VsvBAcD0K1xvf8ED1KFyPogvxQHsUrkcpOPFAAAAAALBk8UA=\",\"dtype\":\"float64\",\"order\":\"little\",\"shape\":[100]},\"top\":{\"__ndarray__\":\"/JkJUIXoVj8qXoTNIJ3DPjooW2fWJpo+OChbZ9Ymqj4AAAAAAAAAADwoW2fWJpo+AAAAAAAAAAA4KFtn1iaaPgAAAAAAAAAAAAAAAAAAAAAAAAAAAAAAAEEoW2fWJpo+AAAAAAAAAAAAAAAAAAAAAAAAAAAAAAAAAAAAAAAAAAAAAAAAAAAAAAAAAAAAAAAAAAAAAAAAAAAAAAAAAAAAAAAAAAAAAAAAAAAAAAAAAAAAAAAAAAAAAAAAAAAAAAAAJihbZ9Ymmj4AAAAAAAAAAAAAAAAAAAAAAAAAAAAAAAAAAAAAAAAAAAAAAAAAAAAAAAAAAAAAAAAAAAAAAAAAAAAAAAAAAAAAAAAAAAAAAAAAAAAAAAAAAAAAAAAAAAAAAAAAAAAAAAAAAAAAAAAAAAAAAAAAAAAAAAAAAAAAAAAAAAAAAAAAAAAAAAAAAAAAAAAAAAAAAAAAAAAAAAAAAAAAAAAAAAAAAAAAAAAAAAAAAAAAAAAAAAAAAAAAAAAAAAAAAAAAAAAAAAAAAAAAAAAAAAAAAAAAAAAAAAAAAAAAAAAAAAAAAAAAAAAAAAAAAAAAAAAAAAAAAAAAAAAAAAAAAAAAAAAAAAAAAAAAAAAAAAAAAAAAAAAAAAAAAAAAAAAAAAAAAAAAAAAAAAAAAAAAAAAAAAAAAAAAAAAAAAAAAAAAAAAAAAAAAAAAAAAAAAAAAAAAAAAAAAAAAAAAAAAAAAAAAAAAAAAAAAAAAAAAAAAAAAAAAAAAAAAAAAAAAAAAAAAAAAAAAAAAAAAAAAAAAAAAAAAAAAAAAAAAAAAAAAAAAAAAAAAAAAAAAAAAAAAAAAAAAAAAAAAAAAAAAAAAAAAAAAAAAAAAAAAAAAAAAAAAAAAAAAAAAAAAAAAAAAAAAAAAAAAAAAAAAAAAAAAAAAAAAAAAAAAAAAAAAAAAAAAAAAAAAAAAAAAAAAAAAAAAAAAAAAAAAAAAAAAAAAAAAAAAAAAAAAAAAAAAAAAAAAAAAAAAAAAAAAAAAAAAAAAAAAAAAAAAAAAAAAAAAAAAAAAAAAAASyhbZ9Ymmj4=\",\"dtype\":\"float64\",\"order\":\"little\",\"shape\":[100]}},\"selected\":{\"id\":\"5447\"},\"selection_policy\":{\"id\":\"5448\"}},\"id\":\"5255\",\"type\":\"ColumnDataSource\"},{\"attributes\":{\"data_source\":{\"id\":\"5255\"},\"glyph\":{\"id\":\"5256\"},\"hover_glyph\":null,\"muted_glyph\":null,\"nonselection_glyph\":{\"id\":\"5257\"},\"selection_glyph\":null,\"view\":{\"id\":\"5259\"}},\"id\":\"5258\",\"type\":\"GlyphRenderer\"},{\"attributes\":{},\"id\":\"5443\",\"type\":\"BasicTickFormatter\"},{\"attributes\":{\"active_drag\":\"auto\",\"active_inspect\":\"auto\",\"active_multi\":null,\"active_scroll\":\"auto\",\"active_tap\":\"auto\",\"tools\":[{\"id\":\"5246\"},{\"id\":\"5247\"},{\"id\":\"5248\"},{\"id\":\"5249\"}]},\"id\":\"5250\",\"type\":\"Toolbar\"},{\"attributes\":{},\"id\":\"5246\",\"type\":\"PanTool\"},{\"attributes\":{},\"id\":\"5234\",\"type\":\"LinearScale\"},{\"attributes\":{\"bottom\":{\"value\":0},\"fill_color\":{\"value\":\"#1f77b4\"},\"left\":{\"field\":\"left\"},\"line_color\":{\"value\":\"#777777\"},\"right\":{\"field\":\"right\"},\"top\":{\"field\":\"top\"}},\"id\":\"5256\",\"type\":\"Quad\"},{\"attributes\":{},\"id\":\"5247\",\"type\":\"WheelZoomTool\"},{\"attributes\":{},\"id\":\"5447\",\"type\":\"Selection\"},{\"attributes\":{\"axis\":{\"id\":\"5242\"},\"dimension\":1,\"ticker\":null},\"id\":\"5245\",\"type\":\"Grid\"}],\"root_ids\":[\"5227\"]},\"title\":\"Bokeh Application\",\"version\":\"2.2.3\"}};\n",
       "  var render_items = [{\"docid\":\"9a245ff6-d3d0-486f-9716-4e5014517386\",\"root_ids\":[\"5227\"],\"roots\":{\"5227\":\"13acf604-1f25-4b80-a1f7-1520089b879b\"}}];\n",
       "  root.Bokeh.embed.embed_items_notebook(docs_json, render_items);\n",
       "\n",
       "  }\n",
       "  if (root.Bokeh !== undefined) {\n",
       "    embed_document(root);\n",
       "  } else {\n",
       "    var attempts = 0;\n",
       "    var timer = setInterval(function(root) {\n",
       "      if (root.Bokeh !== undefined) {\n",
       "        clearInterval(timer);\n",
       "        embed_document(root);\n",
       "      } else {\n",
       "        attempts++;\n",
       "        if (attempts > 100) {\n",
       "          clearInterval(timer);\n",
       "          console.log(\"Bokeh: ERROR: Unable to run BokehJS code because BokehJS library is missing\");\n",
       "        }\n",
       "      }\n",
       "    }, 10, root)\n",
       "  }\n",
       "})(window);"
      ],
      "application/vnd.bokehjs_exec.v0+json": ""
     },
     "metadata": {
      "application/vnd.bokehjs_exec.v0+json": {
       "id": "5227"
      }
     },
     "output_type": "display_data"
    }
   ],
   "source": [
    "hist, edges = np.histogram(list(map(lambda x:x[1],frequency_frequency.most_common())),\n",
    "                           density=True,bins=100,normed=True)\n",
    "\n",
    "p = figure(tools='pan,wheel_zoom,reset,save',\n",
    "          toolbar_location='above',\n",
    "          title = 'The Frequency Distribution of the words in our corpus')\n",
    "p.quad(top=hist, bottom=0, left=edges[:-1], right=edges[1:], line_color=\"#777777\")\n",
    "show(p)"
   ]
  },
  {
   "cell_type": "code",
   "execution_count": 532,
   "metadata": {},
   "outputs": [],
   "source": [
    "#create a network by using counts of words in our review, to predict the sentiment of our review\n",
    "class SentimentNetwork:\n",
    "    def __init__(self, reviews, labels,min_count=10,polarity_cutoff=0.1, hidden_nodes=10, learning_rate=0.1):\n",
    "        #set our random number generator\n",
    "        np.random.seed(52)\n",
    "        \n",
    "        self.pre_process_data(reviews,labels, polarity_cutoff, min_count)\n",
    "        \n",
    "        self.init_network(len(self.review_vocab), hidden_nodes, 1, learning_rate)\n",
    "        \n",
    "    def pre_process_data(self, reviews,labels, polarity_cutoff, min_count):\n",
    "        \n",
    "        not_negative_counts = Counter()\n",
    "        negative_counts = Counter()\n",
    "        total_counts = Counter()\n",
    "        \n",
    "        for i in range(len(reviews)):\n",
    "            if (reviews[i] == 'Not Negative'):\n",
    "                for word in reviews[i].split(\" \"): #to count every positive word in a positive review\n",
    "                    not_negative_counts[word] += 1\n",
    "                    total_counts[word] += 1\n",
    "    \n",
    "            else:\n",
    "                for word in reviews[i].split(\" \"):\n",
    "                    negative_counts[word] += 1\n",
    "                    total_counts[word] += 1\n",
    "            \n",
    "\n",
    "        pos_neg_ratios = Counter()\n",
    "\n",
    "        for term,cnt in list(total_counts.most_common()):\n",
    "            if(cnt>200):\n",
    "                pos_neg_ratio = not_negative_counts[term] / float(negative_counts[term]+1)\n",
    "                pos_neg_ratios[term] = pos_neg_ratio\n",
    "\n",
    "        #Make it even better\n",
    "        for word, ratio in pos_neg_ratios.most_common():\n",
    "            if(ratio > 1):\n",
    "                pos_neg_ratios[word] = np.log(ratio)\n",
    "            else:\n",
    "                pos_neg_ratios[word] = -np.log((1/(ratio+0.01)))   \n",
    "            \n",
    "        review_vocab = set()\n",
    "        for review in reviews:\n",
    "            for word in review.split(\" \"):\n",
    "                if(total_counts[word] > min_count):\n",
    "                    if(word in pos_neg_ratios.keys()):\n",
    "                        if((pos_neg_ratios[word] >= polarity_cutoff) or (pos_neg_ratios[word]<= -polarity_cutoff)):\n",
    "                            review_vocab.add(word)\n",
    "                    else:\n",
    "                        review_vocab.add(word)\n",
    "                \n",
    "        self.review_vocab = list(review_vocab)\n",
    "        \n",
    "        label_vocab = set()\n",
    "        for label in labels:\n",
    "            label_vocab.add(label)\n",
    "        \n",
    "        self.label_vocab = list(label_vocab)\n",
    "        \n",
    "        self.review_vocab_size = len(self.review_vocab)\n",
    "        self.label_vocab_size = len(self.label_vocab)\n",
    "        \n",
    "        self.word2index = {}\n",
    "        for i, word in enumerate(self.review_vocab):\n",
    "            self.word2index[word] = i\n",
    "            \n",
    "        self.label2index = {}\n",
    "        for i, label in enumerate(self.label_vocab):\n",
    "            self.label2index[label] = i\n",
    "            \n",
    "    def init_network(self, input_nodes, hidden_nodes, output_nodes, learning_rate):\n",
    "        #set number of nodes in input, hidden and output layers.\n",
    "        self.input_nodes = input_nodes\n",
    "        self.hidden_nodes = hidden_nodes\n",
    "        self.output_nodes = output_nodes\n",
    "        \n",
    "        #initialize weights\n",
    "        self.weights_0_1 = np.zeros((self.input_nodes, self.hidden_nodes))\n",
    "        \n",
    "        self.weights_1_2 = np.random.normal(0.0, self.output_nodes**-0.5,\n",
    "                                           (self.hidden_nodes, self.output_nodes))\n",
    "        self.learning_rate = learning_rate\n",
    "        \n",
    "        self.layer_0 = np.zeros((1, input_nodes))\n",
    "        self.layer_1 = np.zeros((1, hidden_nodes))\n",
    "    def update_input_layer(self, review):\n",
    "        \n",
    "        #clear out previous state, reset the layer to be all 0s\n",
    "        self.layer_0 *= 0\n",
    "        for word in review.split(\" \"):\n",
    "            if(word in self.word2index.keys()):\n",
    "                self.layer_0[0][self.word2index[word]] = 1\n",
    "                \n",
    "    def get_target_for_label(self, label):\n",
    "        if (label == 'Not Negative'):\n",
    "            return 1\n",
    "        else:\n",
    "            return 0\n",
    "        \n",
    "        \n",
    "    def sigmoid(self, x):\n",
    "        return 1 / (1 + np.exp(-x))\n",
    "    \n",
    "    def sigmoid_output_2_derivative(self, output):\n",
    "        return output * (1 - output)\n",
    "    \n",
    "    \n",
    "    def train(self, training_reviews_raw, training_labels):\n",
    "        #added a preprocessing step into train mehtod\n",
    "        #for each review we convert the words to the row of our word matrix that it corresponds to\n",
    "        training_reviews = list()\n",
    "        for review in training_reviews_raw:\n",
    "            indices = set()\n",
    "            for word in review.split(\" \"):\n",
    "                if(word in self.word2index.keys()):\n",
    "                    indices.add(self.word2index[word])\n",
    "            training_reviews.append(list(indices))\n",
    "        \n",
    "        assert(len(training_reviews) == len(training_labels))\n",
    "        \n",
    "        #how the neural net is doing during the training process\n",
    "        correct_so_far = 0\n",
    "        \n",
    "        start = time.time()\n",
    "        \n",
    "        for i in range(len(training_reviews)):\n",
    "            \n",
    "            review = training_reviews[i]\n",
    "            label = training_labels[i]\n",
    "            \n",
    "            #implement the forward propagation here\n",
    "            #forward pass\n",
    "            \n",
    "            #input layer\n",
    "            #based on a chunk of code that I added to the beggining of this function.\n",
    "            #it allows me to completely skip the input layer and we jump straight to generate our hidden layer\n",
    "            \n",
    "            \n",
    "            #Hidden layer\n",
    "            #layer_1 = self.layer_0.dot(self.weights_0_1)\n",
    "            self.layer_1 *= 0\n",
    "            for index in review:\n",
    "                self.layer_1 += self.weights_0_1[index]\n",
    "            \n",
    "            #Output layer\n",
    "            layer_2 = self.sigmoid(self.layer_1.dot(self.weights_1_2))\n",
    "            \n",
    "            #implement the backward propagation here\n",
    "            #Backward pass\n",
    "            \n",
    "            #Output error\n",
    "            layer_2_error = layer_2 - self.get_target_for_label(label)\n",
    "            layer_2_delta = layer_2_error * self.sigmoid_output_2_derivative(layer_2)\n",
    "            \n",
    "            #backpropagated error\n",
    "            layer_1_error = layer_2_delta.dot(self.weights_1_2.T) #errors propagated to the hidden layer\n",
    "            layer_1_delta = layer_1_error #hidden layer gradients - no nonlinearity so it's the same as the error\n",
    "            \n",
    "            #update the weights\n",
    "            self.weights_1_2 -= self.layer_1.T.dot(layer_2_delta)* self.learning_rate #Update hidden-to-output weights\n",
    "            \n",
    "            for index in review:\n",
    "                self.weights_0_1[index] -= layer_1_delta[0] * self.learning_rate #update input-to-hidden weights\n",
    "            \n",
    "            if(np.abs(layer_2_error) < 0.5):\n",
    "                correct_so_far += 1\n",
    "                \n",
    "            reviews_per_second = i / float(time.time() - start)\n",
    "            \n",
    "            sys.stdout.write(\"\\rProgress:\" + str(100 * i/float(len(training_reviews)))[:4] \n",
    "                              + \"% speed(reviews/sec):\" + str(reviews_per_second)[0:5]\n",
    "                        + \" #Correct: \" + str(correct_so_far) + \" #Trained:\" + str(i+1) + \" Training Accuracy:\" +\n",
    "                         str(100 * correct_so_far/ (i+1))[:4] + \"%\")\n",
    "        \n",
    "            if(i % 100000 == 0):\n",
    "                print(\"\")\n",
    "            sys.stdout.flush()    \n",
    "    #defining this function if I want to run it on a dataset            \n",
    "    def test(self, testing_reviews, testing_labels):\n",
    "        correct = 0\n",
    "        start = time.time()\n",
    "        for i in range(len(testing_reviews)):\n",
    "            pred = self.run(testing_reviews[i])\n",
    "            if(pred == testing_labels[i]):\n",
    "                correct += 1\n",
    "                \n",
    "        reviews_per_second = i / float(time.time() - start)\n",
    "        \n",
    "        sys.stdout.write(\"\\rProgress:\" + str(100 * i/float(len(testing_reviews)))[:4] \n",
    "                             + \"% speed(reviews/sec):\" + str(reviews_per_second)[0:5]\n",
    "                        + \" #Correct: \" + str(correct) + \" #Tested:\" + str(i+1) + \" Testing Accuracy:\" +\n",
    "                         str(100 * correct/ len(testing_reviews))[:4] + \"%\")\n",
    "        \n",
    "    #defining this function if I want to run it on a single review    \n",
    "    def run(self, review):\n",
    "        #Input layer\n",
    "        \n",
    "        \n",
    "        #Hidden layer\n",
    "        self.layer_1 *= 0\n",
    "        unique_indices =set()\n",
    "        for word in review.split(\" \"):\n",
    "            if word in self.word2index.keys():\n",
    "                unique_indices.add(self.word2index[word])\n",
    "        for index in unique_indices:\n",
    "            self.layer_1 += self.weights_0_1[index]\n",
    "        \n",
    "        #Output layer\n",
    "        layer_2 = self.sigmoid(self.layer_1.dot(self.weights_1_2))\n",
    "        \n",
    "        if(layer_2[0] > 0.5):\n",
    "            return \"Not Negative\"\n",
    "        else:\n",
    "            return \"Negative\"\n",
    "            "
   ]
  },
  {
   "cell_type": "code",
   "execution_count": 534,
   "metadata": {},
   "outputs": [],
   "source": [
    "mlp = SentimentNetwork(X_train, y_train, learning_rate=0.01, min_count=40, polarity_cutoff=0.1)"
   ]
  },
  {
   "cell_type": "code",
   "execution_count": 535,
   "metadata": {},
   "outputs": [
    {
     "name": "stdout",
     "output_type": "stream",
     "text": [
      "Progress:0.0% speed(reviews/sec):0.0 #Correct: 0 #Trained:1 Training Accuracy:0.0%\n",
      "Progress:12.3% speed(reviews/sec):750.4 #Correct: 81939 #Trained:100001 Training Accuracy:81.9%\n",
      "Progress:24.6% speed(reviews/sec):747.5 #Correct: 165335 #Trained:200001 Training Accuracy:82.6%\n",
      "Progress:37.0% speed(reviews/sec):755.8 #Correct: 249014 #Trained:300001 Training Accuracy:83.0%\n",
      "Progress:49.3% speed(reviews/sec):761.1 #Correct: 332810 #Trained:400001 Training Accuracy:83.2%\n",
      "Progress:61.6% speed(reviews/sec):765.1 #Correct: 416950 #Trained:500001 Training Accuracy:83.3%\n",
      "Progress:74.0% speed(reviews/sec):767.7 #Correct: 501365 #Trained:600001 Training Accuracy:83.5%\n",
      "Progress:86.3% speed(reviews/sec):769.5 #Correct: 585614 #Trained:700001 Training Accuracy:83.6%\n",
      "Progress:98.7% speed(reviews/sec):769.8 #Correct: 669880 #Trained:800001 Training Accuracy:83.7%\n",
      "Progress:99.9% speed(reviews/sec):769.6 #Correct: 678546 #Trained:810380 Training Accuracy:83.7%"
     ]
    }
   ],
   "source": [
    "mlp.train(X_train, y_train)"
   ]
  },
  {
   "cell_type": "code",
   "execution_count": 571,
   "metadata": {},
   "outputs": [],
   "source": [
    "#going more aggressive and cutoff a bigger chunk of the words\n",
    "mlp = SentimentNetwork(X_train, y_train, learning_rate=0.01, min_count=20, polarity_cutoff=0.5)"
   ]
  },
  {
   "cell_type": "code",
   "execution_count": 572,
   "metadata": {},
   "outputs": [
    {
     "name": "stdout",
     "output_type": "stream",
     "text": [
      "Progress:0.0% speed(reviews/sec):0.0 #Correct: 0 #Trained:1 Training Accuracy:0.0%\n",
      "Progress:12.3% speed(reviews/sec):612.7 #Correct: 81943 #Trained:100001 Training Accuracy:81.9%\n",
      "Progress:24.6% speed(reviews/sec):652.9 #Correct: 165346 #Trained:200001 Training Accuracy:82.6%\n",
      "Progress:37.0% speed(reviews/sec):693.3 #Correct: 249033 #Trained:300001 Training Accuracy:83.0%\n",
      "Progress:49.3% speed(reviews/sec):709.4 #Correct: 332838 #Trained:400001 Training Accuracy:83.2%\n",
      "Progress:61.6% speed(reviews/sec):730.8 #Correct: 416992 #Trained:500001 Training Accuracy:83.3%\n",
      "Progress:74.0% speed(reviews/sec):742.9 #Correct: 501429 #Trained:600001 Training Accuracy:83.5%\n",
      "Progress:86.3% speed(reviews/sec):749.7 #Correct: 585695 #Trained:700001 Training Accuracy:83.6%\n",
      "Progress:98.7% speed(reviews/sec):761.0 #Correct: 669976 #Trained:800001 Training Accuracy:83.7%\n",
      "Progress:99.9% speed(reviews/sec):762.4 #Correct: 678541 #Trained:810256 Training Accuracy:83.7%"
     ]
    },
    {
     "name": "stderr",
     "output_type": "stream",
     "text": [
      "IOPub message rate exceeded.\n",
      "The notebook server will temporarily stop sending output\n",
      "to the client in order to avoid crashing it.\n",
      "To change this limit, set the config variable\n",
      "`--NotebookApp.iopub_msg_rate_limit`.\n",
      "\n",
      "Current values:\n",
      "NotebookApp.iopub_msg_rate_limit=1000.0 (msgs/sec)\n",
      "NotebookApp.rate_limit_window=3.0 (secs)\n",
      "\n"
     ]
    }
   ],
   "source": [
    "mlp.train(X_train, y_train)"
   ]
  },
  {
   "cell_type": "code",
   "execution_count": 573,
   "metadata": {},
   "outputs": [
    {
     "name": "stdout",
     "output_type": "stream",
     "text": [
      "\r",
      "Progress:99.9% speed(reviews/sec):6219. #Correct: 170787 #Tested:202596 Testing Accuracy:84.2%"
     ]
    }
   ],
   "source": [
    "mlp.test(X_test, y_test)"
   ]
  },
  {
   "cell_type": "code",
   "execution_count": 569,
   "metadata": {},
   "outputs": [
    {
     "name": "stdout",
     "output_type": "stream",
     "text": [
      "Progress:0.0% speed(reviews/sec):0.0 #Correct: 0 #Trained:1 Training Accuracy:0.0%\n",
      "Progress:12.3% speed(reviews/sec):788.0 #Correct: 98063 #Trained:100001 Training Accuracy:98.0%\n",
      "Progress:24.6% speed(reviews/sec):772.1 #Correct: 196779 #Trained:200001 Training Accuracy:98.3%\n",
      "Progress:37.0% speed(reviews/sec):765.7 #Correct: 295594 #Trained:300001 Training Accuracy:98.5%\n",
      "Progress:49.3% speed(reviews/sec):761.0 #Correct: 394398 #Trained:400001 Training Accuracy:98.5%\n",
      "Progress:61.6% speed(reviews/sec):760.6 #Correct: 493279 #Trained:500001 Training Accuracy:98.6%\n",
      "Progress:74.0% speed(reviews/sec):759.9 #Correct: 592166 #Trained:600001 Training Accuracy:98.6%\n",
      "Progress:86.3% speed(reviews/sec):758.8 #Correct: 691032 #Trained:700001 Training Accuracy:98.7%\n",
      "Progress:98.7% speed(reviews/sec):757.9 #Correct: 789921 #Trained:800001 Training Accuracy:98.7%\n",
      "Progress:99.9% speed(reviews/sec):757.9 #Correct: 800188 #Trained:810380 Training Accuracy:98.7%"
     ]
    }
   ],
   "source": [
    "#increasing accuracy by more iterations\n",
    "mlp.train(X_train * 2, y_train * 2)"
   ]
  },
  {
   "cell_type": "code",
   "execution_count": 889,
   "metadata": {},
   "outputs": [],
   "source": [
    "sentence_3 = 'this is a good product'\n",
    "sentence_4 = 'this is not a good product'"
   ]
  },
  {
   "cell_type": "code",
   "execution_count": 893,
   "metadata": {},
   "outputs": [
    {
     "data": {
      "image/png": "[encoded data removed]",
      "text/plain": [
       "<Figure size 432x432 with 1 Axes>"
      ]
     },
     "metadata": {
      "needs_background": "light"
     },
     "output_type": "display_data"
    }
   ],
   "source": [
    "#obtain the model's predictions (logits)\n",
    "mlp.run(sentence_3)\n",
    "calc_preds = tf.nn.sigmoid(mlp.layer_1.dot(mlp.weights_1_2)).numpy()\n",
    "not_negative_pred_mlp = float(calc_preds[0])*100\n",
    "\n",
    "negative_pred_mlp = 100 - not_negative_pred_mlp\n",
    "\n",
    "percentage_pred_mlp = []\n",
    "percentage_pred_mlp.append(not_negative_pred_mlp)\n",
    "percentage_pred_mlp.append(negative_pred_mlp)\n",
    "\n",
    "plt.figure(figsize=(6,6))\n",
    "plt.bar(x=[1,2], height=percentage_pred_mlp, color='Blue', tick_label=['Not_negative','Negative']);"
   ]
  },
  {
   "cell_type": "code",
   "execution_count": 894,
   "metadata": {},
   "outputs": [
    {
     "data": {
      "image/png": "[encoded data removed]",
      "text/plain": [
       "<Figure size 432x432 with 1 Axes>"
      ]
     },
     "metadata": {
      "needs_background": "light"
     },
     "output_type": "display_data"
    }
   ],
   "source": [
    "#obtain the model's predictions (logits)\n",
    "mlp.run(sentence_4)\n",
    "calc_preds = tf.nn.sigmoid(mlp.layer_1.dot(mlp.weights_1_2)).numpy()\n",
    "not_negative_pred_mlp = float(calc_preds[0])*100\n",
    "\n",
    "negative_pred_mlp = 100 - not_negative_pred_mlp\n",
    "\n",
    "percentage_pred_mlp = []\n",
    "percentage_pred_mlp.append(not_negative_pred_mlp)\n",
    "percentage_pred_mlp.append(negative_pred_mlp)\n",
    "\n",
    "plt.figure(figsize=(6,6))\n",
    "plt.bar(x=[1,2], height=percentage_pred_mlp, color='Blue', tick_label=['Not_negative','Negative']);"
   ]
  },
  {
   "cell_type": "markdown",
   "metadata": {},
   "source": [
    "### Visualizing words"
   ]
  },
  {
   "cell_type": "code",
   "execution_count": 574,
   "metadata": {},
   "outputs": [],
   "source": [
    "#define a function to get the most similar words based on our trained model by a simple dot product of words index\n",
    "# and input to hidden layer weights\n",
    "\n",
    "def get_most_similar_words(focus = 'waste'):\n",
    "    most_similar = Counter()\n",
    "    \n",
    "    for word in mlp.word2index.keys():\n",
    "        most_similar[word] = np.dot(mlp.weights_0_1[mlp.word2index[word]],mlp.weights_0_1[mlp.word2index[focus]])\n",
    "    return most_similar.most_common() "
   ]
  },
  {
   "cell_type": "code",
   "execution_count": 575,
   "metadata": {},
   "outputs": [
    {
     "data": {
      "text/plain": [
       "[('junk', 0.7499200186306263),\n",
       " ('waste', 0.7162073105972617),\n",
       " ('terrible', 0.6629453863437472),\n",
       " ('worst', 0.6576739923908752),\n",
       " ('useless', 0.6258631272274322),\n",
       " ('awful', 0.6114830999962172),\n",
       " ('garbage', 0.6103794211704523),\n",
       " ('poor', 0.6073895004346117),\n",
       " ('returning', 0.6056259799868808),\n",
       " ('refund', 0.603113117203415),\n",
       " ('horrible', 0.5932676928855177),\n",
       " ('worthless', 0.5922745278910917),\n",
       " ('return', 0.5742129394778503),\n",
       " ('returned', 0.5527564524365987),\n",
       " ('crap', 0.5343667267039877),\n",
       " ('stopped', 0.5239463821180084),\n",
       " ('disappointing', 0.4981961727241061),\n",
       " ('worse', 0.4929213865067056),\n",
       " ('poorly', 0.48948077220453745),\n",
       " ('trash', 0.4866923221122078)]"
      ]
     },
     "execution_count": 575,
     "metadata": {},
     "output_type": "execute_result"
    }
   ],
   "source": [
    "get_most_similar_words('poor')[:20]"
   ]
  },
  {
   "cell_type": "code",
   "execution_count": 576,
   "metadata": {},
   "outputs": [
    {
     "data": {
      "text/plain": [
       "[('excellent', 0.6203482453353355),\n",
       " ('awesome', 0.5474506540693246),\n",
       " ('amazing', 0.5387222550864891),\n",
       " ('love', 0.5244652821698277),\n",
       " ('complaint', 0.4830966732288272),\n",
       " ('loves', 0.48018568290357067),\n",
       " ('great', 0.47102014331182307),\n",
       " ('perfect', 0.4618313216944407),\n",
       " ('complaints', 0.45436849034781013),\n",
       " ('satisfied', 0.4352524208328906),\n",
       " ('perfectly', 0.4130611541972979),\n",
       " ('fantastic', 0.4103239201652973),\n",
       " ('job', 0.4048090076559909),\n",
       " ('beat', 0.3982998531008033),\n",
       " ('best', 0.39178423561215914),\n",
       " ('good', 0.38539134511425205),\n",
       " ('stars', 0.38454442965294566),\n",
       " ('pleased', 0.38308835768475513),\n",
       " ('exactly', 0.37894656983836295),\n",
       " ('highly', 0.3716171281194599)]"
      ]
     },
     "execution_count": 576,
     "metadata": {},
     "output_type": "execute_result"
    }
   ],
   "source": [
    "get_most_similar_words('awesome')[:20]"
   ]
  },
  {
   "cell_type": "code",
   "execution_count": 812,
   "metadata": {},
   "outputs": [],
   "source": [
    "#choose 500 words of not negative words and 500 of negative words to visualize\n",
    "\n",
    "words_to_visualize = list()\n",
    "for word, ratio in pos_neg_ratios.most_common(500):\n",
    "    if(word in mlp.word2index.keys()):\n",
    "        words_to_visualize.append(word)\n",
    "        \n",
    "for word, ratio in list(reversed(pos_neg_ratios.most_common()))[0:500]:\n",
    "    if(word in mlp.word2index.keys()):\n",
    "        words_to_visualize.append(word)"
   ]
  },
  {
   "cell_type": "code",
   "execution_count": 813,
   "metadata": {},
   "outputs": [],
   "source": [
    "#creating colors base on positivity or negativity of words \n",
    "#create word vectors to to feed in to TSNE vector space\n",
    "\n",
    "not_neg = 0\n",
    "neg = 0\n",
    "\n",
    "colors_list = []\n",
    "vectors_list = []\n",
    "for word in words_to_visualize:\n",
    "    if word in pos_neg_ratios.keys():\n",
    "        vectors_list.append(mlp.weights_0_1[mlp.word2index[word]])\n",
    "        if (pos_neg_ratios[word] > 0):\n",
    "            not_neg += 1\n",
    "            colors_list.append(\"#00ff00\") #showing not_negative words with green\n",
    "        else:\n",
    "            neg += 1\n",
    "            colors_list.append(\"#000000\") #showing not_negative words with black"
   ]
  },
  {
   "cell_type": "code",
   "execution_count": 814,
   "metadata": {},
   "outputs": [],
   "source": [
    "#showing all the words in 2 dimentional way\n",
    "tsne = TSNE(n_components=2, random_state=52)\n",
    "words_tsne = tsne.fit_transform(vectors_list)"
   ]
  },
  {
   "cell_type": "code",
   "execution_count": 816,
   "metadata": {},
   "outputs": [
    {
     "data": {
      "text/html": [
       "\n",
       "\n",
       "\n",
       "\n",
       "\n",
       "\n",
       "  <div class=\"bk-root\" id=\"ab35d946-f0e5-4baa-803a-608f38a071bd\" data-root-id=\"8990\"></div>\n"
      ]
     },
     "metadata": {},
     "output_type": "display_data"
    },
    {
     "data": {
      "application/javascript": [
       "(function(root) {\n",
       "  function embed_document(root) {\n",
       "    \n",
       "  var docs_json = {\"5d15f24b-7edb-4994-aa27-60e03a8a31ba\":{\"roots\":{\"references\":[{\"attributes\":{\"below\":[{\"id\":\"9001\"}],\"center\":[{\"id\":\"9004\"},{\"id\":\"9008\"}],\"left\":[{\"id\":\"9005\"}],\"renderers\":[{\"id\":\"9022\"}],\"title\":{\"id\":\"8991\"},\"toolbar\":{\"id\":\"9013\"},\"toolbar_location\":\"above\",\"x_range\":{\"id\":\"8993\"},\"x_scale\":{\"id\":\"8997\"},\"y_range\":{\"id\":\"8995\"},\"y_scale\":{\"id\":\"8999\"}},\"id\":\"8990\",\"subtype\":\"Figure\",\"type\":\"Plot\"},{\"attributes\":{},\"id\":\"9297\",\"type\":\"Selection\"},{\"attributes\":{},\"id\":\"9010\",\"type\":\"WheelZoomTool\"},{\"attributes\":{},\"id\":\"9009\",\"type\":\"PanTool\"},{\"attributes\":{},\"id\":\"9011\",\"type\":\"ResetTool\"},{\"attributes\":{},\"id\":\"9012\",\"type\":\"SaveTool\"},{\"attributes\":{\"text\":\"vector T-SNE for most polarized words\"},\"id\":\"8991\",\"type\":\"Title\"},{\"attributes\":{},\"id\":\"9298\",\"type\":\"UnionRenderers\"},{\"attributes\":{},\"id\":\"9295\",\"type\":\"BasicTickFormatter\"},{\"attributes\":{},\"id\":\"8997\",\"type\":\"LinearScale\"},{\"attributes\":{},\"id\":\"9002\",\"type\":\"BasicTicker\"},{\"attributes\":{\"active_drag\":\"auto\",\"active_inspect\":\"auto\",\"active_multi\":null,\"active_scroll\":\"auto\",\"active_tap\":\"auto\",\"tools\":[{\"id\":\"9009\"},{\"id\":\"9010\"},{\"id\":\"9011\"},{\"id\":\"9012\"}]},\"id\":\"9013\",\"type\":\"Toolbar\"},{\"attributes\":{\"formatter\":{\"id\":\"9295\"},\"ticker\":{\"id\":\"9002\"}},\"id\":\"9001\",\"type\":\"LinearAxis\"},{\"attributes\":{},\"id\":\"9293\",\"type\":\"BasicTickFormatter\"},{\"attributes\":{\"axis\":{\"id\":\"9001\"},\"ticker\":null},\"id\":\"9004\",\"type\":\"Grid\"},{\"attributes\":{},\"id\":\"9006\",\"type\":\"BasicTicker\"},{\"attributes\":{\"fill_color\":{\"field\":\"color\"},\"line_color\":{\"field\":\"color\"},\"size\":{\"units\":\"screen\",\"value\":8},\"x\":{\"field\":\"x1\"},\"y\":{\"field\":\"x2\"}},\"id\":\"9020\",\"type\":\"Scatter\"},{\"attributes\":{\"formatter\":{\"id\":\"9293\"},\"ticker\":{\"id\":\"9006\"}},\"id\":\"9005\",\"type\":\"LinearAxis\"},{\"attributes\":{},\"id\":\"8993\",\"type\":\"DataRange1d\"},{\"attributes\":{\"axis\":{\"id\":\"9005\"},\"dimension\":1,\"ticker\":null},\"id\":\"9008\",\"type\":\"Grid\"},{\"attributes\":{\"source\":{\"id\":\"9018\"}},\"id\":\"9023\",\"type\":\"CDSView\"},{\"attributes\":{},\"id\":\"8995\",\"type\":\"DataRange1d\"},{\"attributes\":{},\"id\":\"8999\",\"type\":\"LinearScale\"},{\"attributes\":{\"fill_alpha\":{\"value\":0.1},\"fill_color\":{\"field\":\"color\"},\"line_alpha\":{\"value\":0.1},\"line_color\":{\"field\":\"color\"},\"size\":{\"units\":\"screen\",\"value\":8},\"x\":{\"field\":\"x1\"},\"y\":{\"field\":\"x2\"}},\"id\":\"9021\",\"type\":\"Scatter\"},{\"attributes\":{\"data\":{\"color\":[\"#00ff00\",\"#00ff00\",\"#00ff00\",\"#00ff00\",\"#00ff00\",\"#00ff00\",\"#00ff00\",\"#00ff00\",\"#00ff00\",\"#00ff00\",\"#00ff00\",\"#00ff00\",\"#00ff00\",\"#00ff00\",\"#00ff00\",\"#00ff00\",\"#00ff00\",\"#00ff00\",\"#00ff00\",\"#00ff00\",\"#00ff00\",\"#00ff00\",\"#00ff00\",\"#00ff00\",\"#00ff00\",\"#00ff00\",\"#00ff00\",\"#00ff00\",\"#00ff00\",\"#00ff00\",\"#00ff00\",\"#00ff00\",\"#00ff00\",\"#00ff00\",\"#00ff00\",\"#00ff00\",\"#00ff00\",\"#00ff00\",\"#00ff00\",\"#00ff00\",\"#00ff00\",\"#00ff00\",\"#00ff00\",\"#00ff00\",\"#00ff00\",\"#00ff00\",\"#00ff00\",\"#00ff00\",\"#00ff00\",\"#00ff00\",\"#00ff00\",\"#00ff00\",\"#00ff00\",\"#00ff00\",\"#00ff00\",\"#00ff00\",\"#00ff00\",\"#00ff00\",\"#00ff00\",\"#00ff00\",\"#00ff00\",\"#00ff00\",\"#00ff00\",\"#00ff00\",\"#00ff00\",\"#00ff00\",\"#00ff00\",\"#00ff00\",\"#00ff00\",\"#00ff00\",\"#00ff00\",\"#00ff00\",\"#00ff00\",\"#00ff00\",\"#00ff00\",\"#00ff00\",\"#00ff00\",\"#00ff00\",\"#00ff00\",\"#00ff00\",\"#00ff00\",\"#00ff00\",\"#00ff00\",\"#00ff00\",\"#00ff00\",\"#00ff00\",\"#00ff00\",\"#00ff00\",\"#00ff00\",\"#00ff00\",\"#00ff00\",\"#00ff00\",\"#00ff00\",\"#00ff00\",\"#00ff00\",\"#00ff00\",\"#00ff00\",\"#00ff00\",\"#00ff00\",\"#00ff00\",\"#00ff00\",\"#00ff00\",\"#00ff00\",\"#00ff00\",\"#00ff00\",\"#00ff00\",\"#00ff00\",\"#00ff00\",\"#00ff00\",\"#00ff00\",\"#00ff00\",\"#00ff00\",\"#00ff00\",\"#00ff00\",\"#00ff00\",\"#00ff00\",\"#00ff00\",\"#00ff00\",\"#00ff00\",\"#00ff00\",\"#00ff00\",\"#00ff00\",\"#00ff00\",\"#00ff00\",\"#00ff00\",\"#00ff00\",\"#00ff00\",\"#00ff00\",\"#00ff00\",\"#00ff00\",\"#00ff00\",\"#00ff00\",\"#00ff00\",\"#00ff00\",\"#00ff00\",\"#00ff00\",\"#00ff00\",\"#00ff00\",\"#00ff00\",\"#00ff00\",\"#00ff00\",\"#00ff00\",\"#00ff00\",\"#00ff00\",\"#00ff00\",\"#00ff00\",\"#00ff00\",\"#00ff00\",\"#00ff00\",\"#00ff00\",\"#00ff00\",\"#00ff00\",\"#00ff00\",\"#00ff00\",\"#00ff00\",\"#00ff00\",\"#00ff00\",\"#00ff00\",\"#00ff00\",\"#00ff00\",\"#00ff00\",\"#00ff00\",\"#00ff00\",\"#00ff00\",\"#00ff00\",\"#00ff00\",\"#00ff00\",\"#00ff00\",\"#00ff00\",\"#00ff00\",\"#00ff00\",\"#00ff00\",\"#00ff00\",\"#00ff00\",\"#00ff00\",\"#00ff00\",\"#00ff00\",\"#00ff00\",\"#00ff00\",\"#00ff00\",\"#00ff00\",\"#00ff00\",\"#00ff00\",\"#00ff00\",\"#00ff00\",\"#00ff00\",\"#00ff00\",\"#00ff00\",\"#00ff00\",\"#00ff00\",\"#00ff00\",\"#00ff00\",\"#00ff00\",\"#00ff00\",\"#00ff00\",\"#00ff00\",\"#00ff00\",\"#00ff00\",\"#00ff00\",\"#00ff00\",\"#00ff00\",\"#00ff00\",\"#00ff00\",\"#00ff00\",\"#00ff00\",\"#00ff00\",\"#00ff00\",\"#00ff00\",\"#00ff00\",\"#00ff00\",\"#00ff00\",\"#00ff00\",\"#00ff00\",\"#00ff00\",\"#00ff00\",\"#00ff00\",\"#00ff00\",\"#00ff00\",\"#00ff00\",\"#00ff00\",\"#00ff00\",\"#00ff00\",\"#00ff00\",\"#00ff00\",\"#00ff00\",\"#00ff00\",\"#00ff00\",\"#00ff00\",\"#00ff00\",\"#00ff00\",\"#00ff00\",\"#00ff00\",\"#00ff00\",\"#00ff00\",\"#00ff00\",\"#00ff00\",\"#00ff00\",\"#00ff00\",\"#00ff00\",\"#00ff00\",\"#00ff00\",\"#00ff00\",\"#00ff00\",\"#00ff00\",\"#00ff00\",\"#00ff00\",\"#00ff00\",\"#00ff00\",\"#00ff00\",\"#00ff00\",\"#00ff00\",\"#00ff00\",\"#00ff00\",\"#00ff00\",\"#00ff00\",\"#00ff00\",\"#00ff00\",\"#00ff00\",\"#00ff00\",\"#00ff00\",\"#00ff00\",\"#00ff00\",\"#00ff00\",\"#00ff00\",\"#00ff00\",\"#00ff00\",\"#00ff00\",\"#00ff00\",\"#00ff00\",\"#00ff00\",\"#00ff00\",\"#00ff00\",\"#00ff00\",\"#00ff00\",\"#00ff00\",\"#00ff00\",\"#00ff00\",\"#00ff00\",\"#00ff00\",\"#00ff00\",\"#00ff00\",\"#00ff00\",\"#00ff00\",\"#00ff00\",\"#00ff00\",\"#00ff00\",\"#00ff00\",\"#00ff00\",\"#00ff00\",\"#00ff00\",\"#00ff00\",\"#00ff00\",\"#00ff00\",\"#00ff00\",\"#00ff00\",\"#00ff00\",\"#00ff00\",\"#00ff00\",\"#00ff00\",\"#00ff00\",\"#00ff00\",\"#00ff00\",\"#00ff00\",\"#00ff00\",\"#00ff00\",\"#00ff00\",\"#00ff00\",\"#00ff00\",\"#00ff00\",\"#00ff00\",\"#00ff00\",\"#00ff00\",\"#00ff00\",\"#00ff00\",\"#00ff00\",\"#00ff00\",\"#00ff00\",\"#00ff00\",\"#00ff00\",\"#00ff00\",\"#00ff00\",\"#00ff00\",\"#00ff00\",\"#00ff00\",\"#00ff00\",\"#00ff00\",\"#00ff00\",\"#00ff00\",\"#00ff00\",\"#00ff00\",\"#00ff00\",\"#00ff00\",\"#00ff00\",\"#00ff00\",\"#00ff00\",\"#00ff00\",\"#00ff00\",\"#00ff00\",\"#00ff00\",\"#00ff00\",\"#00ff00\",\"#00ff00\",\"#00ff00\",\"#00ff00\",\"#00ff00\",\"#00ff00\",\"#00ff00\",\"#00ff00\",\"#00ff00\",\"#00ff00\",\"#00ff00\",\"#00ff00\",\"#00ff00\",\"#00ff00\",\"#00ff00\",\"#00ff00\",\"#00ff00\",\"#00ff00\",\"#00ff00\",\"#00ff00\",\"#00ff00\",\"#00ff00\",\"#00ff00\",\"#00ff00\",\"#00ff00\",\"#00ff00\",\"#00ff00\",\"#00ff00\",\"#00ff00\",\"#00ff00\",\"#00ff00\",\"#00ff00\",\"#00ff00\",\"#00ff00\",\"#00ff00\",\"#00ff00\",\"#00ff00\",\"#00ff00\",\"#00ff00\",\"#00ff00\",\"#00ff00\",\"#00ff00\",\"#00ff00\",\"#00ff00\",\"#00ff00\",\"#00ff00\",\"#00ff00\",\"#00ff00\",\"#00ff00\",\"#00ff00\",\"#00ff00\",\"#00ff00\",\"#00ff00\",\"#00ff00\",\"#00ff00\",\"#00ff00\",\"#00ff00\",\"#00ff00\",\"#00ff00\",\"#00ff00\",\"#00ff00\",\"#00ff00\",\"#00ff00\",\"#00ff00\",\"#00ff00\",\"#00ff00\",\"#00ff00\",\"#00ff00\",\"#00ff00\",\"#00ff00\",\"#00ff00\",\"#00ff00\",\"#00ff00\",\"#00ff00\",\"#00ff00\",\"#00ff00\",\"#00ff00\",\"#00ff00\",\"#00ff00\",\"#00ff00\",\"#00ff00\",\"#00ff00\",\"#00ff00\",\"#00ff00\",\"#00ff00\",\"#00ff00\",\"#00ff00\",\"#00ff00\",\"#00ff00\",\"#00ff00\",\"#00ff00\",\"#00ff00\",\"#00ff00\",\"#00ff00\",\"#00ff00\",\"#00ff00\",\"#00ff00\",\"#00ff00\",\"#00ff00\",\"#00ff00\",\"#00ff00\",\"#00ff00\",\"#00ff00\",\"#00ff00\",\"#00ff00\",\"#00ff00\",\"#00ff00\",\"#00ff00\",\"#00ff00\",\"#00ff00\",\"#00ff00\",\"#00ff00\",\"#00ff00\",\"#00ff00\",\"#00ff00\",\"#00ff00\",\"#00ff00\",\"#00ff00\",\"#00ff00\",\"#00ff00\",\"#00ff00\",\"#00ff00\",\"#00ff00\",\"#00ff00\",\"#00ff00\",\"#00ff00\",\"#00ff00\",\"#00ff00\",\"#00ff00\",\"#00ff00\",\"#00ff00\",\"#00ff00\",\"#00ff00\",\"#00ff00\",\"#00ff00\",\"#00ff00\",\"#00ff00\",\"#00ff00\",\"#00ff00\",\"#00ff00\",\"#00ff00\",\"#00ff00\",\"#00ff00\",\"#00ff00\",\"#00ff00\",\"#00ff00\",\"#00ff00\",\"#00ff00\",\"#00ff00\",\"#00ff00\",\"#00ff00\",\"#00ff00\",\"#00ff00\",\"#00ff00\",\"#00ff00\",\"#00ff00\",\"#00ff00\",\"#00ff00\",\"#00ff00\",\"#00ff00\",\"#000000\",\"#000000\",\"#000000\",\"#000000\",\"#000000\",\"#000000\",\"#000000\",\"#000000\",\"#000000\",\"#000000\",\"#000000\",\"#000000\",\"#000000\",\"#000000\",\"#000000\",\"#000000\",\"#000000\",\"#000000\",\"#000000\",\"#000000\",\"#000000\",\"#000000\",\"#000000\",\"#000000\",\"#000000\",\"#000000\",\"#000000\",\"#000000\",\"#000000\",\"#000000\",\"#000000\",\"#000000\",\"#000000\",\"#000000\",\"#000000\",\"#000000\",\"#000000\",\"#000000\",\"#000000\",\"#000000\",\"#000000\",\"#000000\",\"#000000\",\"#000000\",\"#000000\",\"#000000\",\"#000000\",\"#000000\",\"#000000\",\"#000000\",\"#000000\",\"#000000\",\"#000000\",\"#000000\",\"#000000\",\"#000000\",\"#000000\",\"#000000\",\"#000000\",\"#000000\",\"#000000\",\"#000000\",\"#000000\",\"#000000\",\"#000000\",\"#000000\",\"#000000\",\"#000000\",\"#000000\",\"#000000\",\"#000000\",\"#000000\",\"#000000\",\"#000000\",\"#000000\",\"#000000\",\"#000000\",\"#000000\",\"#000000\",\"#000000\",\"#000000\",\"#000000\",\"#000000\",\"#000000\",\"#000000\",\"#000000\",\"#000000\",\"#000000\",\"#000000\",\"#000000\",\"#000000\",\"#000000\",\"#000000\",\"#000000\",\"#000000\",\"#000000\",\"#000000\",\"#000000\",\"#000000\",\"#000000\",\"#000000\",\"#000000\",\"#000000\",\"#000000\",\"#000000\",\"#000000\",\"#000000\",\"#000000\",\"#000000\",\"#000000\",\"#000000\",\"#000000\",\"#000000\",\"#000000\",\"#000000\",\"#000000\",\"#000000\",\"#000000\",\"#000000\",\"#000000\",\"#000000\",\"#000000\",\"#000000\",\"#000000\",\"#000000\",\"#000000\",\"#000000\",\"#000000\",\"#000000\",\"#000000\",\"#000000\",\"#000000\",\"#000000\",\"#000000\",\"#000000\",\"#000000\",\"#000000\",\"#000000\",\"#000000\",\"#000000\",\"#000000\",\"#000000\",\"#000000\",\"#000000\",\"#000000\",\"#000000\",\"#000000\",\"#000000\",\"#000000\",\"#000000\",\"#000000\",\"#000000\",\"#000000\",\"#000000\",\"#000000\",\"#000000\",\"#000000\",\"#000000\",\"#000000\",\"#000000\",\"#000000\",\"#000000\",\"#000000\",\"#000000\",\"#000000\",\"#000000\",\"#000000\",\"#000000\",\"#000000\",\"#000000\",\"#000000\",\"#000000\",\"#000000\",\"#000000\",\"#000000\",\"#000000\",\"#000000\",\"#000000\",\"#000000\",\"#000000\",\"#000000\",\"#000000\",\"#000000\",\"#000000\",\"#000000\",\"#000000\",\"#000000\",\"#000000\",\"#000000\",\"#000000\",\"#000000\",\"#000000\",\"#000000\",\"#000000\",\"#000000\",\"#000000\",\"#000000\",\"#000000\",\"#000000\",\"#000000\",\"#000000\",\"#000000\",\"#000000\",\"#000000\",\"#000000\",\"#000000\",\"#000000\",\"#000000\",\"#000000\",\"#000000\",\"#000000\",\"#000000\",\"#000000\",\"#000000\",\"#000000\",\"#000000\",\"#000000\",\"#000000\",\"#000000\",\"#000000\",\"#000000\",\"#000000\",\"#000000\",\"#000000\",\"#000000\",\"#000000\",\"#000000\",\"#000000\",\"#000000\",\"#000000\",\"#000000\",\"#000000\",\"#000000\",\"#000000\",\"#000000\",\"#000000\",\"#000000\",\"#000000\",\"#000000\",\"#000000\",\"#000000\",\"#000000\",\"#000000\",\"#000000\",\"#000000\",\"#000000\",\"#000000\",\"#000000\",\"#000000\",\"#000000\",\"#000000\",\"#000000\",\"#000000\",\"#000000\",\"#000000\",\"#000000\",\"#000000\",\"#000000\",\"#000000\",\"#000000\",\"#000000\",\"#000000\",\"#000000\",\"#000000\",\"#000000\",\"#000000\",\"#000000\",\"#000000\",\"#000000\",\"#000000\",\"#000000\",\"#000000\",\"#000000\",\"#000000\",\"#000000\",\"#000000\",\"#000000\",\"#000000\",\"#000000\",\"#000000\",\"#000000\",\"#000000\",\"#000000\",\"#000000\",\"#000000\",\"#000000\",\"#000000\",\"#000000\",\"#000000\",\"#000000\",\"#000000\",\"#000000\",\"#000000\",\"#000000\",\"#000000\",\"#000000\",\"#000000\",\"#000000\",\"#000000\",\"#000000\",\"#000000\",\"#000000\",\"#000000\",\"#000000\",\"#000000\",\"#000000\",\"#000000\",\"#000000\",\"#000000\",\"#000000\",\"#000000\",\"#000000\",\"#000000\",\"#000000\",\"#000000\",\"#000000\",\"#000000\",\"#000000\",\"#000000\",\"#000000\",\"#000000\",\"#000000\",\"#000000\",\"#000000\",\"#000000\",\"#000000\",\"#000000\",\"#000000\",\"#000000\",\"#000000\",\"#000000\",\"#000000\",\"#000000\",\"#000000\",\"#000000\",\"#000000\",\"#000000\",\"#000000\",\"#000000\",\"#000000\",\"#000000\",\"#000000\",\"#000000\",\"#000000\",\"#000000\",\"#000000\",\"#000000\",\"#000000\",\"#000000\",\"#000000\",\"#000000\",\"#000000\",\"#000000\",\"#000000\",\"#000000\",\"#000000\",\"#000000\",\"#000000\",\"#000000\",\"#000000\",\"#000000\",\"#000000\",\"#000000\",\"#000000\",\"#000000\",\"#000000\",\"#000000\",\"#000000\",\"#000000\",\"#000000\",\"#000000\",\"#000000\",\"#000000\",\"#000000\",\"#000000\",\"#000000\",\"#000000\",\"#000000\",\"#000000\",\"#000000\",\"#000000\",\"#000000\",\"#000000\",\"#000000\",\"#000000\",\"#000000\",\"#000000\",\"#000000\",\"#000000\",\"#000000\",\"#000000\",\"#000000\",\"#000000\",\"#000000\",\"#000000\",\"#000000\",\"#000000\",\"#000000\",\"#000000\",\"#000000\",\"#000000\",\"#000000\",\"#000000\",\"#000000\",\"#000000\",\"#000000\",\"#000000\",\"#000000\",\"#000000\",\"#000000\",\"#000000\",\"#000000\",\"#000000\",\"#000000\",\"#000000\",\"#000000\",\"#000000\",\"#000000\",\"#000000\",\"#000000\",\"#000000\",\"#000000\",\"#000000\",\"#000000\",\"#000000\",\"#000000\",\"#000000\",\"#000000\",\"#000000\",\"#000000\",\"#000000\",\"#000000\",\"#000000\",\"#000000\",\"#000000\",\"#000000\",\"#000000\",\"#000000\",\"#000000\",\"#000000\",\"#000000\",\"#000000\",\"#000000\",\"#000000\",\"#000000\",\"#000000\",\"#000000\",\"#000000\",\"#000000\",\"#000000\",\"#000000\",\"#000000\",\"#000000\",\"#000000\",\"#000000\",\"#000000\",\"#000000\",\"#000000\",\"#000000\",\"#000000\",\"#000000\",\"#000000\",\"#000000\",\"#000000\",\"#000000\",\"#000000\",\"#000000\",\"#000000\",\"#000000\",\"#000000\",\"#000000\",\"#000000\",\"#000000\",\"#000000\",\"#000000\",\"#000000\",\"#000000\",\"#000000\",\"#000000\",\"#000000\",\"#000000\",\"#000000\",\"#000000\",\"#000000\",\"#000000\",\"#000000\",\"#000000\",\"#000000\",\"#000000\",\"#000000\",\"#000000\",\"#000000\",\"#000000\",\"#000000\",\"#000000\",\"#000000\",\"#000000\",\"#000000\",\"#000000\",\"#000000\"],\"names\":[\"excelente\",\"excelent\",\"loves\",\"pleasantly\",\"blends\",\"fills\",\"downside\",\"frills\",\"drawback\",\"exceeded\",\"regrets\",\"compliments\",\"unobtrusive\",\"bonus\",\"caveats\",\"unbeatable\",\"soundstage\",\"suits\",\"versatility\",\"beat\",\"versatile\",\"protects\",\"enhances\",\"awsome\",\"quibble\",\"excellent\",\"niche\",\"worries\",\"saves\",\"handy\",\"value\",\"serves\",\"shines\",\"perfect\",\"hesitate\",\"solves\",\"excellently\",\"lovers\",\"warts\",\"affordable\",\"nuances\",\"effortlessly\",\"dubstep\",\"criticism\",\"hides\",\"gripe\",\"complaint\",\"cleans\",\"love\",\"bookcase\",\"complement\",\"punchy\",\"blend\",\"surprises\",\"smoother\",\"classy\",\"downsides\",\"enables\",\"steal\",\"warmer\",\"patio\",\"stunning\",\"gripes\",\"backyard\",\"crisp\",\"tricky\",\"sturdy\",\"exceeds\",\"remarkable\",\"finder\",\"tad\",\"crisper\",\"explosions\",\"stores\",\"compact\",\"decor\",\"ceilings\",\"nervous\",\"senn\",\"delivers\",\"highly\",\"cherry\",\"preference\",\"champ\",\"lossless\",\"brainer\",\"economical\",\"easy\",\"likes\",\"awesome\",\"pleased\",\"amazing\",\"jazz\",\"deducted\",\"enjoying\",\"complaints\",\"wherever\",\"audiophiles\",\"skeptical\",\"superb\",\"articulation\",\"organized\",\"drawbacks\",\"enjoys\",\"clutter\",\"customizable\",\"stud\",\"job\",\"plenty\",\"flexibility\",\"outstanding\",\"phenomenal\",\"zipbuds\",\"loving\",\"ample\",\"fantastic\",\"seamlessly\",\"pleasure\",\"perfection\",\"spaces\",\"smallish\",\"rocks\",\"tuck\",\"breeze\",\"fatiguing\",\"concert\",\"nicely\",\"delighted\",\"bill\",\"muy\",\"minor\",\"fronts\",\"crystal\",\"gem\",\"hesitation\",\"allows\",\"beefy\",\"charm\",\"exceptional\",\"cooking\",\"terrific\",\"surrounds\",\"folk\",\"footprint\",\"xb\",\"engines\",\"downfall\",\"compares\",\"sturdiness\",\"velour\",\"edm\",\"elegant\",\"performs\",\"hulu\",\"cerwin\",\"quirk\",\"manageable\",\"monthly\",\"saver\",\"overkill\",\"chores\",\"met\",\"rocking\",\"surroundings\",\"easiest\",\"oomph\",\"firing\",\"porta\",\"amazed\",\"refined\",\"sq\",\"surprisingly\",\"dining\",\"woofers\",\"worry\",\"heft\",\"tidy\",\"rockbox\",\"storms\",\"babies\",\"eliminates\",\"hubby\",\"folds\",\"portapro\",\"imaging\",\"articulate\",\"budget\",\"bang\",\"great\",\"convenient\",\"tends\",\"overall\",\"satisfied\",\"assortment\",\"bookshelf\",\"prefer\",\"portability\",\"purse\",\"crowd\",\"solid\",\"con\",\"swivels\",\"compromise\",\"balanced\",\"neatly\",\"fireplace\",\"stumbled\",\"storing\",\"travels\",\"booming\",\"tastes\",\"polks\",\"astounding\",\"camping\",\"cinch\",\"enjoyable\",\"pricey\",\"parties\",\"solidly\",\"extras\",\"reserve\",\"worrying\",\"ease\",\"fence\",\"coded\",\"genres\",\"worried\",\"neoprene\",\"aids\",\"airy\",\"syncs\",\"remembers\",\"easier\",\"washer\",\"whip\",\"hardest\",\"entertaining\",\"tend\",\"advantages\",\"fuss\",\"helps\",\"suitcase\",\"perfectly\",\"hide\",\"kbps\",\"pleasing\",\"disadvantage\",\"listener\",\"tighter\",\"necessity\",\"space\",\"studs\",\"rich\",\"clarity\",\"fits\",\"provides\",\"template\",\"metric\",\"listeners\",\"wonders\",\"winner\",\"punch\",\"improves\",\"comfy\",\"incredible\",\"hop\",\"stylish\",\"compliment\",\"rock\",\"bic\",\"handles\",\"fuller\",\"glove\",\"gloss\",\"preferred\",\"profile\",\"lfe\",\"backpack\",\"shine\",\"dishes\",\"daisy\",\"duty\",\"tonal\",\"obtrusive\",\"pleather\",\"depends\",\"notch\",\"ding\",\"efficient\",\"realistic\",\"nfc\",\"sleek\",\"planes\",\"fabulous\",\"rumble\",\"disturb\",\"mixing\",\"customize\",\"wrench\",\"emotiva\",\"aac\",\"pricy\",\"crossover\",\"quirks\",\"glad\",\"price\",\"installs\",\"kitchen\",\"favorite\",\"subs\",\"flashy\",\"simplicity\",\"dynamics\",\"travelling\",\"impressive\",\"competition\",\"wonderfully\",\"portrait\",\"concern\",\"anchors\",\"powerful\",\"bit\",\"degradation\",\"richer\",\"infinity\",\"lightweight\",\"hitch\",\"signature\",\"hip\",\"mounted\",\"porch\",\"traveling\",\"detachable\",\"sonido\",\"natural\",\"reasonable\",\"vega\",\"martin\",\"exactly\",\"organize\",\"nice\",\"casual\",\"audiophile\",\"shakes\",\"keeper\",\"surround\",\"drywall\",\"works\",\"wonderful\",\"separation\",\"complain\",\"blues\",\"beach\",\"tweak\",\"arrangement\",\"enthusiast\",\"happier\",\"straightforward\",\"lepai\",\"fatigue\",\"spectacular\",\"hiking\",\"den\",\"neighbors\",\"whistles\",\"flights\",\"crossfade\",\"overpowering\",\"performer\",\"freedom\",\"holds\",\"reasonably\",\"movies\",\"meets\",\"taller\",\"remarkably\",\"tangling\",\"prices\",\"periods\",\"warmth\",\"confortable\",\"heartbeat\",\"study\",\"dac\",\"rap\",\"portapros\",\"lanyard\",\"nifty\",\"classical\",\"spaced\",\"bricks\",\"efficiency\",\"guitars\",\"ideally\",\"biggie\",\"entertainment\",\"prolonged\",\"spacers\",\"reproduction\",\"fraction\",\"furniture\",\"binders\",\"transport\",\"nit\",\"rooms\",\"micca\",\"flac\",\"beauty\",\"kits\",\"bassy\",\"satisfying\",\"neat\",\"bells\",\"matches\",\"psw\",\"pluses\",\"bills\",\"floors\",\"guests\",\"cans\",\"detailed\",\"haha\",\"buck\",\"straps\",\"lil\",\"modification\",\"cruise\",\"disappoint\",\"gamer\",\"quicker\",\"hungry\",\"subtle\",\"compete\",\"lover\",\"fancy\",\"anticipate\",\"mids\",\"comfortable\",\"solved\",\"momentum\",\"adequate\",\"bedroom\",\"challenging\",\"flexible\",\"liking\",\"trailer\",\"transformers\",\"pounding\",\"hiding\",\"storage\",\"cw\",\"neutral\",\"enjoy\",\"accessible\",\"greatest\",\"organizing\",\"reciva\",\"environments\",\"companion\",\"spikes\",\"chew\",\"assemble\",\"travel\",\"ceiling\",\"mowing\",\"hidden\",\"accuracy\",\"surges\",\"trick\",\"instruments\",\"washers\",\"wins\",\"install\",\"carry\",\"grandkids\",\"tweaking\",\"clearer\",\"musical\",\"fold\",\"shures\",\"zippered\",\"improvements\",\"outages\",\"studying\",\"knocked\",\"collection\",\"crowded\",\"survived\",\"racks\",\"calidad\",\"shorten\",\"friends\",\"drill\",\"pleasant\",\"knocking\",\"leveling\",\"roar\",\"irritate\",\"fun\",\"brilliant\",\"fraud\",\"wast\",\"waste\",\"junk\",\"scam\",\"garbage\",\"paperweight\",\"pos\",\"recourse\",\"refunds\",\"returnable\",\"ashamed\",\"trash\",\"unsatisfied\",\"refund\",\"disgusted\",\"restocking\",\"wasted\",\"utter\",\"deadline\",\"exploded\",\"electrified\",\"stoped\",\"smoking\",\"worthless\",\"insult\",\"expired\",\"rubbish\",\"worst\",\"dissatisfied\",\"crap\",\"ripoff\",\"emptor\",\"refunding\",\"flickered\",\"lesson\",\"supervisor\",\"nada\",\"horrible\",\"policy\",\"honor\",\"sparks\",\"counterfeit\",\"requesting\",\"smelled\",\"return\",\"cheated\",\"bogus\",\"refused\",\"lemon\",\"threw\",\"terrible\",\"reimbursed\",\"stopped\",\"policies\",\"unhappy\",\"fake\",\"melted\",\"authorization\",\"steer\",\"defective\",\"postage\",\"doa\",\"downhill\",\"imitation\",\"returning\",\"returned\",\"awful\",\"knockoff\",\"unacceptable\",\"displeased\",\"authorized\",\"bait\",\"overheated\",\"execution\",\"malfunctioned\",\"attempted\",\"straw\",\"sporadically\",\"unsatisfactory\",\"burnt\",\"wasting\",\"defected\",\"pathetic\",\"poorly\",\"goodwill\",\"hazardous\",\"tryed\",\"dud\",\"refunded\",\"trashed\",\"unusable\",\"buyer\",\"false\",\"reseller\",\"useless\",\"pissed\",\"froze\",\"avail\",\"beware\",\"inoperable\",\"reputable\",\"waist\",\"unlucky\",\"quit\",\"rude\",\"credited\",\"nope\",\"rma\",\"shoddy\",\"abysmal\",\"aggravation\",\"emails\",\"poor\",\"smoke\",\"suck\",\"acknowledge\",\"reply\",\"injury\",\"malfunctioning\",\"horrendous\",\"reinstalled\",\"atrocious\",\"repackaged\",\"unreliable\",\"wiggled\",\"embarrassed\",\"february\",\"asap\",\"ceased\",\"intermittently\",\"crapped\",\"knockoffs\",\"angry\",\"fee\",\"dice\",\"joke\",\"wtf\",\"miserably\",\"landfill\",\"ignored\",\"substandard\",\"requested\",\"responsibility\",\"eligible\",\"melting\",\"failed\",\"horrid\",\"fluke\",\"mails\",\"scrambled\",\"returns\",\"invoice\",\"faulty\",\"blew\",\"unwatchable\",\"receipt\",\"june\",\"exchange\",\"utterly\",\"arrival\",\"warrantee\",\"kaput\",\"flashed\",\"emailing\",\"lousy\",\"hazard\",\"unlistenable\",\"deceptive\",\"sucked\",\"september\",\"shattered\",\"refuses\",\"llc\",\"broke\",\"jiggled\",\"upset\",\"request\",\"sending\",\"flickering\",\"heed\",\"shorted\",\"october\",\"horribly\",\"filed\",\"advertising\",\"miserable\",\"april\",\"disappointment\",\"needless\",\"contacting\",\"merchandise\",\"bulb\",\"advertisement\",\"tomorrow\",\"november\",\"warranty\",\"dissapointing\",\"troubleshooting\",\"barley\",\"fatal\",\"chalk\",\"upsetting\",\"garbled\",\"thereafter\",\"unopened\",\"disapointed\",\"rendering\",\"sent\",\"march\",\"dissapointed\",\"disappointing\",\"sucks\",\"send\",\"waited\",\"randomly\",\"cheaply\",\"leaked\",\"altogether\",\"january\",\"sorry\",\"stinks\",\"august\",\"verified\",\"december\",\"died\",\"inferior\",\"snowy\",\"fakes\",\"feb\",\"qa\",\"dissappointed\",\"disappointed\",\"incompatible\",\"excited\",\"worse\",\"nightmare\",\"discarded\",\"skipped\",\"flicker\",\"replied\",\"july\",\"credit\",\"screeching\",\"shame\",\"dead\",\"unsuccessful\",\"bulbs\",\"crackly\",\"mad\",\"unresponsive\",\"fell\",\"crashed\",\"hopes\",\"fiddled\",\"unreadable\",\"message\",\"absurd\",\"exchanged\",\"inc\",\"embarrassing\",\"attempting\",\"sad\",\"instructed\",\"attempts\",\"dealer\",\"contacted\",\"batch\",\"ugh\",\"brazil\",\"flickers\",\"representative\",\"corroded\",\"repair\",\"flawed\",\"dismay\",\"weeks\",\"inspected\",\"believed\",\"loyal\",\"distributor\",\"contact\",\"sorely\",\"lasted\",\"emailed\",\"throwing\",\"unable\",\"jiggling\",\"mislead\",\"luck\",\"disaster\",\"followed\",\"resetting\",\"sept\",\"total\",\"mailed\",\"ship\",\"staticky\",\"warrenty\",\"submitted\",\"boo\",\"neither\",\"fried\",\"exposing\",\"zero\",\"ruined\",\"lamp\",\"began\",\"intermittent\",\"suddenly\",\"told\",\"insisted\",\"burners\",\"warped\",\"frozen\",\"rebooting\",\"trusted\",\"inexplicably\",\"proceeded\",\"broken\",\"lamps\",\"advise\",\"seller\",\"awaiting\",\"tonight\",\"spoke\",\"believing\",\"mailing\",\"favor\",\"email\",\"recognize\",\"bin\",\"jan\",\"exchanging\",\"inspection\",\"kodak\",\"officially\",\"opened\",\"dangerous\",\"eforcity\",\"issued\",\"money\",\"avoid\",\"stuck\",\"requests\",\"bust\",\"paperwork\",\"excuse\",\"troubleshoot\",\"restarted\",\"heated\",\"authentic\",\"unimpressed\",\"oct\",\"rejected\",\"absolute\",\"wouldnt\",\"chinese\",\"merchant\",\"week\",\"tossed\",\"corrupted\",\"tried\",\"called\",\"shocks\",\"sudden\",\"fooled\",\"unbearable\",\"malfunction\",\"defect\",\"odds\",\"snapped\",\"genuine\",\"mistake\",\"existent\",\"badly\",\"pile\",\"respond\",\"renders\",\"disconnected\",\"supplier\",\"informed\",\"month\",\"crappy\",\"abruptly\",\"reconnected\",\"bummed\",\"hoops\",\"agreed\",\"freezes\",\"passed\",\"nov\",\"appeared\",\"existant\",\"ruins\",\"registered\",\"skips\",\"responding\",\"crackling\",\"started\",\"promising\",\"suspicious\",\"reordered\",\"warranties\",\"happened\",\"months\",\"didnt\",\"tore\",\"burned\",\"wiggling\",\"misleading\",\"shorting\",\"toilet\",\"burst\",\"within\",\"buzzes\",\"inspiron\",\"mitsubishi\",\"defeats\",\"easycap\",\"checked\",\"sylvania\",\"slightest\",\"warn\",\"repaired\",\"unplugged\",\"reboots\",\"sadly\",\"submit\",\"rebooted\",\"recognized\",\"rep\",\"nonexistent\",\"vendor\",\"deceiving\",\"confirmed\",\"prepaid\",\"blurry\",\"referred\",\"smell\",\"sellers\",\"notified\",\"aug\",\"scrap\",\"dec\",\"accepted\",\"pluged\",\"recognizing\",\"recieved\",\"hde\",\"staticy\",\"earned\",\"inform\",\"shortly\",\"memorex\",\"valid\",\"responded\",\"frustrated\",\"company\",\"manufacturing\",\"fees\",\"thrown\",\"partial\",\"explode\",\"stating\",\"failure\",\"smells\",\"rip\",\"functioning\",\"quote\",\"shortage\",\"erratic\",\"legitimate\",\"please\",\"impossible\",\"waiting\",\"refuse\",\"repeatedly\",\"junky\",\"busted\",\"jiggle\",\"sincerely\",\"scratchy\",\"failing\",\"hopeful\",\"crashes\",\"detached\",\"melt\",\"distorted\",\"mail\",\"frustrating\",\"toast\",\"restarting\",\"incomplete\",\"approved\",\"inaudible\",\"assistance\",\"progressively\",\"static\",\"manufacturer\"],\"x1\":{\"__ndarray__\":\"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\",\"dtype\":\"float32\",\"order\":\"little\",\"shape\":[1000]},\"x2\":{\"__ndarray__\":\"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\",\"dtype\":\"float32\",\"order\":\"little\",\"shape\":[1000]}},\"selected\":{\"id\":\"9297\"},\"selection_policy\":{\"id\":\"9298\"}},\"id\":\"9018\",\"type\":\"ColumnDataSource\"},{\"attributes\":{\"data_source\":{\"id\":\"9018\"},\"glyph\":{\"id\":\"9020\"},\"hover_glyph\":null,\"muted_glyph\":null,\"nonselection_glyph\":{\"id\":\"9021\"},\"selection_glyph\":null,\"view\":{\"id\":\"9023\"}},\"id\":\"9022\",\"type\":\"GlyphRenderer\"}],\"root_ids\":[\"8990\"]},\"title\":\"Bokeh Application\",\"version\":\"2.2.3\"}};\n",
       "  var render_items = [{\"docid\":\"5d15f24b-7edb-4994-aa27-60e03a8a31ba\",\"root_ids\":[\"8990\"],\"roots\":{\"8990\":\"ab35d946-f0e5-4baa-803a-608f38a071bd\"}}];\n",
       "  root.Bokeh.embed.embed_items_notebook(docs_json, render_items);\n",
       "\n",
       "  }\n",
       "  if (root.Bokeh !== undefined) {\n",
       "    embed_document(root);\n",
       "  } else {\n",
       "    var attempts = 0;\n",
       "    var timer = setInterval(function(root) {\n",
       "      if (root.Bokeh !== undefined) {\n",
       "        clearInterval(timer);\n",
       "        embed_document(root);\n",
       "      } else {\n",
       "        attempts++;\n",
       "        if (attempts > 100) {\n",
       "          clearInterval(timer);\n",
       "          console.log(\"Bokeh: ERROR: Unable to run BokehJS code because BokehJS library is missing\");\n",
       "        }\n",
       "      }\n",
       "    }, 10, root)\n",
       "  }\n",
       "})(window);"
      ],
      "application/vnd.bokehjs_exec.v0+json": ""
     },
     "metadata": {
      "application/vnd.bokehjs_exec.v0+json": {
       "id": "8990"
      }
     },
     "output_type": "display_data"
    }
   ],
   "source": [
    "p = figure(tools='pan,wheel_zoom,reset,save',\n",
    "          toolbar_location='above',\n",
    "          title = 'vector T-SNE for most polarized words')\n",
    "\n",
    "source = ColumnDataSource(data=dict(x1=words_tsne[:,0],\n",
    "                                   x2=words_tsne[:,1],\n",
    "                                   names=words_to_visualize,\n",
    "                                   color=colors_list))\n",
    "p.scatter(x='x1', y='x2', size=8, source=source, color='color')\n",
    "\n",
    "word_labels = LabelSet(x='x1', y='x2', text='names', y_offset=6,\n",
    "                      text_font_size='8pt', text_color='#555555',\n",
    "                      source=source, text_align='center')\n",
    "# p.add_layout(word_labels)\n",
    "show(p)\n",
    "# green indicates not negative words, black indicates negative words"
   ]
  },
  {
   "cell_type": "markdown",
   "metadata": {},
   "source": [
    "## RNN by using LSTM and word Embeding"
   ]
  },
  {
   "cell_type": "markdown",
   "metadata": {},
   "source": [
    "### Preprocessing Data"
   ]
  },
  {
   "cell_type": "code",
   "execution_count": 585,
   "metadata": {},
   "outputs": [
    {
     "data": {
      "text/plain": [
       "array([list(['not', 'the', 'right', 'size']),\n",
       "       list(['they', 'come', 'in', 'a', 'blister', 'pack', 'of', 'batteries', 'the', 'use', 'by', 'dates', 'are', 'all', 'ok', 'no', 'out', 'of', 'date', 'batteries', 'received', 'br', 'br', 'i', 've', 'used', 'these', 'in', 'items', 'so', 'far', 'for', 'the', 'last', 'months', 'and', 'had', 'no', 'issues', 'whatsoever', 'br', 'br', 'cheap', 'price', 'and', 'fast', 'shipping']),\n",
       "       list(['never', 'again', 'hard', 'too', 'set', 'up']), ...,\n",
       "       list(['stopped', 'working', 'all', 'together', 'after', 'about', 'days', 'i', 'assume', 'it', 'was', 'from', 'sweat', 'but', 'i', 'couldn', 't', 'get', 'it', 'to', 'power', 'on', 'after', 'months', 'of', 'heavy', 'use', 'i', 'guess', 'it', 's', 'worth', 'but', 'not', 'much', 'more']),\n",
       "       list(['horrible', 'batteries', 'dont', 'hold', 'a', 'charge', 'constantly', 'changing', 'batteries', 'wouldent', 'recommend', 'these', 'to', 'anyone']),\n",
       "       list(['these', 'were', 'the', 'worst', 'earphones', 'i', 'have', 'ever', 'bought', 'and', 'they', 'were', 'the', 'most', 'expensive', 'they', 'did', 'not', 'stay', 'in', 'my', 'ear', 'and', 'the', 'sound', 'quality', 'constantly', 'changed', 'even', 'on', 'the', 'same', 'song', 'when', 'running', 'or', 'laying', 'down', 'they', 'moved', 'in', 'and', 'out', 'of', 'my', 'ears'])],\n",
       "      dtype=object)"
      ]
     },
     "execution_count": 585,
     "metadata": {},
     "output_type": "execute_result"
    }
   ],
   "source": [
    "data = df5['clean_review'].map(word_tokenize).values\n",
    "data"
   ]
  },
  {
   "cell_type": "code",
   "execution_count": 600,
   "metadata": {},
   "outputs": [],
   "source": [
    "#list of all the unique words in all reviews\n",
    "vocab = sorted(total_counts, key=total_counts.get, reverse=True) #sorted from high frequency words to low"
   ]
  },
  {
   "cell_type": "code",
   "execution_count": 605,
   "metadata": {},
   "outputs": [],
   "source": [
    "#because I want to use 0 padding for my reviews I wanted the index to start from 1\n",
    "vocab_to_int = {word:idx for idx,word in enumerate(vocab, 1)}"
   ]
  },
  {
   "cell_type": "code",
   "execution_count": 617,
   "metadata": {},
   "outputs": [],
   "source": [
    "df6 = df5.copy()"
   ]
  },
  {
   "cell_type": "code",
   "execution_count": 618,
   "metadata": {},
   "outputs": [],
   "source": [
    "def data_to_int(x):\n",
    "    return [vocab_to_int[word] for word in x.split()]"
   ]
  },
  {
   "cell_type": "code",
   "execution_count": 619,
   "metadata": {},
   "outputs": [],
   "source": [
    "#Engineered a new column to include each review in integers\n",
    "df6['data_to_int'] = df6['clean_review'].map(lambda x: data_to_int(x))"
   ]
  },
  {
   "cell_type": "code",
   "execution_count": 621,
   "metadata": {},
   "outputs": [],
   "source": [
    "#reviews with not negative emotions labeled as 1 and the negative review emotions labeled as 0 \n",
    "def labeling(row):\n",
    "    if row.emotion == 'Not Negative':\n",
    "        return 1\n",
    "    else:\n",
    "        return 0    "
   ]
  },
  {
   "cell_type": "code",
   "execution_count": 627,
   "metadata": {},
   "outputs": [],
   "source": [
    "df6['label'] = df6.apply(lambda row: labeling(row), axis=1)"
   ]
  },
  {
   "cell_type": "code",
   "execution_count": 628,
   "metadata": {},
   "outputs": [],
   "source": [
    "df6.drop(columns=['star_rating', 'review_body'], axis=1, inplace=True)"
   ]
  },
  {
   "cell_type": "code",
   "execution_count": 727,
   "metadata": {},
   "outputs": [
    {
     "data": {
      "text/html": [
       "<div>\n",
       "<style scoped>\n",
       "    .dataframe tbody tr th:only-of-type {\n",
       "        vertical-align: middle;\n",
       "    }\n",
       "\n",
       "    .dataframe tbody tr th {\n",
       "        vertical-align: top;\n",
       "    }\n",
       "\n",
       "    .dataframe thead th {\n",
       "        text-align: right;\n",
       "    }\n",
       "</style>\n",
       "<table border=\"1\" class=\"dataframe\">\n",
       "  <thead>\n",
       "    <tr style=\"text-align: right;\">\n",
       "      <th></th>\n",
       "      <th>emotion</th>\n",
       "      <th>clean_review</th>\n",
       "      <th>data_to_int</th>\n",
       "      <th>label</th>\n",
       "    </tr>\n",
       "  </thead>\n",
       "  <tbody>\n",
       "    <tr>\n",
       "      <th>0</th>\n",
       "      <td>Negative</td>\n",
       "      <td>not the right size</td>\n",
       "      <td>[16, 1, 139, 253]</td>\n",
       "      <td>0</td>\n",
       "    </tr>\n",
       "    <tr>\n",
       "      <th>1</th>\n",
       "      <td>Not Negative</td>\n",
       "      <td>they come in a blister pack of batteries the u...</td>\n",
       "      <td>[24, 246, 13, 6, 7381, 934, 9, 185, 1, 49, 106...</td>\n",
       "      <td>1</td>\n",
       "    </tr>\n",
       "    <tr>\n",
       "      <th>2</th>\n",
       "      <td>Negative</td>\n",
       "      <td>never again hard too set up</td>\n",
       "      <td>[183, 144, 251, 98, 120, 50]</td>\n",
       "      <td>0</td>\n",
       "    </tr>\n",
       "    <tr>\n",
       "      <th>3</th>\n",
       "      <td>Negative</td>\n",
       "      <td>i bought two units and place them side by side...</td>\n",
       "      <td>[2, 78, 109, 790, 5, 369, 36, 242, 106, 242, 3...</td>\n",
       "      <td>0</td>\n",
       "    </tr>\n",
       "    <tr>\n",
       "      <th>4</th>\n",
       "      <td>Not Negative</td>\n",
       "      <td>this cable is exactly what i needed they are c...</td>\n",
       "      <td>[11, 69, 7, 437, 67, 2, 236, 24, 26, 168, 17, ...</td>\n",
       "      <td>1</td>\n",
       "    </tr>\n",
       "  </tbody>\n",
       "</table>\n",
       "</div>"
      ],
      "text/plain": [
       "        emotion                                       clean_review  \\\n",
       "0      Negative                                not the right size    \n",
       "1  Not Negative  they come in a blister pack of batteries the u...   \n",
       "2      Negative                       never again hard too set up    \n",
       "3      Negative  i bought two units and place them side by side...   \n",
       "4  Not Negative  this cable is exactly what i needed they are c...   \n",
       "\n",
       "                                         data_to_int  label  \n",
       "0                                  [16, 1, 139, 253]      0  \n",
       "1  [24, 246, 13, 6, 7381, 934, 9, 185, 1, 49, 106...      1  \n",
       "2                       [183, 144, 251, 98, 120, 50]      0  \n",
       "3  [2, 78, 109, 790, 5, 369, 36, 242, 106, 242, 3...      0  \n",
       "4  [11, 69, 7, 437, 67, 2, 236, 24, 26, 168, 17, ...      1  "
      ]
     },
     "execution_count": 727,
     "metadata": {},
     "output_type": "execute_result"
    }
   ],
   "source": [
    "df6.head()"
   ]
  },
  {
   "cell_type": "code",
   "execution_count": 630,
   "metadata": {},
   "outputs": [],
   "source": [
    "review_lengths = Counter([len(x) for x in df6.data_to_int])"
   ]
  },
  {
   "cell_type": "code",
   "execution_count": 640,
   "metadata": {},
   "outputs": [
    {
     "name": "stdout",
     "output_type": "stream",
     "text": [
      "Zero-Length Reviews: 203\n"
     ]
    }
   ],
   "source": [
    "#number of reviews with no length (zero-length), which are gonna be problematic in the near future!!!\n",
    "print('Zero-Length Reviews: {}'.format(review_lengths[0]))  "
   ]
  },
  {
   "cell_type": "code",
   "execution_count": 664,
   "metadata": {},
   "outputs": [],
   "source": [
    "#remove all the rows with zero-length reviews\n",
    "df6.drop(df6[df6['data_to_int'].map(len) == 0].index, inplace=True)"
   ]
  },
  {
   "cell_type": "code",
   "execution_count": 641,
   "metadata": {},
   "outputs": [
    {
     "name": "stdout",
     "output_type": "stream",
     "text": [
      "Maximum Reviews Length: 7358\n"
     ]
    }
   ],
   "source": [
    "#as we can see we have a review as long as 7358 words!\n",
    "print('Maximum Reviews Length: {}'.format(max(review_lengths)))"
   ]
  },
  {
   "cell_type": "code",
   "execution_count": 745,
   "metadata": {},
   "outputs": [],
   "source": [
    "reviews_less_than_100 = []\n",
    "reviews_more_than_100 = []\n",
    "for tupled in review_lengths.most_common():\n",
    "    if (tupled[0] < 101):\n",
    "        reviews_less_than_100.append(tupled[1])\n",
    "    else:\n",
    "        reviews_more_than_100.append(tupled[1])"
   ]
  },
  {
   "cell_type": "code",
   "execution_count": 792,
   "metadata": {},
   "outputs": [
    {
     "name": "stdout",
     "output_type": "stream",
     "text": [
      "Number of reviews with length of less than 100 words: 839906\n"
     ]
    }
   ],
   "source": [
    "#as we can see almost 84% of our data belongs to reviews with less than 100 words\n",
    "print('Number of reviews with length of less than 100 words: {}'.format(sum(reviews_less_than_100)))"
   ]
  },
  {
   "cell_type": "code",
   "execution_count": 793,
   "metadata": {},
   "outputs": [
    {
     "name": "stdout",
     "output_type": "stream",
     "text": [
      "Number of reviews with length of more than 100 words: 173070\n"
     ]
    }
   ],
   "source": [
    "#as we can see almost 17% of our data belongs to reviews with more than 100 words\n",
    "print('Number of reviews with length of more than 100 words: {}'.format(sum(reviews_more_than_100)))"
   ]
  },
  {
   "cell_type": "code",
   "execution_count": 749,
   "metadata": {},
   "outputs": [],
   "source": [
    "seq_len = 100\n",
    "#initialize an array of all zeros\n",
    "#There is one row for each review and each review is gonna be 100 sequence steps (seq_len) long \n",
    "features = np.zeros((len(df6), seq_len), dtype=int)\n",
    "\n",
    "for i, row in enumerate(df6.data_to_int):\n",
    "    features[i, -len(row):] = np.array(row)[:seq_len]"
   ]
  },
  {
   "cell_type": "markdown",
   "metadata": {},
   "source": [
    "* After I grab each review and associate its index to it by using enumerate\n",
    "\n",
    "\n",
    "* in the left side of equation above I am grabing row(i) and the number of columns from the end (-len(row):) in features variable; It is helpful for reviews with less than 100 words length, and it helps us to do the padding as well\n",
    "\n",
    "\n",
    "* And on the right side besides i'm turning it to an array, I am also just considering the first 100 words of each review (we are processing only the first 200 words of each review)\n"
   ]
  },
  {
   "cell_type": "code",
   "execution_count": 751,
   "metadata": {},
   "outputs": [
    {
     "data": {
      "text/plain": [
       "array([[   0,    0,    0,    0,    0,    0,    0,    0,    0,    0,    0,\n",
       "           0,    0,    0,    0,    0,    0,    0,    0,    0,    0,    0,\n",
       "           0,    0,    0,    0,    0,    0,    0,    0,    0,    0,    0,\n",
       "           0,    0,    0,    0,    0,    0,    0,    0,    0,    0,    0,\n",
       "           0,    0,   16,    1,  139,  253],\n",
       "       [   0,    0,    0,   24,  246,   13,    6, 7381,  934,    9,  185,\n",
       "           1,   49,  106, 7529,   26,   45,  239,   51,   41,    9, 1243,\n",
       "         185,  229,   14,   14,    2,  115,  105,   30,   13,  805,   27,\n",
       "         204,    8,    1,  203,  162,    5,   43,   51,  381, 2044,   14,\n",
       "          14,  168,   73,    5,  486,  377]])"
      ]
     },
     "execution_count": 751,
     "metadata": {},
     "output_type": "execute_result"
    }
   ],
   "source": [
    "#As an example: we are looking at the first 2 rows and the last 50 columns (from 50 to 100)\n",
    "features[:2,50:100]"
   ]
  },
  {
   "cell_type": "code",
   "execution_count": 752,
   "metadata": {},
   "outputs": [],
   "source": [
    "#turn the labels to numpy array to increase speed and consistency in our data format\n",
    "labels = np.array(df6.label)"
   ]
  },
  {
   "cell_type": "markdown",
   "metadata": {},
   "source": [
    "### Train Test Split"
   ]
  },
  {
   "cell_type": "code",
   "execution_count": 753,
   "metadata": {},
   "outputs": [],
   "source": [
    "X_train1, X_test1, y_train1, y_test1 = train_test_split(features,labels,test_size=0.20, random_state= 52)"
   ]
  },
  {
   "cell_type": "code",
   "execution_count": 754,
   "metadata": {},
   "outputs": [],
   "source": [
    "#split our data to have 10% for test and 10% for validation\n",
    "X_test2, X_val2, y_test2, y_val2 = train_test_split(X_test1, y_test1, test_size=0.5, random_state=52)"
   ]
  },
  {
   "cell_type": "code",
   "execution_count": 755,
   "metadata": {},
   "outputs": [
    {
     "name": "stdout",
     "output_type": "stream",
     "text": [
      "\t\t\tFeature Shapes:\n",
      "Train Set: \t\t(810218, 100) \n",
      "Validation set: \t(101278, 100) \n",
      "Test Set: \t\t(101277, 100)\n"
     ]
    }
   ],
   "source": [
    "print(\"\\t\\t\\tFeature Shapes:\")\n",
    "print(\"Train Set: \\t\\t{}\".format(X_train1.shape),\n",
    "     \"\\nValidation set: \\t{}\".format(X_val2.shape),\n",
    "     \"\\nTest Set: \\t\\t{}\".format(X_test2.shape))"
   ]
  },
  {
   "cell_type": "markdown",
   "metadata": {},
   "source": [
    "### First Model"
   ]
  },
  {
   "cell_type": "code",
   "execution_count": 756,
   "metadata": {},
   "outputs": [],
   "source": [
    "n_words =len(vocab)"
   ]
  },
  {
   "cell_type": "code",
   "execution_count": 703,
   "metadata": {},
   "outputs": [],
   "source": [
    "lstm_size = 256\n",
    "lstm_layers = 1\n",
    "batch_size = 500\n",
    "learning_rate = 0.001"
   ]
  },
  {
   "cell_type": "code",
   "execution_count": 736,
   "metadata": {},
   "outputs": [],
   "source": [
    "model = Sequential()"
   ]
  },
  {
   "cell_type": "code",
   "execution_count": 737,
   "metadata": {},
   "outputs": [],
   "source": [
    "embedding_size = 300\n",
    "model.add(Embedding(n_words+1, embedding_size))\n",
    "model.add(LSTM(256, return_sequences=True))\n",
    "model.add(Dropout(0.5))\n",
    "model.add(Dense(1, activation='sigmoid'))"
   ]
  },
  {
   "cell_type": "code",
   "execution_count": 738,
   "metadata": {},
   "outputs": [],
   "source": [
    "model.compile(loss='binary_crossentropy', \n",
    "              optimizer='adam', \n",
    "              metrics=['accuracy'])"
   ]
  },
  {
   "cell_type": "code",
   "execution_count": 743,
   "metadata": {},
   "outputs": [
    {
     "name": "stdout",
     "output_type": "stream",
     "text": [
      "Model: \"sequential_2\"\n",
      "_________________________________________________________________\n",
      "Layer (type)                 Output Shape              Param #   \n",
      "=================================================================\n",
      "embedding_2 (Embedding)      (None, None, 300)         42743700  \n",
      "_________________________________________________________________\n",
      "lstm_2 (LSTM)                (None, None, 256)         570368    \n",
      "_________________________________________________________________\n",
      "dropout_2 (Dropout)          (None, None, 256)         0         \n",
      "_________________________________________________________________\n",
      "dense_2 (Dense)              (None, None, 1)           257       \n",
      "=================================================================\n",
      "Total params: 43,314,325\n",
      "Trainable params: 43,314,325\n",
      "Non-trainable params: 0\n",
      "_________________________________________________________________\n"
     ]
    }
   ],
   "source": [
    "model.summary()"
   ]
  },
  {
   "cell_type": "code",
   "execution_count": 741,
   "metadata": {},
   "outputs": [],
   "source": [
    "early_stopping = tf.keras.callbacks.EarlyStopping(monitor=\"val_loss\",min_delta=0,patience=3,verbose=0,mode=\"auto\",\n",
    "                                                  restore_best_weights=True)"
   ]
  },
  {
   "cell_type": "code",
   "execution_count": 740,
   "metadata": {},
   "outputs": [
    {
     "name": "stdout",
     "output_type": "stream",
     "text": [
      "Epoch 1/20\n",
      "811/811 [==============================] - 4888s 6s/step - loss: 0.6449 - accuracy: 0.6213 - val_loss: 0.6200 - val_accuracy: 0.6400\n",
      "Epoch 2/20\n",
      "811/811 [==============================] - 4700s 6s/step - loss: 0.6153 - accuracy: 0.6444 - val_loss: 0.6185 - val_accuracy: 0.6418\n",
      "Epoch 3/20\n",
      "811/811 [==============================] - 4736s 6s/step - loss: 0.6066 - accuracy: 0.6492 - val_loss: 0.6154 - val_accuracy: 0.6444\n",
      "Epoch 4/20\n",
      "811/811 [==============================] - 4676s 6s/step - loss: 0.5992 - accuracy: 0.6530 - val_loss: 0.6175 - val_accuracy: 0.6444\n",
      "Epoch 5/20\n",
      "811/811 [==============================] - 4812s 6s/step - loss: 0.5914 - accuracy: 0.6568 - val_loss: 0.6234 - val_accuracy: 0.6433\n",
      "Epoch 6/20\n",
      "811/811 [==============================] - 4726s 6s/step - loss: 0.5850 - accuracy: 0.6604 - val_loss: 0.6319 - val_accuracy: 0.6434\n"
     ]
    },
    {
     "data": {
      "text/plain": [
       "<tensorflow.python.keras.callbacks.History at 0x7fdfd94f47f0>"
      ]
     },
     "execution_count": 740,
     "metadata": {},
     "output_type": "execute_result"
    }
   ],
   "source": [
    "#trained base on validation accuracy for early stopping\n",
    "model.fit(X_train1, y_train1, epochs=20,callbacks=[early_stopping], batch_size=1000, validation_data=(X_val2, y_val2))"
   ]
  },
  {
   "cell_type": "code",
   "execution_count": 742,
   "metadata": {},
   "outputs": [
    {
     "name": "stdout",
     "output_type": "stream",
     "text": [
      "Epoch 1/20\n",
      "811/811 [==============================] - 4692s 6s/step - loss: 0.5988 - accuracy: 0.6532 - val_loss: 0.6150 - val_accuracy: 0.6436\n",
      "Epoch 2/20\n",
      "811/811 [==============================] - 4727s 6s/step - loss: 0.5932 - accuracy: 0.6561 - val_loss: 0.6201 - val_accuracy: 0.6437\n",
      "Epoch 3/20\n",
      "811/811 [==============================] - 4640s 6s/step - loss: 0.5882 - accuracy: 0.6584 - val_loss: 0.6282 - val_accuracy: 0.6425\n",
      "Epoch 4/20\n",
      "811/811 [==============================] - 4628s 6s/step - loss: 0.5817 - accuracy: 0.6616 - val_loss: 0.6320 - val_accuracy: 0.6418\n"
     ]
    },
    {
     "data": {
      "text/plain": [
       "<tensorflow.python.keras.callbacks.History at 0x7fdfd949a630>"
      ]
     },
     "execution_count": 742,
     "metadata": {},
     "output_type": "execute_result"
    }
   ],
   "source": [
    "#trained base on validation loss for early stopping\n",
    "model.fit(X_train1, y_train1, epochs=20,callbacks=[early_stopping], batch_size=1000, validation_data=(X_val2, y_val2))"
   ]
  },
  {
   "cell_type": "code",
   "execution_count": 896,
   "metadata": {},
   "outputs": [],
   "source": [
    "model.save('Models/model.h5')\n",
    "model.save_weights('Models/model_w.h5')"
   ]
  },
  {
   "cell_type": "markdown",
   "metadata": {},
   "source": [
    "### Second Model"
   ]
  },
  {
   "cell_type": "code",
   "execution_count": 744,
   "metadata": {},
   "outputs": [],
   "source": [
    "model2 = Sequential()"
   ]
  },
  {
   "cell_type": "code",
   "execution_count": 757,
   "metadata": {},
   "outputs": [],
   "source": [
    "embedding_size = 128\n",
    "model2.add(Embedding(n_words+1, embedding_size))\n",
    "model2.add(LSTM(256, return_sequences=True))\n",
    "model2.add(GlobalMaxPool1D())\n",
    "model2.add(Dropout(0.2))\n",
    "model2.add(Dense(1, activation='sigmoid'))"
   ]
  },
  {
   "cell_type": "code",
   "execution_count": 761,
   "metadata": {},
   "outputs": [],
   "source": [
    "model2.compile(loss='binary_crossentropy', \n",
    "              optimizer='adam', \n",
    "              metrics=['accuracy'])"
   ]
  },
  {
   "cell_type": "code",
   "execution_count": 762,
   "metadata": {},
   "outputs": [
    {
     "name": "stdout",
     "output_type": "stream",
     "text": [
      "Model: \"sequential_3\"\n",
      "_________________________________________________________________\n",
      "Layer (type)                 Output Shape              Param #   \n",
      "=================================================================\n",
      "embedding_3 (Embedding)      (None, None, 128)         18237312  \n",
      "_________________________________________________________________\n",
      "lstm_3 (LSTM)                (None, None, 256)         394240    \n",
      "_________________________________________________________________\n",
      "global_max_pooling1d (Global (None, 256)               0         \n",
      "_________________________________________________________________\n",
      "dropout_3 (Dropout)          (None, 256)               0         \n",
      "_________________________________________________________________\n",
      "dense_3 (Dense)              (None, 1)                 257       \n",
      "=================================================================\n",
      "Total params: 18,631,809\n",
      "Trainable params: 18,631,809\n",
      "Non-trainable params: 0\n",
      "_________________________________________________________________\n"
     ]
    }
   ],
   "source": [
    "model2.summary()"
   ]
  },
  {
   "cell_type": "code",
   "execution_count": 763,
   "metadata": {},
   "outputs": [
    {
     "name": "stdout",
     "output_type": "stream",
     "text": [
      "Epoch 1/20\n",
      "811/811 [==============================] - 1796s 2s/step - loss: 0.4342 - accuracy: 0.7898 - val_loss: 0.3225 - val_accuracy: 0.8596\n",
      "Epoch 2/20\n",
      "811/811 [==============================] - 1790s 2s/step - loss: 0.3065 - accuracy: 0.8679 - val_loss: 0.3142 - val_accuracy: 0.8629\n",
      "Epoch 3/20\n",
      "811/811 [==============================] - 1843s 2s/step - loss: 0.2819 - accuracy: 0.8797 - val_loss: 0.3055 - val_accuracy: 0.8671\n",
      "Epoch 4/20\n",
      "811/811 [==============================] - 1780s 2s/step - loss: 0.2606 - accuracy: 0.8904 - val_loss: 0.3070 - val_accuracy: 0.8673\n",
      "Epoch 5/20\n",
      "811/811 [==============================] - 1796s 2s/step - loss: 0.2402 - accuracy: 0.9008 - val_loss: 0.3181 - val_accuracy: 0.8652\n",
      "Epoch 6/20\n",
      "811/811 [==============================] - 1847s 2s/step - loss: 0.2207 - accuracy: 0.9093 - val_loss: 0.3326 - val_accuracy: 0.8636\n"
     ]
    },
    {
     "data": {
      "text/plain": [
       "<tensorflow.python.keras.callbacks.History at 0x7fe6c8e03ac8>"
      ]
     },
     "execution_count": 763,
     "metadata": {},
     "output_type": "execute_result"
    }
   ],
   "source": [
    "model2.fit(X_train1, y_train1, epochs=20,callbacks=[early_stopping],\n",
    "           batch_size=1000, validation_data=(X_val2, y_val2))"
   ]
  },
  {
   "cell_type": "code",
   "execution_count": 897,
   "metadata": {},
   "outputs": [],
   "source": [
    "model2.save('Models/model2.h5')\n",
    "model2.save_weights('Models/model2_w.h5')"
   ]
  },
  {
   "cell_type": "code",
   "execution_count": 773,
   "metadata": {},
   "outputs": [],
   "source": [
    "y_pred = model2.predict(X_test2)"
   ]
  },
  {
   "cell_type": "code",
   "execution_count": 774,
   "metadata": {},
   "outputs": [
    {
     "data": {
      "text/plain": [
       "array([[0.17837316],\n",
       "       [0.03145787],\n",
       "       [0.96334577],\n",
       "       [0.13003096],\n",
       "       [0.97935295]], dtype=float32)"
      ]
     },
     "execution_count": 774,
     "metadata": {},
     "output_type": "execute_result"
    }
   ],
   "source": [
    "y_pred[:5]"
   ]
  },
  {
   "cell_type": "code",
   "execution_count": 775,
   "metadata": {},
   "outputs": [],
   "source": [
    "y_pred1 = np.where(y_pred > 0.49, 1, 0)"
   ]
  },
  {
   "cell_type": "code",
   "execution_count": 776,
   "metadata": {},
   "outputs": [
    {
     "data": {
      "text/plain": [
       "array([[0],\n",
       "       [0],\n",
       "       [1],\n",
       "       [0],\n",
       "       [1]])"
      ]
     },
     "execution_count": 776,
     "metadata": {},
     "output_type": "execute_result"
    }
   ],
   "source": [
    "y_pred1[:5]"
   ]
  },
  {
   "cell_type": "code",
   "execution_count": 779,
   "metadata": {},
   "outputs": [
    {
     "name": "stdout",
     "output_type": "stream",
     "text": [
      "              precision    recall  f1-score   support\n",
      "\n",
      "           0       0.85      0.83      0.84     41710\n",
      "           1       0.88      0.90      0.89     59567\n",
      "\n",
      "    accuracy                           0.87    101277\n",
      "   macro avg       0.86      0.86      0.86    101277\n",
      "weighted avg       0.87      0.87      0.87    101277\n",
      "\n"
     ]
    }
   ],
   "source": [
    "clf_report = classification_report(y_test2,y_pred1)\n",
    "print(clf_report)"
   ]
  },
  {
   "cell_type": "code",
   "execution_count": 780,
   "metadata": {},
   "outputs": [
    {
     "data": {
      "image/png": "[encoded data removed]",
      "text/plain": [
       "<Figure size 576x504 with 1 Axes>"
      ]
     },
     "metadata": {
      "needs_background": "light"
     },
     "output_type": "display_data"
    }
   ],
   "source": [
    "cm = confusion_matrix(y_test2,y_pred1)\n",
    "plot_confusion_matrix(conf_mat = cm,figsize=(8,7),class_names = ['Negative', 'Not Negative'],\n",
    "                     show_normed=True);"
   ]
  },
  {
   "cell_type": "markdown",
   "metadata": {},
   "source": [
    "### Testing a Review"
   ]
  },
  {
   "cell_type": "code",
   "execution_count": 820,
   "metadata": {},
   "outputs": [],
   "source": [
    "# Define a function to get the sentiment of a sentence and the probability of that particular sentence\n",
    "def get_sentiment(review):\n",
    "    voc_to_int = []\n",
    "    for word in review.split(\" \"):\n",
    "        voc_to_int.append(vocab_to_int[word])\n",
    "    feature = np.zeros((1, 100), dtype=int)\n",
    "    feature[0, -len(voc_to_int):] = np.array(voc_to_int)[:100]\n",
    "    \n",
    "    y_pred = model2.predict(feature)\n",
    "    y_pred1 = np.where(y_pred > 0.49, 1, 0)\n",
    "    if y_pred1 == 1:\n",
    "        out = 'Not Negative'\n",
    "    else:\n",
    "        out = 'Negative'\n",
    "    \n",
    "    return out , y_pred    "
   ]
  },
  {
   "cell_type": "code",
   "execution_count": 886,
   "metadata": {},
   "outputs": [],
   "source": [
    "# Some examples to test the model\n",
    "sentence_1 = 'this is not a good product'\n",
    "sentence_2 = 'this is a good product'"
   ]
  },
  {
   "cell_type": "code",
   "execution_count": 887,
   "metadata": {},
   "outputs": [
    {
     "data": {
      "image/png": "[encoded data removed]",
      "text/plain": [
       "<Figure size 432x432 with 1 Axes>"
      ]
     },
     "metadata": {
      "needs_background": "light"
     },
     "output_type": "display_data"
    }
   ],
   "source": [
    "feel , percentage = get_sentiment(sentence_1)\n",
    "not_negative_pred = float(percentage[0])*100\n",
    "\n",
    "negative_pred = 100 - not_negative_pred\n",
    "\n",
    "percentage_pred = []\n",
    "percentage_pred.append(not_negative_pred)\n",
    "percentage_pred.append(negative_pred)\n",
    "\n",
    "plt.figure(figsize=(6,6))\n",
    "plt.bar(x=[1,2], height=percentage_pred, color='Blue', tick_label=['Not_negative','Negative']);"
   ]
  },
  {
   "cell_type": "code",
   "execution_count": 888,
   "metadata": {},
   "outputs": [
    {
     "data": {
      "image/png": "[encoded data removed]",
      "text/plain": [
       "<Figure size 432x432 with 1 Axes>"
      ]
     },
     "metadata": {
      "needs_background": "light"
     },
     "output_type": "display_data"
    }
   ],
   "source": [
    "feel , percentage = get_sentiment(sentence_2)\n",
    "not_negative_pred = float(percentage[0])*100\n",
    "\n",
    "negative_pred = 100 - not_negative_pred\n",
    "\n",
    "percentage_pred = []\n",
    "percentage_pred.append(not_negative_pred)\n",
    "percentage_pred.append(negative_pred)\n",
    "\n",
    "plt.figure(figsize=(6,6))\n",
    "plt.bar(x=[1,2], height=percentage_pred, color='Blue', tick_label=['Not_negative','Negative']);"
   ]
  }
 ],
 "metadata": {
  "kernelspec": {
   "display_name": "Python 3",
   "language": "python",
   "name": "python3"
  },
  "language_info": {
   "codemirror_mode": {
    "name": "ipython",
    "version": 3
   },
   "file_extension": ".py",
   "mimetype": "text/x-python",
   "name": "python",
   "nbconvert_exporter": "python",
   "pygments_lexer": "ipython3",
   "version": "3.6.9"
  },
  "toc": {
   "base_numbering": 1,
   "nav_menu": {},
   "number_sections": false,
   "sideBar": true,
   "skip_h1_title": false,
   "title_cell": "Table of Contents",
   "title_sidebar": "Contents",
   "toc_cell": false,
   "toc_position": {
    "height": "calc(100% - 180px)",
    "left": "10px",
    "top": "150px",
    "width": "165px"
   },
   "toc_section_display": true,
   "toc_window_display": true
  }
 },
 "nbformat": 4,
 "nbformat_minor": 4
}
